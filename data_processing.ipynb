{
 "cells": [
  {
   "cell_type": "code",
   "execution_count": 1,
   "metadata": {},
   "outputs": [
    {
     "name": "stderr",
     "output_type": "stream",
     "text": [
      "/home/teemo/anaconda3/lib/python3.11/site-packages/pandas/core/arrays/masked.py:60: UserWarning: Pandas requires version '1.3.6' or newer of 'bottleneck' (version '1.3.5' currently installed).\n",
      "  from pandas.core import (\n"
     ]
    }
   ],
   "source": [
    "import geopandas as gpd\n",
    "import pandas as pd\n",
    "import numpy as np\n",
    "import xarray as xr\n",
    "import rioxarray\n",
    "import rasterio\n",
    "import glob\n",
    "import os\n",
    "from odc.geo.xr import xr_reproject\n",
    "from shapely.geometry import shape\n",
    "from rasterio.enums import Resampling\n",
    "from rasterio import shutil as rio_shutil\n",
    "from rasterio.vrt import WarpedVRT"
   ]
  },
  {
   "cell_type": "code",
   "execution_count": 2,
   "metadata": {},
   "outputs": [
    {
     "name": "stdout",
     "output_type": "stream",
     "text": [
      "Name: geopandas\n",
      "Version: 1.0.1\n",
      "Summary: Geographic pandas extensions\n",
      "Home-page: \n",
      "Author: \n",
      "Author-email: Kelsey Jordahl <kjordahl@alum.mit.edu>\n",
      "License: BSD 3-Clause\n",
      "Location: /home/teemo/anaconda3/lib/python3.11/site-packages\n",
      "Requires: numpy, packaging, pandas, pyogrio, pyproj, shapely\n",
      "Required-by: \n"
     ]
    }
   ],
   "source": [
    "!pip show geopandas"
   ]
  },
  {
   "cell_type": "markdown",
   "metadata": {},
   "source": [
    "# Creating the data for the boundaries - *federal_states* table\n",
    "\n",
    "the data comes from NUTS5000 \n",
    "- federal_states == Bundestaat"
   ]
  },
  {
   "cell_type": "markdown",
   "metadata": {},
   "source": [
    "## Load the data"
   ]
  },
  {
   "cell_type": "code",
   "execution_count": 3,
   "metadata": {},
   "outputs": [],
   "source": [
    "# file paths\n",
    "f_states_fp = \"../borders/NUTS5000_N1.shp\""
   ]
  },
  {
   "cell_type": "markdown",
   "metadata": {},
   "source": [
    "### Cleaning df_f_states"
   ]
  },
  {
   "cell_type": "code",
   "execution_count": 4,
   "metadata": {},
   "outputs": [
    {
     "data": {
      "text/html": [
       "<div>\n",
       "<style scoped>\n",
       "    .dataframe tbody tr th:only-of-type {\n",
       "        vertical-align: middle;\n",
       "    }\n",
       "\n",
       "    .dataframe tbody tr th {\n",
       "        vertical-align: top;\n",
       "    }\n",
       "\n",
       "    .dataframe thead th {\n",
       "        text-align: right;\n",
       "    }\n",
       "</style>\n",
       "<table border=\"1\" class=\"dataframe\">\n",
       "  <thead>\n",
       "    <tr style=\"text-align: right;\">\n",
       "      <th></th>\n",
       "      <th>OBJID</th>\n",
       "      <th>BEGINN</th>\n",
       "      <th>GF</th>\n",
       "      <th>NUTS_LEVEL</th>\n",
       "      <th>NUTS_CODE</th>\n",
       "      <th>NUTS_NAME</th>\n",
       "      <th>geometry</th>\n",
       "    </tr>\n",
       "  </thead>\n",
       "  <tbody>\n",
       "    <tr>\n",
       "      <th>0</th>\n",
       "      <td>DEBKGNU5000000C8</td>\n",
       "      <td>2021-10-04</td>\n",
       "      <td>9</td>\n",
       "      <td>1</td>\n",
       "      <td>DE1</td>\n",
       "      <td>Baden-Württemberg</td>\n",
       "      <td>MULTIPOLYGON (((477730.872 5284627.86, 478787....</td>\n",
       "    </tr>\n",
       "    <tr>\n",
       "      <th>1</th>\n",
       "      <td>DEBKGNU5000000C9</td>\n",
       "      <td>2021-10-04</td>\n",
       "      <td>9</td>\n",
       "      <td>1</td>\n",
       "      <td>DE2</td>\n",
       "      <td>Bayern</td>\n",
       "      <td>POLYGON ((792217.27 5346780.081, 787582.436 53...</td>\n",
       "    </tr>\n",
       "    <tr>\n",
       "      <th>2</th>\n",
       "      <td>DEBKGNU5000000CA</td>\n",
       "      <td>2021-10-04</td>\n",
       "      <td>9</td>\n",
       "      <td>1</td>\n",
       "      <td>DE3</td>\n",
       "      <td>Berlin</td>\n",
       "      <td>POLYGON ((791413.725 5842844.467, 790893.811 5...</td>\n",
       "    </tr>\n",
       "    <tr>\n",
       "      <th>3</th>\n",
       "      <td>DEBKGNU5000000CB</td>\n",
       "      <td>2021-10-04</td>\n",
       "      <td>9</td>\n",
       "      <td>1</td>\n",
       "      <td>DE4</td>\n",
       "      <td>Brandenburg</td>\n",
       "      <td>POLYGON ((819216.472 5702543.614, 817838.547 5...</td>\n",
       "    </tr>\n",
       "    <tr>\n",
       "      <th>4</th>\n",
       "      <td>DEBKGNU5000000CC</td>\n",
       "      <td>2021-10-04</td>\n",
       "      <td>9</td>\n",
       "      <td>1</td>\n",
       "      <td>DE5</td>\n",
       "      <td>Bremen</td>\n",
       "      <td>MULTIPOLYGON (((471011.958 5933445.037, 468446...</td>\n",
       "    </tr>\n",
       "  </tbody>\n",
       "</table>\n",
       "</div>"
      ],
      "text/plain": [
       "              OBJID     BEGINN  GF  NUTS_LEVEL NUTS_CODE          NUTS_NAME  \\\n",
       "0  DEBKGNU5000000C8 2021-10-04   9           1       DE1  Baden-Württemberg   \n",
       "1  DEBKGNU5000000C9 2021-10-04   9           1       DE2             Bayern   \n",
       "2  DEBKGNU5000000CA 2021-10-04   9           1       DE3             Berlin   \n",
       "3  DEBKGNU5000000CB 2021-10-04   9           1       DE4        Brandenburg   \n",
       "4  DEBKGNU5000000CC 2021-10-04   9           1       DE5             Bremen   \n",
       "\n",
       "                                            geometry  \n",
       "0  MULTIPOLYGON (((477730.872 5284627.86, 478787....  \n",
       "1  POLYGON ((792217.27 5346780.081, 787582.436 53...  \n",
       "2  POLYGON ((791413.725 5842844.467, 790893.811 5...  \n",
       "3  POLYGON ((819216.472 5702543.614, 817838.547 5...  \n",
       "4  MULTIPOLYGON (((471011.958 5933445.037, 468446...  "
      ]
     },
     "execution_count": 4,
     "metadata": {},
     "output_type": "execute_result"
    }
   ],
   "source": [
    "# look at the shapefile\n",
    "df_f_states = gpd.read_file(f_states_fp)\n",
    "df_f_states.head()"
   ]
  },
  {
   "cell_type": "code",
   "execution_count": 5,
   "metadata": {},
   "outputs": [],
   "source": [
    "# remove columns from df_states except for code, name and geometry:\n",
    "df_f_states = df_f_states.drop(columns = [\"OBJID\", \"BEGINN\", \"GF\", \"NUTS_LEVEL\"])"
   ]
  },
  {
   "cell_type": "code",
   "execution_count": 6,
   "metadata": {},
   "outputs": [
    {
     "data": {
      "text/plain": [
       "0    DE1\n",
       "1    DE2\n",
       "2    DE3\n",
       "3    DE4\n",
       "4    DE5\n",
       "Name: NUTS_CODE, dtype: object"
      ]
     },
     "execution_count": 6,
     "metadata": {},
     "output_type": "execute_result"
    }
   ],
   "source": [
    "states_id = df_f_states[\"NUTS_CODE\"]\n",
    "states_id.head()"
   ]
  },
  {
   "cell_type": "code",
   "execution_count": 7,
   "metadata": {},
   "outputs": [],
   "source": [
    "# convert to list\n",
    "states_id = states_id.to_list()"
   ]
  },
  {
   "cell_type": "markdown",
   "metadata": {},
   "source": [
    "## Change column names"
   ]
  },
  {
   "cell_type": "code",
   "execution_count": 22,
   "metadata": {},
   "outputs": [],
   "source": [
    "# change column names:\n",
    "df_f_states = df_f_states.rename(columns= {\"NUTS_CODE\" : \"state_id\", \"NUTS_NAME\" : \"state_name\"})"
   ]
  },
  {
   "cell_type": "code",
   "execution_count": 23,
   "metadata": {},
   "outputs": [
    {
     "data": {
      "text/html": [
       "<div>\n",
       "<style scoped>\n",
       "    .dataframe tbody tr th:only-of-type {\n",
       "        vertical-align: middle;\n",
       "    }\n",
       "\n",
       "    .dataframe tbody tr th {\n",
       "        vertical-align: top;\n",
       "    }\n",
       "\n",
       "    .dataframe thead th {\n",
       "        text-align: right;\n",
       "    }\n",
       "</style>\n",
       "<table border=\"1\" class=\"dataframe\">\n",
       "  <thead>\n",
       "    <tr style=\"text-align: right;\">\n",
       "      <th></th>\n",
       "      <th>state_id</th>\n",
       "      <th>state_name</th>\n",
       "      <th>geometry</th>\n",
       "    </tr>\n",
       "  </thead>\n",
       "  <tbody>\n",
       "    <tr>\n",
       "      <th>0</th>\n",
       "      <td>DE1</td>\n",
       "      <td>Baden-Württemberg</td>\n",
       "      <td>MULTIPOLYGON (((477730.872 5284627.86, 478787....</td>\n",
       "    </tr>\n",
       "    <tr>\n",
       "      <th>1</th>\n",
       "      <td>DE2</td>\n",
       "      <td>Bayern</td>\n",
       "      <td>POLYGON ((792217.27 5346780.081, 787582.436 53...</td>\n",
       "    </tr>\n",
       "    <tr>\n",
       "      <th>2</th>\n",
       "      <td>DE3</td>\n",
       "      <td>Berlin</td>\n",
       "      <td>POLYGON ((791413.725 5842844.467, 790893.811 5...</td>\n",
       "    </tr>\n",
       "    <tr>\n",
       "      <th>3</th>\n",
       "      <td>DE4</td>\n",
       "      <td>Brandenburg</td>\n",
       "      <td>POLYGON ((819216.472 5702543.614, 817838.547 5...</td>\n",
       "    </tr>\n",
       "    <tr>\n",
       "      <th>4</th>\n",
       "      <td>DE5</td>\n",
       "      <td>Bremen</td>\n",
       "      <td>MULTIPOLYGON (((471011.958 5933445.037, 468446...</td>\n",
       "    </tr>\n",
       "  </tbody>\n",
       "</table>\n",
       "</div>"
      ],
      "text/plain": [
       "  state_id         state_name  \\\n",
       "0      DE1  Baden-Württemberg   \n",
       "1      DE2             Bayern   \n",
       "2      DE3             Berlin   \n",
       "3      DE4        Brandenburg   \n",
       "4      DE5             Bremen   \n",
       "\n",
       "                                            geometry  \n",
       "0  MULTIPOLYGON (((477730.872 5284627.86, 478787....  \n",
       "1  POLYGON ((792217.27 5346780.081, 787582.436 53...  \n",
       "2  POLYGON ((791413.725 5842844.467, 790893.811 5...  \n",
       "3  POLYGON ((819216.472 5702543.614, 817838.547 5...  \n",
       "4  MULTIPOLYGON (((471011.958 5933445.037, 468446...  "
      ]
     },
     "execution_count": 23,
     "metadata": {},
     "output_type": "execute_result"
    }
   ],
   "source": [
    "df_f_states.head()"
   ]
  },
  {
   "cell_type": "markdown",
   "metadata": {},
   "source": [
    "## Change column position"
   ]
  },
  {
   "cell_type": "code",
   "execution_count": 28,
   "metadata": {},
   "outputs": [
    {
     "data": {
      "text/plain": [
       "<Axes: >"
      ]
     },
     "execution_count": 28,
     "metadata": {},
     "output_type": "execute_result"
    },
    {
     "data": {
      "image/png": "[encoded data removed]",
      "text/plain": [
       "<Figure size 640x480 with 1 Axes>"
      ]
     },
     "metadata": {},
     "output_type": "display_data"
    }
   ],
   "source": [
    "df_f_states.plot()"
   ]
  },
  {
   "cell_type": "markdown",
   "metadata": {},
   "source": [
    "## Save the files"
   ]
  },
  {
   "cell_type": "code",
   "execution_count": 31,
   "metadata": {},
   "outputs": [
    {
     "name": "stderr",
     "output_type": "stream",
     "text": [
      "/tmp/ipykernel_894138/1956223440.py:3: UserWarning: Column names longer than 10 characters will be truncated when saved to ESRI Shapefile.\n",
      "  df_govt_d.to_file(\"../borders/clean_borders/govt_districts.shp\")\n",
      "/home/teemo/anaconda3/lib/python3.11/site-packages/pyogrio/raw.py:723: RuntimeWarning: Normalized/laundered field name: 'govt_district_id' to 'govt_distr'\n",
      "  ogr_write(\n",
      "/home/teemo/anaconda3/lib/python3.11/site-packages/pyogrio/raw.py:723: RuntimeWarning: Normalized/laundered field name: 'govt_district_name' to 'govt_dis_1'\n",
      "  ogr_write(\n",
      "/tmp/ipykernel_894138/1956223440.py:4: UserWarning: Column names longer than 10 characters will be truncated when saved to ESRI Shapefile.\n",
      "  df_districts.to_file(\"../borders/clean_borders/districts.shp\")\n",
      "/home/teemo/anaconda3/lib/python3.11/site-packages/pyogrio/raw.py:723: RuntimeWarning: Normalized/laundered field name: 'district_id' to 'district_i'\n",
      "  ogr_write(\n",
      "/home/teemo/anaconda3/lib/python3.11/site-packages/pyogrio/raw.py:723: RuntimeWarning: Normalized/laundered field name: 'district_name' to 'district_n'\n",
      "  ogr_write(\n",
      "/home/teemo/anaconda3/lib/python3.11/site-packages/pyogrio/raw.py:723: RuntimeWarning: Normalized/laundered field name: 'govt_district_id' to 'govt_distr'\n",
      "  ogr_write(\n"
     ]
    }
   ],
   "source": [
    "# df_forwind.to_file(\"../wind/forwind_clean.shp\")\n",
    "df_f_states.to_file(\"../borders/clean_borders/federal_states.shp\")\n",
    "\n",
    "# delete structures to save memory\n",
    "del df_f_states"
   ]
  },
  {
   "cell_type": "markdown",
   "metadata": {},
   "source": [
    "# Reprojecting Thünen Dominant_Tree_Classes.tiff file"
   ]
  },
  {
   "cell_type": "code",
   "execution_count": null,
   "metadata": {},
   "outputs": [],
   "source": [
    "trees_fp = \"../trees/Dominant_Species_Class.tif\"\n",
    "out_fp = \"../trees/reprojected_trees1\""
   ]
  },
  {
   "cell_type": "code",
   "execution_count": null,
   "metadata": {},
   "outputs": [],
   "source": [
    "target_crs = \"EPSG:25832\"\n",
    "\n",
    "vrt_options = {\n",
    "    \"resampling\": Resampling.cubic,\n",
    "    \"crs\": target_crs,\n",
    "    \"dtype\": \"uint8\",\n",
    "    \"compress\": \"JPEG\",  \n",
    "    \"photometric\": \"YCBCR\"\n",
    "}\n",
    "\n",
    "with rasterio.open(trees_fp) as src:\n",
    "\n",
    "    print(\"step 1\")\n",
    "    with WarpedVRT(src, **vrt_options) as vrt:\n",
    "\n",
    "        # At this point 'vrt' is a full dataset with dimensions,\n",
    "        # CRS, and spatial extent matching 'vrt_options'.\n",
    "\n",
    "        # Read all data into memory.\n",
    "        data = vrt.read()\n",
    "\n",
    "        print(\"step 2\")\n",
    "\n",
    "        # Process the dataset in chunks.  Likely not very efficient.\n",
    "        for _, window in vrt.block_windows():\n",
    "            data = vrt.read(window=window)\n",
    "        # Dump the aligned data into a new file.  A VRT representing\n",
    "        # this transformation can also be produced by switching\n",
    "        # to the VRT driver.\n",
    "        #directory, name = os.path.split(path)\n",
    "        #outfile = os.path.join(directory, 'aligned-{}'.format(name))\n",
    "        print(\"step 3\")\n",
    "        rio_shutil.copy(vrt, out_fp, driver='GTiff')\n"
   ]
  },
  {
   "cell_type": "code",
   "execution_count": null,
   "metadata": {},
   "outputs": [],
   "source": [
    "del data\n",
    "del vrt"
   ]
  },
  {
   "cell_type": "markdown",
   "metadata": {},
   "source": [
    "# Creating the data for the *events* table - shapefile data\n",
    "\n",
    "using the data from:\n",
    "- EFFIS fire events\n",
    "- forwind storm damage\n",
    "\n",
    "\n",
    "1. load the data \n",
    "2. clean the data - convert rasters to shp\n",
    "3. create event_id, cause, ref_id, year, month, day columns"
   ]
  },
  {
   "cell_type": "markdown",
   "metadata": {},
   "source": [
    "## Loading the data from each file"
   ]
  },
  {
   "cell_type": "code",
   "execution_count": 32,
   "metadata": {},
   "outputs": [],
   "source": [
    "# file paths\n",
    "effis_fp = \"../fire/burnt_area_de_EFFIS.shp\"\n",
    "forwind_fp = \"../wind/FORWIND_v2.shp\""
   ]
  },
  {
   "cell_type": "code",
   "execution_count": 33,
   "metadata": {},
   "outputs": [
    {
     "data": {
      "text/html": [
       "<div>\n",
       "<style scoped>\n",
       "    .dataframe tbody tr th:only-of-type {\n",
       "        vertical-align: middle;\n",
       "    }\n",
       "\n",
       "    .dataframe tbody tr th {\n",
       "        vertical-align: top;\n",
       "    }\n",
       "\n",
       "    .dataframe thead th {\n",
       "        text-align: right;\n",
       "    }\n",
       "</style>\n",
       "<table border=\"1\" class=\"dataframe\">\n",
       "  <thead>\n",
       "    <tr style=\"text-align: right;\">\n",
       "      <th></th>\n",
       "      <th>id</th>\n",
       "      <th>FIREDATE</th>\n",
       "      <th>LASTUPDATE</th>\n",
       "      <th>COUNTRY</th>\n",
       "      <th>PROVINCE</th>\n",
       "      <th>COMMUNE</th>\n",
       "      <th>AREA_HA</th>\n",
       "      <th>BROADLEA</th>\n",
       "      <th>CONIFER</th>\n",
       "      <th>MIXED</th>\n",
       "      <th>SCLEROPH</th>\n",
       "      <th>TRANSIT</th>\n",
       "      <th>OTHERNATLC</th>\n",
       "      <th>AGRIAREAS</th>\n",
       "      <th>ARTIFSURF</th>\n",
       "      <th>OTHERLC</th>\n",
       "      <th>PERCNA2K</th>\n",
       "      <th>CLASS</th>\n",
       "      <th>Year</th>\n",
       "      <th>geometry</th>\n",
       "    </tr>\n",
       "  </thead>\n",
       "  <tbody>\n",
       "    <tr>\n",
       "      <th>0</th>\n",
       "      <td>176727</td>\n",
       "      <td>2001-07-27 00:00:00</td>\n",
       "      <td>2001-08-03 00:00:00</td>\n",
       "      <td>DE</td>\n",
       "      <td>Haßberge</td>\n",
       "      <td>Königsberg i.Bay., St</td>\n",
       "      <td>31</td>\n",
       "      <td>53.333333333155565</td>\n",
       "      <td>0</td>\n",
       "      <td>0</td>\n",
       "      <td>0</td>\n",
       "      <td>0</td>\n",
       "      <td>0</td>\n",
       "      <td>46.66666666651111</td>\n",
       "      <td>0</td>\n",
       "      <td>0</td>\n",
       "      <td>0</td>\n",
       "      <td>FireSeason</td>\n",
       "      <td>2001</td>\n",
       "      <td>POLYGON ((10.50244 50.0708, 10.50244 50.0752, ...</td>\n",
       "    </tr>\n",
       "    <tr>\n",
       "      <th>1</th>\n",
       "      <td>177477</td>\n",
       "      <td>2001-08-15 00:00:00</td>\n",
       "      <td>2001-08-15 00:00:00</td>\n",
       "      <td>DE</td>\n",
       "      <td>Minden-Lübbecke</td>\n",
       "      <td>Petershagen, Stadt</td>\n",
       "      <td>29</td>\n",
       "      <td>0</td>\n",
       "      <td>30.769230769112426</td>\n",
       "      <td>0</td>\n",
       "      <td>0</td>\n",
       "      <td>0</td>\n",
       "      <td>0</td>\n",
       "      <td>69.23076923050296</td>\n",
       "      <td>0</td>\n",
       "      <td>0</td>\n",
       "      <td>0</td>\n",
       "      <td>FireSeason</td>\n",
       "      <td>2001</td>\n",
       "      <td>POLYGON ((8.9292 52.35596, 8.93799 52.35596, 8...</td>\n",
       "    </tr>\n",
       "    <tr>\n",
       "      <th>2</th>\n",
       "      <td>178047</td>\n",
       "      <td>2001-08-31 00:00:00</td>\n",
       "      <td>2001-08-31 00:00:00</td>\n",
       "      <td>DE</td>\n",
       "      <td>Neckar-Odenwald-Kreis</td>\n",
       "      <td>Limbach</td>\n",
       "      <td>16</td>\n",
       "      <td>0</td>\n",
       "      <td>73.33333333284445</td>\n",
       "      <td>26.666666666488887</td>\n",
       "      <td>0</td>\n",
       "      <td>0</td>\n",
       "      <td>0</td>\n",
       "      <td>0</td>\n",
       "      <td>0</td>\n",
       "      <td>0</td>\n",
       "      <td>0</td>\n",
       "      <td>FireSeason</td>\n",
       "      <td>2001</td>\n",
       "      <td>POLYGON ((9.12695 49.48633, 9.13135 49.48633, ...</td>\n",
       "    </tr>\n",
       "    <tr>\n",
       "      <th>3</th>\n",
       "      <td>169485</td>\n",
       "      <td>2003-02-19 00:00:00</td>\n",
       "      <td>2003-03-05 00:00:00</td>\n",
       "      <td>DE</td>\n",
       "      <td>Schwäbisch Hall</td>\n",
       "      <td>Fichtenberg</td>\n",
       "      <td>1431</td>\n",
       "      <td>0</td>\n",
       "      <td>62.46498599439339</td>\n",
       "      <td>6.022408963585012</td>\n",
       "      <td>0</td>\n",
       "      <td>0</td>\n",
       "      <td>0</td>\n",
       "      <td>23.38935574229528</td>\n",
       "      <td>8.123249299719319</td>\n",
       "      <td>0</td>\n",
       "      <td>0.47173602911254975</td>\n",
       "      <td>FireSeason</td>\n",
       "      <td>2003</td>\n",
       "      <td>POLYGON ((9.71582 48.96338, 9.71582 48.95898, ...</td>\n",
       "    </tr>\n",
       "    <tr>\n",
       "      <th>4</th>\n",
       "      <td>169499</td>\n",
       "      <td>2003-02-22 00:00:00</td>\n",
       "      <td>2003-02-22 00:00:00</td>\n",
       "      <td>DE</td>\n",
       "      <td>Rems-Murr-Kreis</td>\n",
       "      <td>Murrhardt, Stadt</td>\n",
       "      <td>31</td>\n",
       "      <td>0</td>\n",
       "      <td>46.66666666651111</td>\n",
       "      <td>49.99999999983334</td>\n",
       "      <td>0</td>\n",
       "      <td>0</td>\n",
       "      <td>0</td>\n",
       "      <td>3.333333333322223</td>\n",
       "      <td>0</td>\n",
       "      <td>0</td>\n",
       "      <td>0</td>\n",
       "      <td>FireSeason</td>\n",
       "      <td>2003</td>\n",
       "      <td>POLYGON ((9.65869 48.96777, 9.66748 48.96777, ...</td>\n",
       "    </tr>\n",
       "  </tbody>\n",
       "</table>\n",
       "</div>"
      ],
      "text/plain": [
       "       id             FIREDATE           LASTUPDATE COUNTRY  \\\n",
       "0  176727  2001-07-27 00:00:00  2001-08-03 00:00:00      DE   \n",
       "1  177477  2001-08-15 00:00:00  2001-08-15 00:00:00      DE   \n",
       "2  178047  2001-08-31 00:00:00  2001-08-31 00:00:00      DE   \n",
       "3  169485  2003-02-19 00:00:00  2003-03-05 00:00:00      DE   \n",
       "4  169499  2003-02-22 00:00:00  2003-02-22 00:00:00      DE   \n",
       "\n",
       "                PROVINCE                COMMUNE AREA_HA            BROADLEA  \\\n",
       "0               Haßberge  Königsberg i.Bay., St      31  53.333333333155565   \n",
       "1        Minden-Lübbecke     Petershagen, Stadt      29                   0   \n",
       "2  Neckar-Odenwald-Kreis                Limbach      16                   0   \n",
       "3        Schwäbisch Hall            Fichtenberg    1431                   0   \n",
       "4        Rems-Murr-Kreis       Murrhardt, Stadt      31                   0   \n",
       "\n",
       "              CONIFER               MIXED SCLEROPH TRANSIT OTHERNATLC  \\\n",
       "0                   0                   0        0       0          0   \n",
       "1  30.769230769112426                   0        0       0          0   \n",
       "2   73.33333333284445  26.666666666488887        0       0          0   \n",
       "3   62.46498599439339   6.022408963585012        0       0          0   \n",
       "4   46.66666666651111   49.99999999983334        0       0          0   \n",
       "\n",
       "           AGRIAREAS          ARTIFSURF OTHERLC             PERCNA2K  \\\n",
       "0  46.66666666651111                  0       0                    0   \n",
       "1  69.23076923050296                  0       0                    0   \n",
       "2                  0                  0       0                    0   \n",
       "3  23.38935574229528  8.123249299719319       0  0.47173602911254975   \n",
       "4  3.333333333322223                  0       0                    0   \n",
       "\n",
       "        CLASS  Year                                           geometry  \n",
       "0  FireSeason  2001  POLYGON ((10.50244 50.0708, 10.50244 50.0752, ...  \n",
       "1  FireSeason  2001  POLYGON ((8.9292 52.35596, 8.93799 52.35596, 8...  \n",
       "2  FireSeason  2001  POLYGON ((9.12695 49.48633, 9.13135 49.48633, ...  \n",
       "3  FireSeason  2003  POLYGON ((9.71582 48.96338, 9.71582 48.95898, ...  \n",
       "4  FireSeason  2003  POLYGON ((9.65869 48.96777, 9.66748 48.96777, ...  "
      ]
     },
     "execution_count": 33,
     "metadata": {},
     "output_type": "execute_result"
    }
   ],
   "source": [
    "# look at the shapefiles\n",
    "# fire disturbances\n",
    "df_effis = gpd.read_file(effis_fp)\n",
    "df_effis.head()"
   ]
  },
  {
   "cell_type": "code",
   "execution_count": 34,
   "metadata": {},
   "outputs": [
    {
     "data": {
      "text/plain": [
       "<Axes: >"
      ]
     },
     "execution_count": 34,
     "metadata": {},
     "output_type": "execute_result"
    },
    {
     "data": {
      "image/png": "[encoded data removed]",
      "text/plain": [
       "<Figure size 640x480 with 1 Axes>"
      ]
     },
     "metadata": {},
     "output_type": "display_data"
    }
   ],
   "source": [
    "#print(df_effis.count())\n",
    "df_effis.plot()"
   ]
  },
  {
   "cell_type": "code",
   "execution_count": 35,
   "metadata": {},
   "outputs": [
    {
     "data": {
      "text/plain": [
       "array(['DE'], dtype=object)"
      ]
     },
     "execution_count": 35,
     "metadata": {},
     "output_type": "execute_result"
    }
   ],
   "source": [
    "df_effis[\"COUNTRY\"].unique()"
   ]
  },
  {
   "cell_type": "code",
   "execution_count": 36,
   "metadata": {},
   "outputs": [
    {
     "data": {
      "text/html": [
       "<div>\n",
       "<style scoped>\n",
       "    .dataframe tbody tr th:only-of-type {\n",
       "        vertical-align: middle;\n",
       "    }\n",
       "\n",
       "    .dataframe tbody tr th {\n",
       "        vertical-align: top;\n",
       "    }\n",
       "\n",
       "    .dataframe thead th {\n",
       "        text-align: right;\n",
       "    }\n",
       "</style>\n",
       "<table border=\"1\" class=\"dataframe\">\n",
       "  <thead>\n",
       "    <tr style=\"text-align: right;\">\n",
       "      <th></th>\n",
       "      <th>Id_poly</th>\n",
       "      <th>EventDate</th>\n",
       "      <th>StormName</th>\n",
       "      <th>EventType</th>\n",
       "      <th>Country</th>\n",
       "      <th>Area</th>\n",
       "      <th>Perimeter</th>\n",
       "      <th>Damage_deg</th>\n",
       "      <th>Methods</th>\n",
       "      <th>Dataprovid</th>\n",
       "      <th>Source</th>\n",
       "      <th>geometry</th>\n",
       "    </tr>\n",
       "  </thead>\n",
       "  <tbody>\n",
       "    <tr>\n",
       "      <th>0</th>\n",
       "      <td>1</td>\n",
       "      <td>2000-07-25</td>\n",
       "      <td>unknown</td>\n",
       "      <td>Tornado</td>\n",
       "      <td>RU</td>\n",
       "      <td>18.301443</td>\n",
       "      <td>4202.68751206554</td>\n",
       "      <td>-999.0</td>\n",
       "      <td>Satellite data classification</td>\n",
       "      <td>Department of Cartography and Geoinformatics, ...</td>\n",
       "      <td>https://www.sciencedirect.com/science/article/...</td>\n",
       "      <td>POLYGON ((32.46924 56.49643, 32.46874 56.49643...</td>\n",
       "    </tr>\n",
       "    <tr>\n",
       "      <th>1</th>\n",
       "      <td>2</td>\n",
       "      <td>2000-07-25</td>\n",
       "      <td>unknown</td>\n",
       "      <td>Tornado</td>\n",
       "      <td>RU</td>\n",
       "      <td>9.794659</td>\n",
       "      <td>2703.62054229026</td>\n",
       "      <td>-999.0</td>\n",
       "      <td>Satellite data classification</td>\n",
       "      <td>Department of Cartography and Geoinformatics, ...</td>\n",
       "      <td>https://www.sciencedirect.com/science/article/...</td>\n",
       "      <td>POLYGON ((32.58049 56.41893, 32.57899 56.41905...</td>\n",
       "    </tr>\n",
       "    <tr>\n",
       "      <th>2</th>\n",
       "      <td>3</td>\n",
       "      <td>2000-07-25</td>\n",
       "      <td>unknown</td>\n",
       "      <td>Tornado</td>\n",
       "      <td>RU</td>\n",
       "      <td>8.665567</td>\n",
       "      <td>2364.82244169863</td>\n",
       "      <td>-999.0</td>\n",
       "      <td>Satellite data classification</td>\n",
       "      <td>Department of Cartography and Geoinformatics, ...</td>\n",
       "      <td>https://www.sciencedirect.com/science/article/...</td>\n",
       "      <td>POLYGON ((32.48349 56.48893, 32.48199 56.48893...</td>\n",
       "    </tr>\n",
       "    <tr>\n",
       "      <th>3</th>\n",
       "      <td>4</td>\n",
       "      <td>2000-07-25</td>\n",
       "      <td>unknown</td>\n",
       "      <td>Tornado</td>\n",
       "      <td>RU</td>\n",
       "      <td>5.967622</td>\n",
       "      <td>1372.19812350868</td>\n",
       "      <td>-999.0</td>\n",
       "      <td>Satellite data classification</td>\n",
       "      <td>Department of Cartography and Geoinformatics, ...</td>\n",
       "      <td>https://www.sciencedirect.com/science/article/...</td>\n",
       "      <td>POLYGON ((32.50702 56.4788, 32.50837 56.47853,...</td>\n",
       "    </tr>\n",
       "    <tr>\n",
       "      <th>4</th>\n",
       "      <td>5</td>\n",
       "      <td>2000-07-25</td>\n",
       "      <td>unknown</td>\n",
       "      <td>Tornado</td>\n",
       "      <td>RU</td>\n",
       "      <td>4.557400</td>\n",
       "      <td>2012.7888046014</td>\n",
       "      <td>-999.0</td>\n",
       "      <td>Satellite data classification</td>\n",
       "      <td>Department of Cartography and Geoinformatics, ...</td>\n",
       "      <td>https://www.sciencedirect.com/science/article/...</td>\n",
       "      <td>POLYGON ((32.51199 56.47418, 32.51349 56.47443...</td>\n",
       "    </tr>\n",
       "  </tbody>\n",
       "</table>\n",
       "</div>"
      ],
      "text/plain": [
       "   Id_poly   EventDate StormName EventType Country       Area  \\\n",
       "0        1  2000-07-25   unknown   Tornado      RU  18.301443   \n",
       "1        2  2000-07-25   unknown   Tornado      RU   9.794659   \n",
       "2        3  2000-07-25   unknown   Tornado      RU   8.665567   \n",
       "3        4  2000-07-25   unknown   Tornado      RU   5.967622   \n",
       "4        5  2000-07-25   unknown   Tornado      RU   4.557400   \n",
       "\n",
       "          Perimeter  Damage_deg                        Methods  \\\n",
       "0  4202.68751206554      -999.0  Satellite data classification   \n",
       "1  2703.62054229026      -999.0  Satellite data classification   \n",
       "2  2364.82244169863      -999.0  Satellite data classification   \n",
       "3  1372.19812350868      -999.0  Satellite data classification   \n",
       "4   2012.7888046014      -999.0  Satellite data classification   \n",
       "\n",
       "                                          Dataprovid  \\\n",
       "0  Department of Cartography and Geoinformatics, ...   \n",
       "1  Department of Cartography and Geoinformatics, ...   \n",
       "2  Department of Cartography and Geoinformatics, ...   \n",
       "3  Department of Cartography and Geoinformatics, ...   \n",
       "4  Department of Cartography and Geoinformatics, ...   \n",
       "\n",
       "                                              Source  \\\n",
       "0  https://www.sciencedirect.com/science/article/...   \n",
       "1  https://www.sciencedirect.com/science/article/...   \n",
       "2  https://www.sciencedirect.com/science/article/...   \n",
       "3  https://www.sciencedirect.com/science/article/...   \n",
       "4  https://www.sciencedirect.com/science/article/...   \n",
       "\n",
       "                                            geometry  \n",
       "0  POLYGON ((32.46924 56.49643, 32.46874 56.49643...  \n",
       "1  POLYGON ((32.58049 56.41893, 32.57899 56.41905...  \n",
       "2  POLYGON ((32.48349 56.48893, 32.48199 56.48893...  \n",
       "3  POLYGON ((32.50702 56.4788, 32.50837 56.47853,...  \n",
       "4  POLYGON ((32.51199 56.47418, 32.51349 56.47443...  "
      ]
     },
     "execution_count": 36,
     "metadata": {},
     "output_type": "execute_result"
    }
   ],
   "source": [
    "# wind disturbance\n",
    "df_forwind = gpd.read_file(forwind_fp)\n",
    "df_forwind.head()"
   ]
  },
  {
   "cell_type": "code",
   "execution_count": 37,
   "metadata": {},
   "outputs": [
    {
     "data": {
      "text/plain": [
       "<Axes: >"
      ]
     },
     "execution_count": 37,
     "metadata": {},
     "output_type": "execute_result"
    },
    {
     "data": {
      "image/png": "[encoded data removed]",
      "text/plain": [
       "<Figure size 640x480 with 1 Axes>"
      ]
     },
     "metadata": {},
     "output_type": "display_data"
    }
   ],
   "source": [
    "df_forwind.plot()"
   ]
  },
  {
   "cell_type": "code",
   "execution_count": 38,
   "metadata": {},
   "outputs": [
    {
     "data": {
      "text/plain": [
       "Id_poly       89743\n",
       "EventDate     89743\n",
       "StormName     89743\n",
       "EventType     89743\n",
       "Country       89743\n",
       "Area          89743\n",
       "Perimeter     89743\n",
       "Damage_deg    89743\n",
       "Methods       89743\n",
       "Dataprovid    89743\n",
       "Source        89743\n",
       "geometry      89743\n",
       "dtype: int64"
      ]
     },
     "execution_count": 38,
     "metadata": {},
     "output_type": "execute_result"
    }
   ],
   "source": [
    "df_forwind.count()"
   ]
  },
  {
   "cell_type": "code",
   "execution_count": 39,
   "metadata": {},
   "outputs": [
    {
     "data": {
      "text/plain": [
       "array(['RU', 'SK', 'SE', 'RO', 'CZ', 'DE', 'FR', 'LT', 'PL', 'IR', 'IT',\n",
       "       'CH', 'AU'], dtype=object)"
      ]
     },
     "execution_count": 39,
     "metadata": {},
     "output_type": "execute_result"
    }
   ],
   "source": [
    "# how many countries are present?\n",
    "df_forwind[\"Country\"].unique()"
   ]
  },
  {
   "cell_type": "markdown",
   "metadata": {},
   "source": [
    "## Clean the data\n",
    "- create event_id, cause, ref_id, year, month, day columns"
   ]
  },
  {
   "cell_type": "markdown",
   "metadata": {},
   "source": [
    "### EFFIS fire data"
   ]
  },
  {
   "cell_type": "code",
   "execution_count": 40,
   "metadata": {},
   "outputs": [
    {
     "data": {
      "text/plain": [
       "['id',\n",
       " 'FIREDATE',\n",
       " 'LASTUPDATE',\n",
       " 'COUNTRY',\n",
       " 'PROVINCE',\n",
       " 'COMMUNE',\n",
       " 'AREA_HA',\n",
       " 'BROADLEA',\n",
       " 'CONIFER',\n",
       " 'MIXED',\n",
       " 'SCLEROPH',\n",
       " 'TRANSIT',\n",
       " 'OTHERNATLC',\n",
       " 'AGRIAREAS',\n",
       " 'ARTIFSURF',\n",
       " 'OTHERLC',\n",
       " 'PERCNA2K',\n",
       " 'CLASS',\n",
       " 'Year',\n",
       " 'geometry']"
      ]
     },
     "execution_count": 40,
     "metadata": {},
     "output_type": "execute_result"
    }
   ],
   "source": [
    "old_cols = df_effis.columns.to_list()\n",
    "old_cols"
   ]
  },
  {
   "cell_type": "code",
   "execution_count": 41,
   "metadata": {},
   "outputs": [],
   "source": [
    "# simple function to choose which columns to drop\n",
    "def remove_columns(old_columns, kept_columns):\n",
    "    for x in kept_columns:\n",
    "        if x in old_columns:\n",
    "            old_columns.remove(x)\n",
    "    return old_columns"
   ]
  },
  {
   "cell_type": "code",
   "execution_count": 42,
   "metadata": {},
   "outputs": [
    {
     "data": {
      "text/plain": [
       "['LASTUPDATE',\n",
       " 'PROVINCE',\n",
       " 'COMMUNE',\n",
       " 'AREA_HA',\n",
       " 'BROADLEA',\n",
       " 'CONIFER',\n",
       " 'MIXED',\n",
       " 'SCLEROPH',\n",
       " 'TRANSIT',\n",
       " 'OTHERNATLC',\n",
       " 'AGRIAREAS',\n",
       " 'ARTIFSURF',\n",
       " 'OTHERLC',\n",
       " 'PERCNA2K',\n",
       " 'CLASS',\n",
       " 'Year']"
      ]
     },
     "execution_count": 42,
     "metadata": {},
     "output_type": "execute_result"
    }
   ],
   "source": [
    "old_cols = remove_columns(old_cols, [\"id\", \"FIREDATE\", \"COUNTRY\", \"geometry\"])\n",
    "old_cols"
   ]
  },
  {
   "cell_type": "code",
   "execution_count": 43,
   "metadata": {},
   "outputs": [
    {
     "data": {
      "text/html": [
       "<div>\n",
       "<style scoped>\n",
       "    .dataframe tbody tr th:only-of-type {\n",
       "        vertical-align: middle;\n",
       "    }\n",
       "\n",
       "    .dataframe tbody tr th {\n",
       "        vertical-align: top;\n",
       "    }\n",
       "\n",
       "    .dataframe thead th {\n",
       "        text-align: right;\n",
       "    }\n",
       "</style>\n",
       "<table border=\"1\" class=\"dataframe\">\n",
       "  <thead>\n",
       "    <tr style=\"text-align: right;\">\n",
       "      <th></th>\n",
       "      <th>id</th>\n",
       "      <th>FIREDATE</th>\n",
       "      <th>COUNTRY</th>\n",
       "      <th>geometry</th>\n",
       "    </tr>\n",
       "  </thead>\n",
       "  <tbody>\n",
       "    <tr>\n",
       "      <th>0</th>\n",
       "      <td>176727</td>\n",
       "      <td>2001-07-27 00:00:00</td>\n",
       "      <td>DE</td>\n",
       "      <td>POLYGON ((10.50244 50.0708, 10.50244 50.0752, ...</td>\n",
       "    </tr>\n",
       "    <tr>\n",
       "      <th>1</th>\n",
       "      <td>177477</td>\n",
       "      <td>2001-08-15 00:00:00</td>\n",
       "      <td>DE</td>\n",
       "      <td>POLYGON ((8.9292 52.35596, 8.93799 52.35596, 8...</td>\n",
       "    </tr>\n",
       "    <tr>\n",
       "      <th>2</th>\n",
       "      <td>178047</td>\n",
       "      <td>2001-08-31 00:00:00</td>\n",
       "      <td>DE</td>\n",
       "      <td>POLYGON ((9.12695 49.48633, 9.13135 49.48633, ...</td>\n",
       "    </tr>\n",
       "    <tr>\n",
       "      <th>3</th>\n",
       "      <td>169485</td>\n",
       "      <td>2003-02-19 00:00:00</td>\n",
       "      <td>DE</td>\n",
       "      <td>POLYGON ((9.71582 48.96338, 9.71582 48.95898, ...</td>\n",
       "    </tr>\n",
       "    <tr>\n",
       "      <th>4</th>\n",
       "      <td>169499</td>\n",
       "      <td>2003-02-22 00:00:00</td>\n",
       "      <td>DE</td>\n",
       "      <td>POLYGON ((9.65869 48.96777, 9.66748 48.96777, ...</td>\n",
       "    </tr>\n",
       "  </tbody>\n",
       "</table>\n",
       "</div>"
      ],
      "text/plain": [
       "       id             FIREDATE COUNTRY  \\\n",
       "0  176727  2001-07-27 00:00:00      DE   \n",
       "1  177477  2001-08-15 00:00:00      DE   \n",
       "2  178047  2001-08-31 00:00:00      DE   \n",
       "3  169485  2003-02-19 00:00:00      DE   \n",
       "4  169499  2003-02-22 00:00:00      DE   \n",
       "\n",
       "                                            geometry  \n",
       "0  POLYGON ((10.50244 50.0708, 10.50244 50.0752, ...  \n",
       "1  POLYGON ((8.9292 52.35596, 8.93799 52.35596, 8...  \n",
       "2  POLYGON ((9.12695 49.48633, 9.13135 49.48633, ...  \n",
       "3  POLYGON ((9.71582 48.96338, 9.71582 48.95898, ...  \n",
       "4  POLYGON ((9.65869 48.96777, 9.66748 48.96777, ...  "
      ]
     },
     "execution_count": 43,
     "metadata": {},
     "output_type": "execute_result"
    }
   ],
   "source": [
    "# drop the unneeded columns\n",
    "df_effis = df_effis.drop(columns= old_cols)\n",
    "df_effis.head()"
   ]
  },
  {
   "cell_type": "markdown",
   "metadata": {},
   "source": [
    "#### Split the dates "
   ]
  },
  {
   "cell_type": "code",
   "execution_count": 44,
   "metadata": {},
   "outputs": [
    {
     "data": {
      "text/html": [
       "<div>\n",
       "<style scoped>\n",
       "    .dataframe tbody tr th:only-of-type {\n",
       "        vertical-align: middle;\n",
       "    }\n",
       "\n",
       "    .dataframe tbody tr th {\n",
       "        vertical-align: top;\n",
       "    }\n",
       "\n",
       "    .dataframe thead th {\n",
       "        text-align: right;\n",
       "    }\n",
       "</style>\n",
       "<table border=\"1\" class=\"dataframe\">\n",
       "  <thead>\n",
       "    <tr style=\"text-align: right;\">\n",
       "      <th></th>\n",
       "      <th>id</th>\n",
       "      <th>FIREDATE</th>\n",
       "      <th>COUNTRY</th>\n",
       "      <th>geometry</th>\n",
       "      <th>year</th>\n",
       "      <th>month</th>\n",
       "      <th>day</th>\n",
       "    </tr>\n",
       "  </thead>\n",
       "  <tbody>\n",
       "    <tr>\n",
       "      <th>0</th>\n",
       "      <td>176727</td>\n",
       "      <td>2001-07-27 00:00:00</td>\n",
       "      <td>DE</td>\n",
       "      <td>POLYGON ((10.50244 50.0708, 10.50244 50.0752, ...</td>\n",
       "      <td>2001</td>\n",
       "      <td>7</td>\n",
       "      <td>27</td>\n",
       "    </tr>\n",
       "    <tr>\n",
       "      <th>1</th>\n",
       "      <td>177477</td>\n",
       "      <td>2001-08-15 00:00:00</td>\n",
       "      <td>DE</td>\n",
       "      <td>POLYGON ((8.9292 52.35596, 8.93799 52.35596, 8...</td>\n",
       "      <td>2001</td>\n",
       "      <td>8</td>\n",
       "      <td>15</td>\n",
       "    </tr>\n",
       "    <tr>\n",
       "      <th>2</th>\n",
       "      <td>178047</td>\n",
       "      <td>2001-08-31 00:00:00</td>\n",
       "      <td>DE</td>\n",
       "      <td>POLYGON ((9.12695 49.48633, 9.13135 49.48633, ...</td>\n",
       "      <td>2001</td>\n",
       "      <td>8</td>\n",
       "      <td>31</td>\n",
       "    </tr>\n",
       "    <tr>\n",
       "      <th>3</th>\n",
       "      <td>169485</td>\n",
       "      <td>2003-02-19 00:00:00</td>\n",
       "      <td>DE</td>\n",
       "      <td>POLYGON ((9.71582 48.96338, 9.71582 48.95898, ...</td>\n",
       "      <td>2003</td>\n",
       "      <td>2</td>\n",
       "      <td>19</td>\n",
       "    </tr>\n",
       "    <tr>\n",
       "      <th>4</th>\n",
       "      <td>169499</td>\n",
       "      <td>2003-02-22 00:00:00</td>\n",
       "      <td>DE</td>\n",
       "      <td>POLYGON ((9.65869 48.96777, 9.66748 48.96777, ...</td>\n",
       "      <td>2003</td>\n",
       "      <td>2</td>\n",
       "      <td>22</td>\n",
       "    </tr>\n",
       "  </tbody>\n",
       "</table>\n",
       "</div>"
      ],
      "text/plain": [
       "       id             FIREDATE COUNTRY  \\\n",
       "0  176727  2001-07-27 00:00:00      DE   \n",
       "1  177477  2001-08-15 00:00:00      DE   \n",
       "2  178047  2001-08-31 00:00:00      DE   \n",
       "3  169485  2003-02-19 00:00:00      DE   \n",
       "4  169499  2003-02-22 00:00:00      DE   \n",
       "\n",
       "                                            geometry  year  month  day  \n",
       "0  POLYGON ((10.50244 50.0708, 10.50244 50.0752, ...  2001      7   27  \n",
       "1  POLYGON ((8.9292 52.35596, 8.93799 52.35596, 8...  2001      8   15  \n",
       "2  POLYGON ((9.12695 49.48633, 9.13135 49.48633, ...  2001      8   31  \n",
       "3  POLYGON ((9.71582 48.96338, 9.71582 48.95898, ...  2003      2   19  \n",
       "4  POLYGON ((9.65869 48.96777, 9.66748 48.96777, ...  2003      2   22  "
      ]
     },
     "execution_count": 44,
     "metadata": {},
     "output_type": "execute_result"
    }
   ],
   "source": [
    "df_effis[\"year\"] = df_effis[\"FIREDATE\"].str[:4].astype(int)\n",
    "df_effis[\"month\"] = df_effis[\"FIREDATE\"].str[5:7].astype(int)\n",
    "df_effis[\"day\"] = df_effis[\"FIREDATE\"].str[8:10].astype(int)\n",
    "df_effis.head()"
   ]
  },
  {
   "cell_type": "code",
   "execution_count": 45,
   "metadata": {},
   "outputs": [
    {
     "name": "stdout",
     "output_type": "stream",
     "text": [
      "before: [2001 2003 2004 2005 2013 2015 2016 2017 2018 2019 2020 2021 2022 2023\n",
      " 2024]\n",
      "after: [2001 2003 2004 2005 2013 2015 2016 2017 2018 2019 2020 2021]\n"
     ]
    }
   ],
   "source": [
    "# drop data after 2021\n",
    "print(f\"before: {df_effis['year'].unique()}\")\n",
    "df_effis = df_effis[df_effis[\"year\"] < 2022]\n",
    "print(f\"after: {df_effis['year'].unique()}\")"
   ]
  },
  {
   "cell_type": "code",
   "execution_count": 46,
   "metadata": {},
   "outputs": [
    {
     "data": {
      "text/html": [
       "<div>\n",
       "<style scoped>\n",
       "    .dataframe tbody tr th:only-of-type {\n",
       "        vertical-align: middle;\n",
       "    }\n",
       "\n",
       "    .dataframe tbody tr th {\n",
       "        vertical-align: top;\n",
       "    }\n",
       "\n",
       "    .dataframe thead th {\n",
       "        text-align: right;\n",
       "    }\n",
       "</style>\n",
       "<table border=\"1\" class=\"dataframe\">\n",
       "  <thead>\n",
       "    <tr style=\"text-align: right;\">\n",
       "      <th></th>\n",
       "      <th>id</th>\n",
       "      <th>geometry</th>\n",
       "      <th>year</th>\n",
       "      <th>month</th>\n",
       "      <th>day</th>\n",
       "    </tr>\n",
       "  </thead>\n",
       "  <tbody>\n",
       "    <tr>\n",
       "      <th>0</th>\n",
       "      <td>176727</td>\n",
       "      <td>POLYGON ((10.50244 50.0708, 10.50244 50.0752, ...</td>\n",
       "      <td>2001</td>\n",
       "      <td>7</td>\n",
       "      <td>27</td>\n",
       "    </tr>\n",
       "    <tr>\n",
       "      <th>1</th>\n",
       "      <td>177477</td>\n",
       "      <td>POLYGON ((8.9292 52.35596, 8.93799 52.35596, 8...</td>\n",
       "      <td>2001</td>\n",
       "      <td>8</td>\n",
       "      <td>15</td>\n",
       "    </tr>\n",
       "    <tr>\n",
       "      <th>2</th>\n",
       "      <td>178047</td>\n",
       "      <td>POLYGON ((9.12695 49.48633, 9.13135 49.48633, ...</td>\n",
       "      <td>2001</td>\n",
       "      <td>8</td>\n",
       "      <td>31</td>\n",
       "    </tr>\n",
       "    <tr>\n",
       "      <th>3</th>\n",
       "      <td>169485</td>\n",
       "      <td>POLYGON ((9.71582 48.96338, 9.71582 48.95898, ...</td>\n",
       "      <td>2003</td>\n",
       "      <td>2</td>\n",
       "      <td>19</td>\n",
       "    </tr>\n",
       "    <tr>\n",
       "      <th>4</th>\n",
       "      <td>169499</td>\n",
       "      <td>POLYGON ((9.65869 48.96777, 9.66748 48.96777, ...</td>\n",
       "      <td>2003</td>\n",
       "      <td>2</td>\n",
       "      <td>22</td>\n",
       "    </tr>\n",
       "  </tbody>\n",
       "</table>\n",
       "</div>"
      ],
      "text/plain": [
       "       id                                           geometry  year  month  day\n",
       "0  176727  POLYGON ((10.50244 50.0708, 10.50244 50.0752, ...  2001      7   27\n",
       "1  177477  POLYGON ((8.9292 52.35596, 8.93799 52.35596, 8...  2001      8   15\n",
       "2  178047  POLYGON ((9.12695 49.48633, 9.13135 49.48633, ...  2001      8   31\n",
       "3  169485  POLYGON ((9.71582 48.96338, 9.71582 48.95898, ...  2003      2   19\n",
       "4  169499  POLYGON ((9.65869 48.96777, 9.66748 48.96777, ...  2003      2   22"
      ]
     },
     "execution_count": 46,
     "metadata": {},
     "output_type": "execute_result"
    }
   ],
   "source": [
    "df_effis = df_effis.drop(columns= [\"FIREDATE\", \"COUNTRY\"])\n",
    "df_effis.head()"
   ]
  },
  {
   "cell_type": "markdown",
   "metadata": {},
   "source": [
    "#### Create ref_id column"
   ]
  },
  {
   "cell_type": "code",
   "execution_count": 47,
   "metadata": {},
   "outputs": [
    {
     "data": {
      "text/html": [
       "<div>\n",
       "<style scoped>\n",
       "    .dataframe tbody tr th:only-of-type {\n",
       "        vertical-align: middle;\n",
       "    }\n",
       "\n",
       "    .dataframe tbody tr th {\n",
       "        vertical-align: top;\n",
       "    }\n",
       "\n",
       "    .dataframe thead th {\n",
       "        text-align: right;\n",
       "    }\n",
       "</style>\n",
       "<table border=\"1\" class=\"dataframe\">\n",
       "  <thead>\n",
       "    <tr style=\"text-align: right;\">\n",
       "      <th></th>\n",
       "      <th>id</th>\n",
       "      <th>geometry</th>\n",
       "      <th>year</th>\n",
       "      <th>month</th>\n",
       "      <th>day</th>\n",
       "      <th>ref_id</th>\n",
       "    </tr>\n",
       "  </thead>\n",
       "  <tbody>\n",
       "    <tr>\n",
       "      <th>0</th>\n",
       "      <td>176727</td>\n",
       "      <td>POLYGON ((10.50244 50.0708, 10.50244 50.0752, ...</td>\n",
       "      <td>2001</td>\n",
       "      <td>7</td>\n",
       "      <td>27</td>\n",
       "      <td>r7</td>\n",
       "    </tr>\n",
       "    <tr>\n",
       "      <th>1</th>\n",
       "      <td>177477</td>\n",
       "      <td>POLYGON ((8.9292 52.35596, 8.93799 52.35596, 8...</td>\n",
       "      <td>2001</td>\n",
       "      <td>8</td>\n",
       "      <td>15</td>\n",
       "      <td>r7</td>\n",
       "    </tr>\n",
       "    <tr>\n",
       "      <th>2</th>\n",
       "      <td>178047</td>\n",
       "      <td>POLYGON ((9.12695 49.48633, 9.13135 49.48633, ...</td>\n",
       "      <td>2001</td>\n",
       "      <td>8</td>\n",
       "      <td>31</td>\n",
       "      <td>r7</td>\n",
       "    </tr>\n",
       "    <tr>\n",
       "      <th>3</th>\n",
       "      <td>169485</td>\n",
       "      <td>POLYGON ((9.71582 48.96338, 9.71582 48.95898, ...</td>\n",
       "      <td>2003</td>\n",
       "      <td>2</td>\n",
       "      <td>19</td>\n",
       "      <td>r7</td>\n",
       "    </tr>\n",
       "    <tr>\n",
       "      <th>4</th>\n",
       "      <td>169499</td>\n",
       "      <td>POLYGON ((9.65869 48.96777, 9.66748 48.96777, ...</td>\n",
       "      <td>2003</td>\n",
       "      <td>2</td>\n",
       "      <td>22</td>\n",
       "      <td>r7</td>\n",
       "    </tr>\n",
       "  </tbody>\n",
       "</table>\n",
       "</div>"
      ],
      "text/plain": [
       "       id                                           geometry  year  month  \\\n",
       "0  176727  POLYGON ((10.50244 50.0708, 10.50244 50.0752, ...  2001      7   \n",
       "1  177477  POLYGON ((8.9292 52.35596, 8.93799 52.35596, 8...  2001      8   \n",
       "2  178047  POLYGON ((9.12695 49.48633, 9.13135 49.48633, ...  2001      8   \n",
       "3  169485  POLYGON ((9.71582 48.96338, 9.71582 48.95898, ...  2003      2   \n",
       "4  169499  POLYGON ((9.65869 48.96777, 9.66748 48.96777, ...  2003      2   \n",
       "\n",
       "   day ref_id  \n",
       "0   27     r7  \n",
       "1   15     r7  \n",
       "2   31     r7  \n",
       "3   19     r7  \n",
       "4   22     r7  "
      ]
     },
     "execution_count": 47,
     "metadata": {},
     "output_type": "execute_result"
    }
   ],
   "source": [
    "df_effis[\"ref_id\"] = \"r7\"\n",
    "df_effis.head()"
   ]
  },
  {
   "cell_type": "markdown",
   "metadata": {},
   "source": [
    "#### Add *cause* column"
   ]
  },
  {
   "cell_type": "code",
   "execution_count": 48,
   "metadata": {},
   "outputs": [
    {
     "data": {
      "text/html": [
       "<div>\n",
       "<style scoped>\n",
       "    .dataframe tbody tr th:only-of-type {\n",
       "        vertical-align: middle;\n",
       "    }\n",
       "\n",
       "    .dataframe tbody tr th {\n",
       "        vertical-align: top;\n",
       "    }\n",
       "\n",
       "    .dataframe thead th {\n",
       "        text-align: right;\n",
       "    }\n",
       "</style>\n",
       "<table border=\"1\" class=\"dataframe\">\n",
       "  <thead>\n",
       "    <tr style=\"text-align: right;\">\n",
       "      <th></th>\n",
       "      <th>id</th>\n",
       "      <th>geometry</th>\n",
       "      <th>year</th>\n",
       "      <th>month</th>\n",
       "      <th>day</th>\n",
       "      <th>ref_id</th>\n",
       "      <th>cause</th>\n",
       "    </tr>\n",
       "  </thead>\n",
       "  <tbody>\n",
       "    <tr>\n",
       "      <th>0</th>\n",
       "      <td>176727</td>\n",
       "      <td>POLYGON ((10.50244 50.0708, 10.50244 50.0752, ...</td>\n",
       "      <td>2001</td>\n",
       "      <td>7</td>\n",
       "      <td>27</td>\n",
       "      <td>r7</td>\n",
       "      <td>fire</td>\n",
       "    </tr>\n",
       "    <tr>\n",
       "      <th>1</th>\n",
       "      <td>177477</td>\n",
       "      <td>POLYGON ((8.9292 52.35596, 8.93799 52.35596, 8...</td>\n",
       "      <td>2001</td>\n",
       "      <td>8</td>\n",
       "      <td>15</td>\n",
       "      <td>r7</td>\n",
       "      <td>fire</td>\n",
       "    </tr>\n",
       "    <tr>\n",
       "      <th>2</th>\n",
       "      <td>178047</td>\n",
       "      <td>POLYGON ((9.12695 49.48633, 9.13135 49.48633, ...</td>\n",
       "      <td>2001</td>\n",
       "      <td>8</td>\n",
       "      <td>31</td>\n",
       "      <td>r7</td>\n",
       "      <td>fire</td>\n",
       "    </tr>\n",
       "    <tr>\n",
       "      <th>3</th>\n",
       "      <td>169485</td>\n",
       "      <td>POLYGON ((9.71582 48.96338, 9.71582 48.95898, ...</td>\n",
       "      <td>2003</td>\n",
       "      <td>2</td>\n",
       "      <td>19</td>\n",
       "      <td>r7</td>\n",
       "      <td>fire</td>\n",
       "    </tr>\n",
       "    <tr>\n",
       "      <th>4</th>\n",
       "      <td>169499</td>\n",
       "      <td>POLYGON ((9.65869 48.96777, 9.66748 48.96777, ...</td>\n",
       "      <td>2003</td>\n",
       "      <td>2</td>\n",
       "      <td>22</td>\n",
       "      <td>r7</td>\n",
       "      <td>fire</td>\n",
       "    </tr>\n",
       "  </tbody>\n",
       "</table>\n",
       "</div>"
      ],
      "text/plain": [
       "       id                                           geometry  year  month  \\\n",
       "0  176727  POLYGON ((10.50244 50.0708, 10.50244 50.0752, ...  2001      7   \n",
       "1  177477  POLYGON ((8.9292 52.35596, 8.93799 52.35596, 8...  2001      8   \n",
       "2  178047  POLYGON ((9.12695 49.48633, 9.13135 49.48633, ...  2001      8   \n",
       "3  169485  POLYGON ((9.71582 48.96338, 9.71582 48.95898, ...  2003      2   \n",
       "4  169499  POLYGON ((9.65869 48.96777, 9.66748 48.96777, ...  2003      2   \n",
       "\n",
       "   day ref_id cause  \n",
       "0   27     r7  fire  \n",
       "1   15     r7  fire  \n",
       "2   31     r7  fire  \n",
       "3   19     r7  fire  \n",
       "4   22     r7  fire  "
      ]
     },
     "execution_count": 48,
     "metadata": {},
     "output_type": "execute_result"
    }
   ],
   "source": [
    "# remove any multi-index issues\n",
    "df_effis = df_effis.reset_index(drop=True)  \n",
    "df_effis[\"cause\"] = \"fire\"\n",
    "df_effis.head()"
   ]
  },
  {
   "cell_type": "markdown",
   "metadata": {},
   "source": [
    "#### Order the columns:"
   ]
  },
  {
   "cell_type": "code",
   "execution_count": 49,
   "metadata": {},
   "outputs": [
    {
     "data": {
      "text/html": [
       "<div>\n",
       "<style scoped>\n",
       "    .dataframe tbody tr th:only-of-type {\n",
       "        vertical-align: middle;\n",
       "    }\n",
       "\n",
       "    .dataframe tbody tr th {\n",
       "        vertical-align: top;\n",
       "    }\n",
       "\n",
       "    .dataframe thead th {\n",
       "        text-align: right;\n",
       "    }\n",
       "</style>\n",
       "<table border=\"1\" class=\"dataframe\">\n",
       "  <thead>\n",
       "    <tr style=\"text-align: right;\">\n",
       "      <th></th>\n",
       "      <th>id</th>\n",
       "      <th>cause</th>\n",
       "      <th>year</th>\n",
       "      <th>month</th>\n",
       "      <th>day</th>\n",
       "      <th>ref_id</th>\n",
       "      <th>geometry</th>\n",
       "    </tr>\n",
       "  </thead>\n",
       "  <tbody>\n",
       "    <tr>\n",
       "      <th>0</th>\n",
       "      <td>176727</td>\n",
       "      <td>fire</td>\n",
       "      <td>2001</td>\n",
       "      <td>7</td>\n",
       "      <td>27</td>\n",
       "      <td>r7</td>\n",
       "      <td>POLYGON ((10.50244 50.0708, 10.50244 50.0752, ...</td>\n",
       "    </tr>\n",
       "    <tr>\n",
       "      <th>1</th>\n",
       "      <td>177477</td>\n",
       "      <td>fire</td>\n",
       "      <td>2001</td>\n",
       "      <td>8</td>\n",
       "      <td>15</td>\n",
       "      <td>r7</td>\n",
       "      <td>POLYGON ((8.9292 52.35596, 8.93799 52.35596, 8...</td>\n",
       "    </tr>\n",
       "    <tr>\n",
       "      <th>2</th>\n",
       "      <td>178047</td>\n",
       "      <td>fire</td>\n",
       "      <td>2001</td>\n",
       "      <td>8</td>\n",
       "      <td>31</td>\n",
       "      <td>r7</td>\n",
       "      <td>POLYGON ((9.12695 49.48633, 9.13135 49.48633, ...</td>\n",
       "    </tr>\n",
       "    <tr>\n",
       "      <th>3</th>\n",
       "      <td>169485</td>\n",
       "      <td>fire</td>\n",
       "      <td>2003</td>\n",
       "      <td>2</td>\n",
       "      <td>19</td>\n",
       "      <td>r7</td>\n",
       "      <td>POLYGON ((9.71582 48.96338, 9.71582 48.95898, ...</td>\n",
       "    </tr>\n",
       "    <tr>\n",
       "      <th>4</th>\n",
       "      <td>169499</td>\n",
       "      <td>fire</td>\n",
       "      <td>2003</td>\n",
       "      <td>2</td>\n",
       "      <td>22</td>\n",
       "      <td>r7</td>\n",
       "      <td>POLYGON ((9.65869 48.96777, 9.66748 48.96777, ...</td>\n",
       "    </tr>\n",
       "  </tbody>\n",
       "</table>\n",
       "</div>"
      ],
      "text/plain": [
       "       id cause  year  month  day ref_id  \\\n",
       "0  176727  fire  2001      7   27     r7   \n",
       "1  177477  fire  2001      8   15     r7   \n",
       "2  178047  fire  2001      8   31     r7   \n",
       "3  169485  fire  2003      2   19     r7   \n",
       "4  169499  fire  2003      2   22     r7   \n",
       "\n",
       "                                            geometry  \n",
       "0  POLYGON ((10.50244 50.0708, 10.50244 50.0752, ...  \n",
       "1  POLYGON ((8.9292 52.35596, 8.93799 52.35596, 8...  \n",
       "2  POLYGON ((9.12695 49.48633, 9.13135 49.48633, ...  \n",
       "3  POLYGON ((9.71582 48.96338, 9.71582 48.95898, ...  \n",
       "4  POLYGON ((9.65869 48.96777, 9.66748 48.96777, ...  "
      ]
     },
     "execution_count": 49,
     "metadata": {},
     "output_type": "execute_result"
    }
   ],
   "source": [
    "df_effis = df_effis[[\"id\", \"cause\", \"year\", \"month\", \"day\", \"ref_id\", \"geometry\"]]\n",
    "df_effis.head()"
   ]
  },
  {
   "cell_type": "markdown",
   "metadata": {},
   "source": [
    "#### Rename id column"
   ]
  },
  {
   "cell_type": "code",
   "execution_count": 50,
   "metadata": {},
   "outputs": [
    {
     "data": {
      "text/html": [
       "<div>\n",
       "<style scoped>\n",
       "    .dataframe tbody tr th:only-of-type {\n",
       "        vertical-align: middle;\n",
       "    }\n",
       "\n",
       "    .dataframe tbody tr th {\n",
       "        vertical-align: top;\n",
       "    }\n",
       "\n",
       "    .dataframe thead th {\n",
       "        text-align: right;\n",
       "    }\n",
       "</style>\n",
       "<table border=\"1\" class=\"dataframe\">\n",
       "  <thead>\n",
       "    <tr style=\"text-align: right;\">\n",
       "      <th></th>\n",
       "      <th>event_id</th>\n",
       "      <th>cause</th>\n",
       "      <th>year</th>\n",
       "      <th>month</th>\n",
       "      <th>day</th>\n",
       "      <th>ref_id</th>\n",
       "      <th>geometry</th>\n",
       "    </tr>\n",
       "  </thead>\n",
       "  <tbody>\n",
       "    <tr>\n",
       "      <th>0</th>\n",
       "      <td>176727</td>\n",
       "      <td>fire</td>\n",
       "      <td>2001</td>\n",
       "      <td>7</td>\n",
       "      <td>27</td>\n",
       "      <td>r7</td>\n",
       "      <td>POLYGON ((10.50244 50.0708, 10.50244 50.0752, ...</td>\n",
       "    </tr>\n",
       "    <tr>\n",
       "      <th>1</th>\n",
       "      <td>177477</td>\n",
       "      <td>fire</td>\n",
       "      <td>2001</td>\n",
       "      <td>8</td>\n",
       "      <td>15</td>\n",
       "      <td>r7</td>\n",
       "      <td>POLYGON ((8.9292 52.35596, 8.93799 52.35596, 8...</td>\n",
       "    </tr>\n",
       "    <tr>\n",
       "      <th>2</th>\n",
       "      <td>178047</td>\n",
       "      <td>fire</td>\n",
       "      <td>2001</td>\n",
       "      <td>8</td>\n",
       "      <td>31</td>\n",
       "      <td>r7</td>\n",
       "      <td>POLYGON ((9.12695 49.48633, 9.13135 49.48633, ...</td>\n",
       "    </tr>\n",
       "    <tr>\n",
       "      <th>3</th>\n",
       "      <td>169485</td>\n",
       "      <td>fire</td>\n",
       "      <td>2003</td>\n",
       "      <td>2</td>\n",
       "      <td>19</td>\n",
       "      <td>r7</td>\n",
       "      <td>POLYGON ((9.71582 48.96338, 9.71582 48.95898, ...</td>\n",
       "    </tr>\n",
       "    <tr>\n",
       "      <th>4</th>\n",
       "      <td>169499</td>\n",
       "      <td>fire</td>\n",
       "      <td>2003</td>\n",
       "      <td>2</td>\n",
       "      <td>22</td>\n",
       "      <td>r7</td>\n",
       "      <td>POLYGON ((9.65869 48.96777, 9.66748 48.96777, ...</td>\n",
       "    </tr>\n",
       "  </tbody>\n",
       "</table>\n",
       "</div>"
      ],
      "text/plain": [
       "  event_id cause  year  month  day ref_id  \\\n",
       "0   176727  fire  2001      7   27     r7   \n",
       "1   177477  fire  2001      8   15     r7   \n",
       "2   178047  fire  2001      8   31     r7   \n",
       "3   169485  fire  2003      2   19     r7   \n",
       "4   169499  fire  2003      2   22     r7   \n",
       "\n",
       "                                            geometry  \n",
       "0  POLYGON ((10.50244 50.0708, 10.50244 50.0752, ...  \n",
       "1  POLYGON ((8.9292 52.35596, 8.93799 52.35596, 8...  \n",
       "2  POLYGON ((9.12695 49.48633, 9.13135 49.48633, ...  \n",
       "3  POLYGON ((9.71582 48.96338, 9.71582 48.95898, ...  \n",
       "4  POLYGON ((9.65869 48.96777, 9.66748 48.96777, ...  "
      ]
     },
     "execution_count": 50,
     "metadata": {},
     "output_type": "execute_result"
    }
   ],
   "source": [
    "df_effis = df_effis.rename(columns= {\"id\": \"event_id\"})\n",
    "df_effis.head()"
   ]
  },
  {
   "cell_type": "markdown",
   "metadata": {},
   "source": [
    "### Forwind data"
   ]
  },
  {
   "cell_type": "code",
   "execution_count": 51,
   "metadata": {},
   "outputs": [
    {
     "data": {
      "text/plain": [
       "['Id_poly',\n",
       " 'EventDate',\n",
       " 'StormName',\n",
       " 'EventType',\n",
       " 'Country',\n",
       " 'Area',\n",
       " 'Perimeter',\n",
       " 'Damage_deg',\n",
       " 'Methods',\n",
       " 'Dataprovid',\n",
       " 'Source',\n",
       " 'geometry']"
      ]
     },
     "execution_count": 51,
     "metadata": {},
     "output_type": "execute_result"
    }
   ],
   "source": [
    "old_columns = df_forwind.columns.to_list()\n",
    "old_columns"
   ]
  },
  {
   "cell_type": "code",
   "execution_count": 52,
   "metadata": {},
   "outputs": [
    {
     "data": {
      "text/plain": [
       "['StormName',\n",
       " 'EventType',\n",
       " 'Area',\n",
       " 'Perimeter',\n",
       " 'Damage_deg',\n",
       " 'Methods',\n",
       " 'Dataprovid',\n",
       " 'Source']"
      ]
     },
     "execution_count": 52,
     "metadata": {},
     "output_type": "execute_result"
    }
   ],
   "source": [
    "keep = [\"Id_poly\", \"EventDate\", \"Country\", \"geometry\"]\n",
    "columns_to_remove = remove_columns(old_columns, keep)\n",
    "columns_to_remove"
   ]
  },
  {
   "cell_type": "code",
   "execution_count": 53,
   "metadata": {},
   "outputs": [
    {
     "data": {
      "text/html": [
       "<div>\n",
       "<style scoped>\n",
       "    .dataframe tbody tr th:only-of-type {\n",
       "        vertical-align: middle;\n",
       "    }\n",
       "\n",
       "    .dataframe tbody tr th {\n",
       "        vertical-align: top;\n",
       "    }\n",
       "\n",
       "    .dataframe thead th {\n",
       "        text-align: right;\n",
       "    }\n",
       "</style>\n",
       "<table border=\"1\" class=\"dataframe\">\n",
       "  <thead>\n",
       "    <tr style=\"text-align: right;\">\n",
       "      <th></th>\n",
       "      <th>Id_poly</th>\n",
       "      <th>EventDate</th>\n",
       "      <th>Country</th>\n",
       "      <th>geometry</th>\n",
       "    </tr>\n",
       "  </thead>\n",
       "  <tbody>\n",
       "    <tr>\n",
       "      <th>0</th>\n",
       "      <td>1</td>\n",
       "      <td>2000-07-25</td>\n",
       "      <td>RU</td>\n",
       "      <td>POLYGON ((32.46924 56.49643, 32.46874 56.49643...</td>\n",
       "    </tr>\n",
       "    <tr>\n",
       "      <th>1</th>\n",
       "      <td>2</td>\n",
       "      <td>2000-07-25</td>\n",
       "      <td>RU</td>\n",
       "      <td>POLYGON ((32.58049 56.41893, 32.57899 56.41905...</td>\n",
       "    </tr>\n",
       "    <tr>\n",
       "      <th>2</th>\n",
       "      <td>3</td>\n",
       "      <td>2000-07-25</td>\n",
       "      <td>RU</td>\n",
       "      <td>POLYGON ((32.48349 56.48893, 32.48199 56.48893...</td>\n",
       "    </tr>\n",
       "    <tr>\n",
       "      <th>3</th>\n",
       "      <td>4</td>\n",
       "      <td>2000-07-25</td>\n",
       "      <td>RU</td>\n",
       "      <td>POLYGON ((32.50702 56.4788, 32.50837 56.47853,...</td>\n",
       "    </tr>\n",
       "    <tr>\n",
       "      <th>4</th>\n",
       "      <td>5</td>\n",
       "      <td>2000-07-25</td>\n",
       "      <td>RU</td>\n",
       "      <td>POLYGON ((32.51199 56.47418, 32.51349 56.47443...</td>\n",
       "    </tr>\n",
       "    <tr>\n",
       "      <th>...</th>\n",
       "      <td>...</td>\n",
       "      <td>...</td>\n",
       "      <td>...</td>\n",
       "      <td>...</td>\n",
       "    </tr>\n",
       "    <tr>\n",
       "      <th>89738</th>\n",
       "      <td>89739</td>\n",
       "      <td>2018-10-28</td>\n",
       "      <td>IT</td>\n",
       "      <td>POLYGON ((11.37908 46.2654, 11.37882 46.26531,...</td>\n",
       "    </tr>\n",
       "    <tr>\n",
       "      <th>89739</th>\n",
       "      <td>89740</td>\n",
       "      <td>2018-10-28</td>\n",
       "      <td>IT</td>\n",
       "      <td>POLYGON ((11.37381 46.26412, 11.37357 46.26416...</td>\n",
       "    </tr>\n",
       "    <tr>\n",
       "      <th>89740</th>\n",
       "      <td>89741</td>\n",
       "      <td>2018-10-28</td>\n",
       "      <td>IT</td>\n",
       "      <td>POLYGON ((11.37946 46.2648, 11.37985 46.26497,...</td>\n",
       "    </tr>\n",
       "    <tr>\n",
       "      <th>89741</th>\n",
       "      <td>89742</td>\n",
       "      <td>2018-10-28</td>\n",
       "      <td>IT</td>\n",
       "      <td>POLYGON ((11.37998 46.26466, 11.37983 46.26434...</td>\n",
       "    </tr>\n",
       "    <tr>\n",
       "      <th>89742</th>\n",
       "      <td>89743</td>\n",
       "      <td>2018-10-28</td>\n",
       "      <td>IT</td>\n",
       "      <td>POLYGON ((11.48799 46.3669, 11.48781 46.36678,...</td>\n",
       "    </tr>\n",
       "  </tbody>\n",
       "</table>\n",
       "<p>89743 rows × 4 columns</p>\n",
       "</div>"
      ],
      "text/plain": [
       "       Id_poly   EventDate Country  \\\n",
       "0            1  2000-07-25      RU   \n",
       "1            2  2000-07-25      RU   \n",
       "2            3  2000-07-25      RU   \n",
       "3            4  2000-07-25      RU   \n",
       "4            5  2000-07-25      RU   \n",
       "...        ...         ...     ...   \n",
       "89738    89739  2018-10-28      IT   \n",
       "89739    89740  2018-10-28      IT   \n",
       "89740    89741  2018-10-28      IT   \n",
       "89741    89742  2018-10-28      IT   \n",
       "89742    89743  2018-10-28      IT   \n",
       "\n",
       "                                                geometry  \n",
       "0      POLYGON ((32.46924 56.49643, 32.46874 56.49643...  \n",
       "1      POLYGON ((32.58049 56.41893, 32.57899 56.41905...  \n",
       "2      POLYGON ((32.48349 56.48893, 32.48199 56.48893...  \n",
       "3      POLYGON ((32.50702 56.4788, 32.50837 56.47853,...  \n",
       "4      POLYGON ((32.51199 56.47418, 32.51349 56.47443...  \n",
       "...                                                  ...  \n",
       "89738  POLYGON ((11.37908 46.2654, 11.37882 46.26531,...  \n",
       "89739  POLYGON ((11.37381 46.26412, 11.37357 46.26416...  \n",
       "89740  POLYGON ((11.37946 46.2648, 11.37985 46.26497,...  \n",
       "89741  POLYGON ((11.37998 46.26466, 11.37983 46.26434...  \n",
       "89742  POLYGON ((11.48799 46.3669, 11.48781 46.36678,...  \n",
       "\n",
       "[89743 rows x 4 columns]"
      ]
     },
     "execution_count": 53,
     "metadata": {},
     "output_type": "execute_result"
    }
   ],
   "source": [
    "df_forwind = df_forwind.drop(columns= columns_to_remove)\n",
    "df_forwind"
   ]
  },
  {
   "cell_type": "markdown",
   "metadata": {},
   "source": [
    "#### Select features in DE only"
   ]
  },
  {
   "cell_type": "code",
   "execution_count": 54,
   "metadata": {},
   "outputs": [
    {
     "data": {
      "text/html": [
       "<div>\n",
       "<style scoped>\n",
       "    .dataframe tbody tr th:only-of-type {\n",
       "        vertical-align: middle;\n",
       "    }\n",
       "\n",
       "    .dataframe tbody tr th {\n",
       "        vertical-align: top;\n",
       "    }\n",
       "\n",
       "    .dataframe thead th {\n",
       "        text-align: right;\n",
       "    }\n",
       "</style>\n",
       "<table border=\"1\" class=\"dataframe\">\n",
       "  <thead>\n",
       "    <tr style=\"text-align: right;\">\n",
       "      <th></th>\n",
       "      <th>Id_poly</th>\n",
       "      <th>EventDate</th>\n",
       "      <th>Country</th>\n",
       "      <th>geometry</th>\n",
       "    </tr>\n",
       "  </thead>\n",
       "  <tbody>\n",
       "    <tr>\n",
       "      <th>23009</th>\n",
       "      <td>23010</td>\n",
       "      <td>2007-01-07</td>\n",
       "      <td>DE</td>\n",
       "      <td>POLYGON ((6.58108 50.38085, 6.58122 50.38081, ...</td>\n",
       "    </tr>\n",
       "    <tr>\n",
       "      <th>23010</th>\n",
       "      <td>23011</td>\n",
       "      <td>2007-01-07</td>\n",
       "      <td>DE</td>\n",
       "      <td>POLYGON ((6.37201 50.38119, 6.37226 50.38117, ...</td>\n",
       "    </tr>\n",
       "    <tr>\n",
       "      <th>23011</th>\n",
       "      <td>23012</td>\n",
       "      <td>2007-01-07</td>\n",
       "      <td>DE</td>\n",
       "      <td>POLYGON ((6.73572 50.37751, 6.73588 50.37748, ...</td>\n",
       "    </tr>\n",
       "    <tr>\n",
       "      <th>23012</th>\n",
       "      <td>23013</td>\n",
       "      <td>2007-01-07</td>\n",
       "      <td>DE</td>\n",
       "      <td>POLYGON ((6.35335 50.37764, 6.35347 50.37755, ...</td>\n",
       "    </tr>\n",
       "    <tr>\n",
       "      <th>23013</th>\n",
       "      <td>23014</td>\n",
       "      <td>2007-01-07</td>\n",
       "      <td>DE</td>\n",
       "      <td>POLYGON ((6.55789 50.37464, 6.55794 50.37457, ...</td>\n",
       "    </tr>\n",
       "  </tbody>\n",
       "</table>\n",
       "</div>"
      ],
      "text/plain": [
       "       Id_poly   EventDate Country  \\\n",
       "23009    23010  2007-01-07      DE   \n",
       "23010    23011  2007-01-07      DE   \n",
       "23011    23012  2007-01-07      DE   \n",
       "23012    23013  2007-01-07      DE   \n",
       "23013    23014  2007-01-07      DE   \n",
       "\n",
       "                                                geometry  \n",
       "23009  POLYGON ((6.58108 50.38085, 6.58122 50.38081, ...  \n",
       "23010  POLYGON ((6.37201 50.38119, 6.37226 50.38117, ...  \n",
       "23011  POLYGON ((6.73572 50.37751, 6.73588 50.37748, ...  \n",
       "23012  POLYGON ((6.35335 50.37764, 6.35347 50.37755, ...  \n",
       "23013  POLYGON ((6.55789 50.37464, 6.55794 50.37457, ...  "
      ]
     },
     "execution_count": 54,
     "metadata": {},
     "output_type": "execute_result"
    }
   ],
   "source": [
    "df_forwind = df_forwind[df_forwind[\"Country\"] == \"DE\"]\n",
    "df_forwind.head()"
   ]
  },
  {
   "cell_type": "code",
   "execution_count": 55,
   "metadata": {},
   "outputs": [
    {
     "data": {
      "text/plain": [
       "array(['DE'], dtype=object)"
      ]
     },
     "execution_count": 55,
     "metadata": {},
     "output_type": "execute_result"
    }
   ],
   "source": [
    "df_forwind[\"Country\"].unique()"
   ]
  },
  {
   "cell_type": "code",
   "execution_count": 56,
   "metadata": {},
   "outputs": [
    {
     "data": {
      "text/plain": [
       "Id_poly      18909\n",
       "EventDate    18909\n",
       "Country      18909\n",
       "geometry     18909\n",
       "dtype: int64"
      ]
     },
     "execution_count": 56,
     "metadata": {},
     "output_type": "execute_result"
    }
   ],
   "source": [
    "df_forwind.count()"
   ]
  },
  {
   "cell_type": "markdown",
   "metadata": {},
   "source": [
    "#### Split the dates "
   ]
  },
  {
   "cell_type": "code",
   "execution_count": 57,
   "metadata": {},
   "outputs": [
    {
     "name": "stderr",
     "output_type": "stream",
     "text": [
      "/home/teemo/anaconda3/lib/python3.11/site-packages/geopandas/geodataframe.py:1819: SettingWithCopyWarning: \n",
      "A value is trying to be set on a copy of a slice from a DataFrame.\n",
      "Try using .loc[row_indexer,col_indexer] = value instead\n",
      "\n",
      "See the caveats in the documentation: https://pandas.pydata.org/pandas-docs/stable/user_guide/indexing.html#returning-a-view-versus-a-copy\n",
      "  super().__setitem__(key, value)\n",
      "/home/teemo/anaconda3/lib/python3.11/site-packages/geopandas/geodataframe.py:1819: SettingWithCopyWarning: \n",
      "A value is trying to be set on a copy of a slice from a DataFrame.\n",
      "Try using .loc[row_indexer,col_indexer] = value instead\n",
      "\n",
      "See the caveats in the documentation: https://pandas.pydata.org/pandas-docs/stable/user_guide/indexing.html#returning-a-view-versus-a-copy\n",
      "  super().__setitem__(key, value)\n",
      "/home/teemo/anaconda3/lib/python3.11/site-packages/geopandas/geodataframe.py:1819: SettingWithCopyWarning: \n",
      "A value is trying to be set on a copy of a slice from a DataFrame.\n",
      "Try using .loc[row_indexer,col_indexer] = value instead\n",
      "\n",
      "See the caveats in the documentation: https://pandas.pydata.org/pandas-docs/stable/user_guide/indexing.html#returning-a-view-versus-a-copy\n",
      "  super().__setitem__(key, value)\n"
     ]
    },
    {
     "data": {
      "text/html": [
       "<div>\n",
       "<style scoped>\n",
       "    .dataframe tbody tr th:only-of-type {\n",
       "        vertical-align: middle;\n",
       "    }\n",
       "\n",
       "    .dataframe tbody tr th {\n",
       "        vertical-align: top;\n",
       "    }\n",
       "\n",
       "    .dataframe thead th {\n",
       "        text-align: right;\n",
       "    }\n",
       "</style>\n",
       "<table border=\"1\" class=\"dataframe\">\n",
       "  <thead>\n",
       "    <tr style=\"text-align: right;\">\n",
       "      <th></th>\n",
       "      <th>Id_poly</th>\n",
       "      <th>EventDate</th>\n",
       "      <th>Country</th>\n",
       "      <th>geometry</th>\n",
       "      <th>year</th>\n",
       "      <th>month</th>\n",
       "      <th>day</th>\n",
       "    </tr>\n",
       "  </thead>\n",
       "  <tbody>\n",
       "    <tr>\n",
       "      <th>23009</th>\n",
       "      <td>23010</td>\n",
       "      <td>2007-01-07</td>\n",
       "      <td>DE</td>\n",
       "      <td>POLYGON ((6.58108 50.38085, 6.58122 50.38081, ...</td>\n",
       "      <td>2007</td>\n",
       "      <td>1</td>\n",
       "      <td>7</td>\n",
       "    </tr>\n",
       "    <tr>\n",
       "      <th>23010</th>\n",
       "      <td>23011</td>\n",
       "      <td>2007-01-07</td>\n",
       "      <td>DE</td>\n",
       "      <td>POLYGON ((6.37201 50.38119, 6.37226 50.38117, ...</td>\n",
       "      <td>2007</td>\n",
       "      <td>1</td>\n",
       "      <td>7</td>\n",
       "    </tr>\n",
       "    <tr>\n",
       "      <th>23011</th>\n",
       "      <td>23012</td>\n",
       "      <td>2007-01-07</td>\n",
       "      <td>DE</td>\n",
       "      <td>POLYGON ((6.73572 50.37751, 6.73588 50.37748, ...</td>\n",
       "      <td>2007</td>\n",
       "      <td>1</td>\n",
       "      <td>7</td>\n",
       "    </tr>\n",
       "    <tr>\n",
       "      <th>23012</th>\n",
       "      <td>23013</td>\n",
       "      <td>2007-01-07</td>\n",
       "      <td>DE</td>\n",
       "      <td>POLYGON ((6.35335 50.37764, 6.35347 50.37755, ...</td>\n",
       "      <td>2007</td>\n",
       "      <td>1</td>\n",
       "      <td>7</td>\n",
       "    </tr>\n",
       "    <tr>\n",
       "      <th>23013</th>\n",
       "      <td>23014</td>\n",
       "      <td>2007-01-07</td>\n",
       "      <td>DE</td>\n",
       "      <td>POLYGON ((6.55789 50.37464, 6.55794 50.37457, ...</td>\n",
       "      <td>2007</td>\n",
       "      <td>1</td>\n",
       "      <td>7</td>\n",
       "    </tr>\n",
       "  </tbody>\n",
       "</table>\n",
       "</div>"
      ],
      "text/plain": [
       "       Id_poly   EventDate Country  \\\n",
       "23009    23010  2007-01-07      DE   \n",
       "23010    23011  2007-01-07      DE   \n",
       "23011    23012  2007-01-07      DE   \n",
       "23012    23013  2007-01-07      DE   \n",
       "23013    23014  2007-01-07      DE   \n",
       "\n",
       "                                                geometry  year  month  day  \n",
       "23009  POLYGON ((6.58108 50.38085, 6.58122 50.38081, ...  2007      1    7  \n",
       "23010  POLYGON ((6.37201 50.38119, 6.37226 50.38117, ...  2007      1    7  \n",
       "23011  POLYGON ((6.73572 50.37751, 6.73588 50.37748, ...  2007      1    7  \n",
       "23012  POLYGON ((6.35335 50.37764, 6.35347 50.37755, ...  2007      1    7  \n",
       "23013  POLYGON ((6.55789 50.37464, 6.55794 50.37457, ...  2007      1    7  "
      ]
     },
     "execution_count": 57,
     "metadata": {},
     "output_type": "execute_result"
    }
   ],
   "source": [
    "df_forwind[\"year\"] = df_forwind[\"EventDate\"].str[:4].astype(int)\n",
    "df_forwind[\"month\"] = df_forwind[\"EventDate\"].str[5:7].astype(int)\n",
    "df_forwind[\"day\"] = df_forwind[\"EventDate\"].str[8:10].astype(int)\n",
    "df_forwind.head()"
   ]
  },
  {
   "cell_type": "code",
   "execution_count": 58,
   "metadata": {},
   "outputs": [
    {
     "name": "stdout",
     "output_type": "stream",
     "text": [
      "before: [2007 2017 2018]\n",
      "after: [2007 2017 2018]\n"
     ]
    }
   ],
   "source": [
    "# drop data after 2021\n",
    "print(f\"before: {df_forwind['year'].unique()}\")\n",
    "df_forwind = df_forwind[df_forwind[\"year\"] < 2022]\n",
    "print(f\"after: {df_forwind['year'].unique()}\")"
   ]
  },
  {
   "cell_type": "code",
   "execution_count": 59,
   "metadata": {},
   "outputs": [
    {
     "data": {
      "text/html": [
       "<div>\n",
       "<style scoped>\n",
       "    .dataframe tbody tr th:only-of-type {\n",
       "        vertical-align: middle;\n",
       "    }\n",
       "\n",
       "    .dataframe tbody tr th {\n",
       "        vertical-align: top;\n",
       "    }\n",
       "\n",
       "    .dataframe thead th {\n",
       "        text-align: right;\n",
       "    }\n",
       "</style>\n",
       "<table border=\"1\" class=\"dataframe\">\n",
       "  <thead>\n",
       "    <tr style=\"text-align: right;\">\n",
       "      <th></th>\n",
       "      <th>Id_poly</th>\n",
       "      <th>geometry</th>\n",
       "      <th>year</th>\n",
       "      <th>month</th>\n",
       "      <th>day</th>\n",
       "    </tr>\n",
       "  </thead>\n",
       "  <tbody>\n",
       "    <tr>\n",
       "      <th>23009</th>\n",
       "      <td>23010</td>\n",
       "      <td>POLYGON ((6.58108 50.38085, 6.58122 50.38081, ...</td>\n",
       "      <td>2007</td>\n",
       "      <td>1</td>\n",
       "      <td>7</td>\n",
       "    </tr>\n",
       "    <tr>\n",
       "      <th>23010</th>\n",
       "      <td>23011</td>\n",
       "      <td>POLYGON ((6.37201 50.38119, 6.37226 50.38117, ...</td>\n",
       "      <td>2007</td>\n",
       "      <td>1</td>\n",
       "      <td>7</td>\n",
       "    </tr>\n",
       "    <tr>\n",
       "      <th>23011</th>\n",
       "      <td>23012</td>\n",
       "      <td>POLYGON ((6.73572 50.37751, 6.73588 50.37748, ...</td>\n",
       "      <td>2007</td>\n",
       "      <td>1</td>\n",
       "      <td>7</td>\n",
       "    </tr>\n",
       "    <tr>\n",
       "      <th>23012</th>\n",
       "      <td>23013</td>\n",
       "      <td>POLYGON ((6.35335 50.37764, 6.35347 50.37755, ...</td>\n",
       "      <td>2007</td>\n",
       "      <td>1</td>\n",
       "      <td>7</td>\n",
       "    </tr>\n",
       "    <tr>\n",
       "      <th>23013</th>\n",
       "      <td>23014</td>\n",
       "      <td>POLYGON ((6.55789 50.37464, 6.55794 50.37457, ...</td>\n",
       "      <td>2007</td>\n",
       "      <td>1</td>\n",
       "      <td>7</td>\n",
       "    </tr>\n",
       "  </tbody>\n",
       "</table>\n",
       "</div>"
      ],
      "text/plain": [
       "       Id_poly                                           geometry  year  \\\n",
       "23009    23010  POLYGON ((6.58108 50.38085, 6.58122 50.38081, ...  2007   \n",
       "23010    23011  POLYGON ((6.37201 50.38119, 6.37226 50.38117, ...  2007   \n",
       "23011    23012  POLYGON ((6.73572 50.37751, 6.73588 50.37748, ...  2007   \n",
       "23012    23013  POLYGON ((6.35335 50.37764, 6.35347 50.37755, ...  2007   \n",
       "23013    23014  POLYGON ((6.55789 50.37464, 6.55794 50.37457, ...  2007   \n",
       "\n",
       "       month  day  \n",
       "23009      1    7  \n",
       "23010      1    7  \n",
       "23011      1    7  \n",
       "23012      1    7  \n",
       "23013      1    7  "
      ]
     },
     "execution_count": 59,
     "metadata": {},
     "output_type": "execute_result"
    }
   ],
   "source": [
    "df_forwind = df_forwind.drop(columns= [\"Country\", \"EventDate\"])\n",
    "df_forwind.head()"
   ]
  },
  {
   "cell_type": "markdown",
   "metadata": {},
   "source": [
    "#### Add the ref_id column"
   ]
  },
  {
   "cell_type": "code",
   "execution_count": 60,
   "metadata": {},
   "outputs": [
    {
     "data": {
      "text/html": [
       "<div>\n",
       "<style scoped>\n",
       "    .dataframe tbody tr th:only-of-type {\n",
       "        vertical-align: middle;\n",
       "    }\n",
       "\n",
       "    .dataframe tbody tr th {\n",
       "        vertical-align: top;\n",
       "    }\n",
       "\n",
       "    .dataframe thead th {\n",
       "        text-align: right;\n",
       "    }\n",
       "</style>\n",
       "<table border=\"1\" class=\"dataframe\">\n",
       "  <thead>\n",
       "    <tr style=\"text-align: right;\">\n",
       "      <th></th>\n",
       "      <th>Id_poly</th>\n",
       "      <th>geometry</th>\n",
       "      <th>year</th>\n",
       "      <th>month</th>\n",
       "      <th>day</th>\n",
       "      <th>ref_id</th>\n",
       "    </tr>\n",
       "  </thead>\n",
       "  <tbody>\n",
       "    <tr>\n",
       "      <th>23009</th>\n",
       "      <td>23010</td>\n",
       "      <td>POLYGON ((6.58108 50.38085, 6.58122 50.38081, ...</td>\n",
       "      <td>2007</td>\n",
       "      <td>1</td>\n",
       "      <td>7</td>\n",
       "      <td>r1</td>\n",
       "    </tr>\n",
       "    <tr>\n",
       "      <th>23010</th>\n",
       "      <td>23011</td>\n",
       "      <td>POLYGON ((6.37201 50.38119, 6.37226 50.38117, ...</td>\n",
       "      <td>2007</td>\n",
       "      <td>1</td>\n",
       "      <td>7</td>\n",
       "      <td>r1</td>\n",
       "    </tr>\n",
       "    <tr>\n",
       "      <th>23011</th>\n",
       "      <td>23012</td>\n",
       "      <td>POLYGON ((6.73572 50.37751, 6.73588 50.37748, ...</td>\n",
       "      <td>2007</td>\n",
       "      <td>1</td>\n",
       "      <td>7</td>\n",
       "      <td>r1</td>\n",
       "    </tr>\n",
       "    <tr>\n",
       "      <th>23012</th>\n",
       "      <td>23013</td>\n",
       "      <td>POLYGON ((6.35335 50.37764, 6.35347 50.37755, ...</td>\n",
       "      <td>2007</td>\n",
       "      <td>1</td>\n",
       "      <td>7</td>\n",
       "      <td>r1</td>\n",
       "    </tr>\n",
       "    <tr>\n",
       "      <th>23013</th>\n",
       "      <td>23014</td>\n",
       "      <td>POLYGON ((6.55789 50.37464, 6.55794 50.37457, ...</td>\n",
       "      <td>2007</td>\n",
       "      <td>1</td>\n",
       "      <td>7</td>\n",
       "      <td>r1</td>\n",
       "    </tr>\n",
       "  </tbody>\n",
       "</table>\n",
       "</div>"
      ],
      "text/plain": [
       "       Id_poly                                           geometry  year  \\\n",
       "23009    23010  POLYGON ((6.58108 50.38085, 6.58122 50.38081, ...  2007   \n",
       "23010    23011  POLYGON ((6.37201 50.38119, 6.37226 50.38117, ...  2007   \n",
       "23011    23012  POLYGON ((6.73572 50.37751, 6.73588 50.37748, ...  2007   \n",
       "23012    23013  POLYGON ((6.35335 50.37764, 6.35347 50.37755, ...  2007   \n",
       "23013    23014  POLYGON ((6.55789 50.37464, 6.55794 50.37457, ...  2007   \n",
       "\n",
       "       month  day ref_id  \n",
       "23009      1    7     r1  \n",
       "23010      1    7     r1  \n",
       "23011      1    7     r1  \n",
       "23012      1    7     r1  \n",
       "23013      1    7     r1  "
      ]
     },
     "execution_count": 60,
     "metadata": {},
     "output_type": "execute_result"
    }
   ],
   "source": [
    "# ref id for forwind date is r1\n",
    "df_forwind[\"ref_id\"] = \"r1\"\n",
    "df_forwind.head()"
   ]
  },
  {
   "cell_type": "markdown",
   "metadata": {},
   "source": [
    "#### Add the cause columnm"
   ]
  },
  {
   "cell_type": "code",
   "execution_count": 61,
   "metadata": {},
   "outputs": [
    {
     "data": {
      "text/html": [
       "<div>\n",
       "<style scoped>\n",
       "    .dataframe tbody tr th:only-of-type {\n",
       "        vertical-align: middle;\n",
       "    }\n",
       "\n",
       "    .dataframe tbody tr th {\n",
       "        vertical-align: top;\n",
       "    }\n",
       "\n",
       "    .dataframe thead th {\n",
       "        text-align: right;\n",
       "    }\n",
       "</style>\n",
       "<table border=\"1\" class=\"dataframe\">\n",
       "  <thead>\n",
       "    <tr style=\"text-align: right;\">\n",
       "      <th></th>\n",
       "      <th>Id_poly</th>\n",
       "      <th>geometry</th>\n",
       "      <th>year</th>\n",
       "      <th>month</th>\n",
       "      <th>day</th>\n",
       "      <th>ref_id</th>\n",
       "      <th>cause</th>\n",
       "    </tr>\n",
       "  </thead>\n",
       "  <tbody>\n",
       "    <tr>\n",
       "      <th>0</th>\n",
       "      <td>23010</td>\n",
       "      <td>POLYGON ((6.58108 50.38085, 6.58122 50.38081, ...</td>\n",
       "      <td>2007</td>\n",
       "      <td>1</td>\n",
       "      <td>7</td>\n",
       "      <td>r1</td>\n",
       "      <td>wind/bark beetle</td>\n",
       "    </tr>\n",
       "    <tr>\n",
       "      <th>1</th>\n",
       "      <td>23011</td>\n",
       "      <td>POLYGON ((6.37201 50.38119, 6.37226 50.38117, ...</td>\n",
       "      <td>2007</td>\n",
       "      <td>1</td>\n",
       "      <td>7</td>\n",
       "      <td>r1</td>\n",
       "      <td>wind/bark beetle</td>\n",
       "    </tr>\n",
       "    <tr>\n",
       "      <th>2</th>\n",
       "      <td>23012</td>\n",
       "      <td>POLYGON ((6.73572 50.37751, 6.73588 50.37748, ...</td>\n",
       "      <td>2007</td>\n",
       "      <td>1</td>\n",
       "      <td>7</td>\n",
       "      <td>r1</td>\n",
       "      <td>wind/bark beetle</td>\n",
       "    </tr>\n",
       "    <tr>\n",
       "      <th>3</th>\n",
       "      <td>23013</td>\n",
       "      <td>POLYGON ((6.35335 50.37764, 6.35347 50.37755, ...</td>\n",
       "      <td>2007</td>\n",
       "      <td>1</td>\n",
       "      <td>7</td>\n",
       "      <td>r1</td>\n",
       "      <td>wind/bark beetle</td>\n",
       "    </tr>\n",
       "    <tr>\n",
       "      <th>4</th>\n",
       "      <td>23014</td>\n",
       "      <td>POLYGON ((6.55789 50.37464, 6.55794 50.37457, ...</td>\n",
       "      <td>2007</td>\n",
       "      <td>1</td>\n",
       "      <td>7</td>\n",
       "      <td>r1</td>\n",
       "      <td>wind/bark beetle</td>\n",
       "    </tr>\n",
       "  </tbody>\n",
       "</table>\n",
       "</div>"
      ],
      "text/plain": [
       "   Id_poly                                           geometry  year  month  \\\n",
       "0    23010  POLYGON ((6.58108 50.38085, 6.58122 50.38081, ...  2007      1   \n",
       "1    23011  POLYGON ((6.37201 50.38119, 6.37226 50.38117, ...  2007      1   \n",
       "2    23012  POLYGON ((6.73572 50.37751, 6.73588 50.37748, ...  2007      1   \n",
       "3    23013  POLYGON ((6.35335 50.37764, 6.35347 50.37755, ...  2007      1   \n",
       "4    23014  POLYGON ((6.55789 50.37464, 6.55794 50.37457, ...  2007      1   \n",
       "\n",
       "   day ref_id             cause  \n",
       "0    7     r1  wind/bark beetle  \n",
       "1    7     r1  wind/bark beetle  \n",
       "2    7     r1  wind/bark beetle  \n",
       "3    7     r1  wind/bark beetle  \n",
       "4    7     r1  wind/bark beetle  "
      ]
     },
     "execution_count": 61,
     "metadata": {},
     "output_type": "execute_result"
    }
   ],
   "source": [
    "df_forwind = df_forwind.reset_index(drop=True)  \n",
    "df_forwind[\"cause\"] = \"wind/bark beetle\"\n",
    "df_forwind.head()"
   ]
  },
  {
   "cell_type": "markdown",
   "metadata": {},
   "source": [
    "#### Order the columns:"
   ]
  },
  {
   "cell_type": "code",
   "execution_count": 62,
   "metadata": {},
   "outputs": [
    {
     "data": {
      "text/html": [
       "<div>\n",
       "<style scoped>\n",
       "    .dataframe tbody tr th:only-of-type {\n",
       "        vertical-align: middle;\n",
       "    }\n",
       "\n",
       "    .dataframe tbody tr th {\n",
       "        vertical-align: top;\n",
       "    }\n",
       "\n",
       "    .dataframe thead th {\n",
       "        text-align: right;\n",
       "    }\n",
       "</style>\n",
       "<table border=\"1\" class=\"dataframe\">\n",
       "  <thead>\n",
       "    <tr style=\"text-align: right;\">\n",
       "      <th></th>\n",
       "      <th>Id_poly</th>\n",
       "      <th>cause</th>\n",
       "      <th>year</th>\n",
       "      <th>month</th>\n",
       "      <th>day</th>\n",
       "      <th>ref_id</th>\n",
       "      <th>geometry</th>\n",
       "    </tr>\n",
       "  </thead>\n",
       "  <tbody>\n",
       "    <tr>\n",
       "      <th>0</th>\n",
       "      <td>23010</td>\n",
       "      <td>wind/bark beetle</td>\n",
       "      <td>2007</td>\n",
       "      <td>1</td>\n",
       "      <td>7</td>\n",
       "      <td>r1</td>\n",
       "      <td>POLYGON ((6.58108 50.38085, 6.58122 50.38081, ...</td>\n",
       "    </tr>\n",
       "    <tr>\n",
       "      <th>1</th>\n",
       "      <td>23011</td>\n",
       "      <td>wind/bark beetle</td>\n",
       "      <td>2007</td>\n",
       "      <td>1</td>\n",
       "      <td>7</td>\n",
       "      <td>r1</td>\n",
       "      <td>POLYGON ((6.37201 50.38119, 6.37226 50.38117, ...</td>\n",
       "    </tr>\n",
       "    <tr>\n",
       "      <th>2</th>\n",
       "      <td>23012</td>\n",
       "      <td>wind/bark beetle</td>\n",
       "      <td>2007</td>\n",
       "      <td>1</td>\n",
       "      <td>7</td>\n",
       "      <td>r1</td>\n",
       "      <td>POLYGON ((6.73572 50.37751, 6.73588 50.37748, ...</td>\n",
       "    </tr>\n",
       "    <tr>\n",
       "      <th>3</th>\n",
       "      <td>23013</td>\n",
       "      <td>wind/bark beetle</td>\n",
       "      <td>2007</td>\n",
       "      <td>1</td>\n",
       "      <td>7</td>\n",
       "      <td>r1</td>\n",
       "      <td>POLYGON ((6.35335 50.37764, 6.35347 50.37755, ...</td>\n",
       "    </tr>\n",
       "    <tr>\n",
       "      <th>4</th>\n",
       "      <td>23014</td>\n",
       "      <td>wind/bark beetle</td>\n",
       "      <td>2007</td>\n",
       "      <td>1</td>\n",
       "      <td>7</td>\n",
       "      <td>r1</td>\n",
       "      <td>POLYGON ((6.55789 50.37464, 6.55794 50.37457, ...</td>\n",
       "    </tr>\n",
       "  </tbody>\n",
       "</table>\n",
       "</div>"
      ],
      "text/plain": [
       "   Id_poly             cause  year  month  day ref_id  \\\n",
       "0    23010  wind/bark beetle  2007      1    7     r1   \n",
       "1    23011  wind/bark beetle  2007      1    7     r1   \n",
       "2    23012  wind/bark beetle  2007      1    7     r1   \n",
       "3    23013  wind/bark beetle  2007      1    7     r1   \n",
       "4    23014  wind/bark beetle  2007      1    7     r1   \n",
       "\n",
       "                                            geometry  \n",
       "0  POLYGON ((6.58108 50.38085, 6.58122 50.38081, ...  \n",
       "1  POLYGON ((6.37201 50.38119, 6.37226 50.38117, ...  \n",
       "2  POLYGON ((6.73572 50.37751, 6.73588 50.37748, ...  \n",
       "3  POLYGON ((6.35335 50.37764, 6.35347 50.37755, ...  \n",
       "4  POLYGON ((6.55789 50.37464, 6.55794 50.37457, ...  "
      ]
     },
     "execution_count": 62,
     "metadata": {},
     "output_type": "execute_result"
    }
   ],
   "source": [
    "df_forwind = df_forwind[[\"Id_poly\", \"cause\", \"year\", \"month\", \"day\", \"ref_id\", \"geometry\"]]\n",
    "df_forwind.head()"
   ]
  },
  {
   "cell_type": "markdown",
   "metadata": {},
   "source": [
    "#### Rename Id_poly to event_id"
   ]
  },
  {
   "cell_type": "code",
   "execution_count": 63,
   "metadata": {},
   "outputs": [
    {
     "data": {
      "text/html": [
       "<div>\n",
       "<style scoped>\n",
       "    .dataframe tbody tr th:only-of-type {\n",
       "        vertical-align: middle;\n",
       "    }\n",
       "\n",
       "    .dataframe tbody tr th {\n",
       "        vertical-align: top;\n",
       "    }\n",
       "\n",
       "    .dataframe thead th {\n",
       "        text-align: right;\n",
       "    }\n",
       "</style>\n",
       "<table border=\"1\" class=\"dataframe\">\n",
       "  <thead>\n",
       "    <tr style=\"text-align: right;\">\n",
       "      <th></th>\n",
       "      <th>event_id</th>\n",
       "      <th>cause</th>\n",
       "      <th>year</th>\n",
       "      <th>month</th>\n",
       "      <th>day</th>\n",
       "      <th>ref_id</th>\n",
       "      <th>geometry</th>\n",
       "    </tr>\n",
       "  </thead>\n",
       "  <tbody>\n",
       "    <tr>\n",
       "      <th>0</th>\n",
       "      <td>23010</td>\n",
       "      <td>wind/bark beetle</td>\n",
       "      <td>2007</td>\n",
       "      <td>1</td>\n",
       "      <td>7</td>\n",
       "      <td>r1</td>\n",
       "      <td>POLYGON ((6.58108 50.38085, 6.58122 50.38081, ...</td>\n",
       "    </tr>\n",
       "    <tr>\n",
       "      <th>1</th>\n",
       "      <td>23011</td>\n",
       "      <td>wind/bark beetle</td>\n",
       "      <td>2007</td>\n",
       "      <td>1</td>\n",
       "      <td>7</td>\n",
       "      <td>r1</td>\n",
       "      <td>POLYGON ((6.37201 50.38119, 6.37226 50.38117, ...</td>\n",
       "    </tr>\n",
       "    <tr>\n",
       "      <th>2</th>\n",
       "      <td>23012</td>\n",
       "      <td>wind/bark beetle</td>\n",
       "      <td>2007</td>\n",
       "      <td>1</td>\n",
       "      <td>7</td>\n",
       "      <td>r1</td>\n",
       "      <td>POLYGON ((6.73572 50.37751, 6.73588 50.37748, ...</td>\n",
       "    </tr>\n",
       "    <tr>\n",
       "      <th>3</th>\n",
       "      <td>23013</td>\n",
       "      <td>wind/bark beetle</td>\n",
       "      <td>2007</td>\n",
       "      <td>1</td>\n",
       "      <td>7</td>\n",
       "      <td>r1</td>\n",
       "      <td>POLYGON ((6.35335 50.37764, 6.35347 50.37755, ...</td>\n",
       "    </tr>\n",
       "    <tr>\n",
       "      <th>4</th>\n",
       "      <td>23014</td>\n",
       "      <td>wind/bark beetle</td>\n",
       "      <td>2007</td>\n",
       "      <td>1</td>\n",
       "      <td>7</td>\n",
       "      <td>r1</td>\n",
       "      <td>POLYGON ((6.55789 50.37464, 6.55794 50.37457, ...</td>\n",
       "    </tr>\n",
       "  </tbody>\n",
       "</table>\n",
       "</div>"
      ],
      "text/plain": [
       "   event_id             cause  year  month  day ref_id  \\\n",
       "0     23010  wind/bark beetle  2007      1    7     r1   \n",
       "1     23011  wind/bark beetle  2007      1    7     r1   \n",
       "2     23012  wind/bark beetle  2007      1    7     r1   \n",
       "3     23013  wind/bark beetle  2007      1    7     r1   \n",
       "4     23014  wind/bark beetle  2007      1    7     r1   \n",
       "\n",
       "                                            geometry  \n",
       "0  POLYGON ((6.58108 50.38085, 6.58122 50.38081, ...  \n",
       "1  POLYGON ((6.37201 50.38119, 6.37226 50.38117, ...  \n",
       "2  POLYGON ((6.73572 50.37751, 6.73588 50.37748, ...  \n",
       "3  POLYGON ((6.35335 50.37764, 6.35347 50.37755, ...  \n",
       "4  POLYGON ((6.55789 50.37464, 6.55794 50.37457, ...  "
      ]
     },
     "execution_count": 63,
     "metadata": {},
     "output_type": "execute_result"
    }
   ],
   "source": [
    "df_forwind = df_forwind.rename(columns= {\"Id_poly\": \"event_id\"})\n",
    "df_forwind.head()"
   ]
  },
  {
   "cell_type": "markdown",
   "metadata": {},
   "source": [
    "## Reprojecting the shapefiles"
   ]
  },
  {
   "cell_type": "code",
   "execution_count": 64,
   "metadata": {},
   "outputs": [
    {
     "name": "stdout",
     "output_type": "stream",
     "text": [
      "df_effis crs: GEOGCS[\"GCS_WGS_84_CRS84\",DATUM[\"WGS_1984\",SPHEROID[\"WGS 84\",6378137,298.257223563,AUTHORITY[\"EPSG\",\"7030\"]],AUTHORITY[\"EPSG\",\"6326\"]],PRIMEM[\"Greenwich\",0],UNIT[\"Degree\",0.0174532925199433],AXIS[\"Longitude\",EAST],AXIS[\"Latitude\",NORTH]]\n",
      "\n",
      "\n",
      "df_forwind crs: EPSG:4326\n"
     ]
    }
   ],
   "source": [
    "# current crs\n",
    "print(f\"df_effis crs: {df_effis.crs}\\n\")\n",
    "print(f\"\\ndf_forwind crs: {df_forwind.crs}\")"
   ]
  },
  {
   "cell_type": "code",
   "execution_count": 65,
   "metadata": {},
   "outputs": [],
   "source": [
    "# reproject to EPSG:25832 as it is the CRS of the NUTS50000 shapefiles\n",
    "df_effis = df_effis.to_crs(\"EPSG:25832\")\n",
    "df_forwind = df_forwind.to_crs(\"EPSG:25832\")"
   ]
  },
  {
   "cell_type": "markdown",
   "metadata": {},
   "source": [
    "## Save as new shapefiles"
   ]
  },
  {
   "cell_type": "code",
   "execution_count": 66,
   "metadata": {},
   "outputs": [],
   "source": [
    "df_effis.to_file(\"../fire/effis_clean.shp\")\n",
    "df_forwind.to_file(\"../wind/forwind_clean.shp\")\n",
    "\n",
    "# delete dataframes to save on ram\n",
    "del df_effis\n",
    "del df_forwind"
   ]
  },
  {
   "cell_type": "markdown",
   "metadata": {},
   "source": [
    "# Creating data for the *events* table - rasters\n",
    "\n",
    "- using the EU disturbance atlas files - disturbance_agent & last_disturbance\n",
    "\n",
    "process the data:\n",
    "1. Convert to shapefiles\n",
    "2. Merge year and disturbance agent into one shapefile\n",
    "3. Finalise the cause columnm\n",
    "4. Finalse the year - month - day columns\n",
    "5. Add ref_id column"
   ]
  },
  {
   "cell_type": "markdown",
   "metadata": {},
   "source": [
    "## Reproject latest_disturbance + disturbance_agent\n",
    "\n",
    "- First reproject to EPSG:25832 and then \n",
    "- clip the rasters to the federal states. \n",
    "- Hopefully the new sizes are compact enough for polygonisation to work"
   ]
  },
  {
   "cell_type": "code",
   "execution_count": 67,
   "metadata": {},
   "outputs": [],
   "source": [
    "target_crs = \"EPSG:25832\""
   ]
  },
  {
   "cell_type": "markdown",
   "metadata": {},
   "source": [
    "### Disturbance agents"
   ]
  },
  {
   "cell_type": "code",
   "execution_count": 68,
   "metadata": {},
   "outputs": [],
   "source": [
    "# read raster\n",
    "disturbance_atlas_fp = \"../atlas/disturbance_agent_germany.tif\" \n",
    "disturbance_rast = rioxarray.open_rasterio(disturbance_atlas_fp) \n",
    "# reproject and save\n",
    "reprojected_raster = xr_reproject(disturbance_rast, how=target_crs)\n",
    "reprojected_raster.isel(band = 0).rio.to_raster(\"../atlas/reprojected_agents.tif\")\n",
    "\n",
    "# delete to save ram\n",
    "del reprojected_raster"
   ]
  },
  {
   "cell_type": "markdown",
   "metadata": {},
   "source": [
    "### latest disturbance"
   ]
  },
  {
   "cell_type": "code",
   "execution_count": 69,
   "metadata": {},
   "outputs": [],
   "source": [
    "# read in raster\n",
    "latest_fp = \"../atlas/latest_disturbance_germany.tif\"\n",
    "latest_r = rioxarray.open_rasterio(latest_fp)\n",
    "# reproject and save\n",
    "reprojected_latest = xr_reproject(latest_r, how = target_crs)\n",
    "reprojected_latest.isel(band = 0).rio.to_raster(\"../atlas/reprojected_latest.tif\")\n",
    "\n",
    "# delete to save ram\n",
    "del reprojected_latest"
   ]
  },
  {
   "cell_type": "markdown",
   "metadata": {},
   "source": [
    "## Clip rasters to boundaries\n",
    "\n",
    "done in QGIS!\n",
    "- click on raster layer\n",
    "- go `raster` -> `extract` -> `clip raster by mask layer`\n",
    "- input the paramters, run for each state and save to be used below"
   ]
  },
  {
   "cell_type": "markdown",
   "metadata": {},
   "source": [
    "## Convert rasters into shapefiles\n",
    "done in QGIS!\n",
    "- click on raster layer\n",
    "- go `raster` -> `conversion` -> `Polygonize (Raster to Vector)`\n",
    "- run for each raster file created in the previous step"
   ]
  },
  {
   "cell_type": "markdown",
   "metadata": {},
   "source": [
    "## Cleaning the new shapefiles"
   ]
  },
  {
   "cell_type": "markdown",
   "metadata": {},
   "source": [
    "### Read in disturbance agents and latest disturbance shp's"
   ]
  },
  {
   "cell_type": "code",
   "execution_count": 70,
   "metadata": {},
   "outputs": [],
   "source": [
    "disturbance_fp = \"../atlas/poly_disturbances/\"\n",
    "latest_fp = \"../atlas/poly_latest/\""
   ]
  },
  {
   "cell_type": "code",
   "execution_count": 17,
   "metadata": {},
   "outputs": [],
   "source": [
    "# each federal states is a shapefile\n",
    "# the format of each file name follows the abbrevaited form of the state as two chars; Brandenburg -> bb\n",
    "# return a list with all the shapefiles, either from disturbance agents or latest disturbance \n",
    "def read_shps(fp):\n",
    "    with os.scandir(fp) as entries:\n",
    "        files = sorted([entry.name for entry in entries if entry.is_file() and entry.name.endswith('.shp')])\n",
    "    \n",
    "    fps = []\n",
    "    \n",
    "    for file in files:\n",
    "        filepath = os.path.join(fp, file)\n",
    "        gdf = gpd.read_file(filepath)\n",
    "        fps.append([file[:2], gdf])\n",
    "        print(f\"Loaded: {file}\")\n",
    "    return fps"
   ]
  },
  {
   "cell_type": "code",
   "execution_count": 72,
   "metadata": {},
   "outputs": [
    {
     "name": "stdout",
     "output_type": "stream",
     "text": [
      "Loaded: bb_disturb1.shp\n",
      "Loaded: be_disturb1.shp\n",
      "Loaded: bw_disturb1.shp\n",
      "Loaded: by_disturb1.shp\n",
      "Loaded: hb_disturb1.shp\n",
      "Loaded: he_disturb1.shp\n",
      "Loaded: hh_disturb1.shp\n",
      "Loaded: mv_disturb1.shp\n",
      "Loaded: ni_disturb1.shp\n",
      "Loaded: nw_disturb1.shp\n",
      "Loaded: rp_disturb1.shp\n",
      "Loaded: sh_disturb1.shp\n",
      "Loaded: sl_disturb1.shp\n",
      "Loaded: sn_disturb1.shp\n",
      "Loaded: st_disturb1.shp\n",
      "Loaded: th_disturb1.shp\n"
     ]
    },
    {
     "data": {
      "text/plain": [
       "<Axes: >"
      ]
     },
     "execution_count": 72,
     "metadata": {},
     "output_type": "execute_result"
    },
    {
     "data": {
      "image/png": "[encoded data removed]",
      "text/plain": [
       "<Figure size 640x480 with 1 Axes>"
      ]
     },
     "metadata": {},
     "output_type": "display_data"
    }
   ],
   "source": [
    "# lists with data for each state as a shapefile\n",
    "disturbance_shps = read_shps(disturbance_fp)\n",
    "# should plot the disturbance agent shp for brandenburg\n",
    "disturbance_shps[0][1].plot()"
   ]
  },
  {
   "cell_type": "code",
   "execution_count": 73,
   "metadata": {},
   "outputs": [
    {
     "name": "stdout",
     "output_type": "stream",
     "text": [
      "Loaded: bb_latest1.shp\n",
      "Loaded: be_latest1.shp\n",
      "Loaded: bw_latest1.shp\n",
      "Loaded: by_latest1.shp\n",
      "Loaded: hb_latest1.shp\n",
      "Loaded: he_latest1.shp\n",
      "Loaded: hh_latest1.shp\n",
      "Loaded: mv_latest1.shp\n",
      "Loaded: ni_latest1.shp\n",
      "Loaded: nw_latest1.shp\n",
      "Loaded: rp_latest1.shp\n",
      "Loaded: sh_latest1.shp\n",
      "Loaded: sl_latest1.shp\n",
      "Loaded: sn_latest1.shp\n",
      "Loaded: st_latest1.shp\n",
      "Loaded: th_latest1.shp\n"
     ]
    },
    {
     "data": {
      "text/plain": [
       "<Axes: >"
      ]
     },
     "execution_count": 73,
     "metadata": {},
     "output_type": "execute_result"
    },
    {
     "data": {
      "image/png": "[encoded data removed]",
      "text/plain": [
       "<Figure size 640x480 with 1 Axes>"
      ]
     },
     "metadata": {},
     "output_type": "display_data"
    }
   ],
   "source": [
    "latest_shps = read_shps(latest_fp)\n",
    "# should plot the latest disturbance year shp for brandenburg\n",
    "latest_shps[0][1].plot()"
   ]
  },
  {
   "cell_type": "markdown",
   "metadata": {},
   "source": [
    "### Perform right nearest spatial join and clean up the attributes  "
   ]
  },
  {
   "cell_type": "code",
   "execution_count": 74,
   "metadata": {},
   "outputs": [],
   "source": [
    "def clean_shp(shp, idx):\n",
    "    # drop empty rows - will likely result in data loss\n",
    "    shp = shp.dropna()\n",
    "    \n",
    "    if \"fid\" in shp.columns.to_list():\n",
    "        shp = shp.drop(columns= \"fid\")\n",
    "        print(\"drop index_left column\")\n",
    "    \n",
    "    # rename columns\n",
    "    shp = shp.rename(columns= {\"index_left\" : \"event_id\", \"DN_left\" : \"cause\", \"DN_right\" : \"year\"})\n",
    "    \n",
    "    # add month, day and ref_id's\n",
    "    shp[\"month\"] = np.nan\n",
    "    shp[\"day\"] = np.nan \n",
    "    shp[\"ref_id\"] = \"r5\" # a foreign key\n",
    "    \n",
    "    # reformat the float values into human readable names\n",
    "    shp[\"cause\"] = shp[\"cause\"].apply(lambda x: \"wind/bark beetle\" if x == 1.0 else (\"fire\" if x == 2.0 else (\"harvest\" if x == 3.0 else \"aggregation\")))\n",
    "    \n",
    "    # reformat the event_id (the primary key) values and should become continuous and not duplicating\n",
    "    shp[\"event_id\"] = [\"e\" + str(idx + i) for i in range(0, (len(shp.index)))]\n",
    "    \n",
    "    return shp"
   ]
  },
  {
   "cell_type": "code",
   "execution_count": 75,
   "metadata": {},
   "outputs": [
    {
     "name": "stdout",
     "output_type": "stream",
     "text": [
      "drop index_left column\n",
      "saved bb_final_shp.shp\n",
      "\n",
      "saved be_final_shp.shp\n",
      "\n",
      "saved bw_final_shp.shp\n",
      "\n"
     ]
    },
    {
     "ename": "KeyboardInterrupt",
     "evalue": "",
     "output_type": "error",
     "traceback": [
      "\u001b[0;31m---------------------------------------------------------------------------\u001b[0m",
      "\u001b[0;31mKeyboardInterrupt\u001b[0m                         Traceback (most recent call last)",
      "\u001b[1;32m/home/teemo/Documents/HNEE/third semester/research project/database/final_data/scripts/data_processing.ipynb Cell 113\u001b[0m line \u001b[0;36m8\n\u001b[1;32m      <a href='vscode-notebook-cell:/home/teemo/Documents/HNEE/third%20semester/research%20project/database/final_data/scripts/data_processing.ipynb#Y215sZmlsZQ%3D%3D?line=4'>5</a>\u001b[0m join \u001b[39m=\u001b[39m clean_shp(join, idx)\n\u001b[1;32m      <a href='vscode-notebook-cell:/home/teemo/Documents/HNEE/third%20semester/research%20project/database/final_data/scripts/data_processing.ipynb#Y215sZmlsZQ%3D%3D?line=5'>6</a>\u001b[0m idx \u001b[39m=\u001b[39m idx \u001b[39m+\u001b[39m \u001b[39mlen\u001b[39m(join\u001b[39m.\u001b[39mindex)\n\u001b[0;32m----> <a href='vscode-notebook-cell:/home/teemo/Documents/HNEE/third%20semester/research%20project/database/final_data/scripts/data_processing.ipynb#Y215sZmlsZQ%3D%3D?line=7'>8</a>\u001b[0m join\u001b[39m.\u001b[39mto_file(output_fp \u001b[39m+\u001b[39m disturbance_shps[i][\u001b[39m0\u001b[39m] \u001b[39m+\u001b[39m \u001b[39m\"\u001b[39m\u001b[39m_final.shp\u001b[39m\u001b[39m\"\u001b[39m)\n\u001b[1;32m      <a href='vscode-notebook-cell:/home/teemo/Documents/HNEE/third%20semester/research%20project/database/final_data/scripts/data_processing.ipynb#Y215sZmlsZQ%3D%3D?line=8'>9</a>\u001b[0m \u001b[39mprint\u001b[39m(\u001b[39mf\u001b[39m\u001b[39m\"\u001b[39m\u001b[39msaved \u001b[39m\u001b[39m{\u001b[39;00mdisturbance_shps[i][\u001b[39m0\u001b[39m]\u001b[39m}\u001b[39;00m\u001b[39m_final_shp.shp\u001b[39m\u001b[39m\\n\u001b[39;00m\u001b[39m\"\u001b[39m)\n\u001b[1;32m     <a href='vscode-notebook-cell:/home/teemo/Documents/HNEE/third%20semester/research%20project/database/final_data/scripts/data_processing.ipynb#Y215sZmlsZQ%3D%3D?line=10'>11</a>\u001b[0m \u001b[39m# delete unneeded dataframe:\u001b[39;00m\n",
      "File \u001b[0;32m~/anaconda3/lib/python3.11/site-packages/geopandas/geodataframe.py:1536\u001b[0m, in \u001b[0;36mGeoDataFrame.to_file\u001b[0;34m(self, filename, driver, schema, index, **kwargs)\u001b[0m\n\u001b[1;32m   1441\u001b[0m \u001b[39m\u001b[39m\u001b[39m\"\"\"Write the ``GeoDataFrame`` to a file.\u001b[39;00m\n\u001b[1;32m   1442\u001b[0m \n\u001b[1;32m   1443\u001b[0m \u001b[39mBy default, an ESRI shapefile is written, but any OGR data source\u001b[39;00m\n\u001b[0;32m   (...)\u001b[0m\n\u001b[1;32m   1532\u001b[0m \n\u001b[1;32m   1533\u001b[0m \u001b[39m\"\"\"\u001b[39;00m\n\u001b[1;32m   1534\u001b[0m \u001b[39mfrom\u001b[39;00m \u001b[39mgeopandas\u001b[39;00m\u001b[39m.\u001b[39;00m\u001b[39mio\u001b[39;00m\u001b[39m.\u001b[39;00m\u001b[39mfile\u001b[39;00m \u001b[39mimport\u001b[39;00m _to_file\n\u001b[0;32m-> 1536\u001b[0m _to_file(\u001b[39mself\u001b[39m, filename, driver, schema, index, \u001b[39m*\u001b[39m\u001b[39m*\u001b[39mkwargs)\n",
      "File \u001b[0;32m~/anaconda3/lib/python3.11/site-packages/geopandas/io/file.py:686\u001b[0m, in \u001b[0;36m_to_file\u001b[0;34m(df, filename, driver, schema, index, mode, crs, engine, metadata, **kwargs)\u001b[0m\n\u001b[1;32m    683\u001b[0m     \u001b[39mraise\u001b[39;00m \u001b[39mValueError\u001b[39;00m(\u001b[39mf\u001b[39m\u001b[39m\"\u001b[39m\u001b[39m'\u001b[39m\u001b[39mmode\u001b[39m\u001b[39m'\u001b[39m\u001b[39m should be one of \u001b[39m\u001b[39m'\u001b[39m\u001b[39mw\u001b[39m\u001b[39m'\u001b[39m\u001b[39m or \u001b[39m\u001b[39m'\u001b[39m\u001b[39ma\u001b[39m\u001b[39m'\u001b[39m\u001b[39m, got \u001b[39m\u001b[39m'\u001b[39m\u001b[39m{\u001b[39;00mmode\u001b[39m}\u001b[39;00m\u001b[39m'\u001b[39m\u001b[39m instead\u001b[39m\u001b[39m\"\u001b[39m)\n\u001b[1;32m    685\u001b[0m \u001b[39mif\u001b[39;00m engine \u001b[39m==\u001b[39m \u001b[39m\"\u001b[39m\u001b[39mpyogrio\u001b[39m\u001b[39m\"\u001b[39m:\n\u001b[0;32m--> 686\u001b[0m     _to_file_pyogrio(df, filename, driver, schema, crs, mode, metadata, \u001b[39m*\u001b[39m\u001b[39m*\u001b[39mkwargs)\n\u001b[1;32m    687\u001b[0m \u001b[39melif\u001b[39;00m engine \u001b[39m==\u001b[39m \u001b[39m\"\u001b[39m\u001b[39mfiona\u001b[39m\u001b[39m\"\u001b[39m:\n\u001b[1;32m    688\u001b[0m     _to_file_fiona(df, filename, driver, schema, crs, mode, metadata, \u001b[39m*\u001b[39m\u001b[39m*\u001b[39mkwargs)\n",
      "File \u001b[0;32m~/anaconda3/lib/python3.11/site-packages/geopandas/io/file.py:748\u001b[0m, in \u001b[0;36m_to_file_pyogrio\u001b[0;34m(df, filename, driver, schema, crs, mode, metadata, **kwargs)\u001b[0m\n\u001b[1;32m    745\u001b[0m \u001b[39mif\u001b[39;00m \u001b[39mnot\u001b[39;00m df\u001b[39m.\u001b[39mcolumns\u001b[39m.\u001b[39mis_unique:\n\u001b[1;32m    746\u001b[0m     \u001b[39mraise\u001b[39;00m \u001b[39mValueError\u001b[39;00m(\u001b[39m\"\u001b[39m\u001b[39mGeoDataFrame cannot contain duplicated column names.\u001b[39m\u001b[39m\"\u001b[39m)\n\u001b[0;32m--> 748\u001b[0m pyogrio\u001b[39m.\u001b[39mwrite_dataframe(df, filename, driver\u001b[39m=\u001b[39mdriver, metadata\u001b[39m=\u001b[39mmetadata, \u001b[39m*\u001b[39m\u001b[39m*\u001b[39mkwargs)\n",
      "File \u001b[0;32m~/anaconda3/lib/python3.11/site-packages/pyogrio/geopandas.py:662\u001b[0m, in \u001b[0;36mwrite_dataframe\u001b[0;34m(df, path, layer, driver, encoding, geometry_type, promote_to_multi, nan_as_null, append, use_arrow, dataset_metadata, layer_metadata, metadata, dataset_options, layer_options, **kwargs)\u001b[0m\n\u001b[1;32m    659\u001b[0m \u001b[39mif\u001b[39;00m geometry_column \u001b[39mis\u001b[39;00m \u001b[39mnot\u001b[39;00m \u001b[39mNone\u001b[39;00m:\n\u001b[1;32m    660\u001b[0m     geometry \u001b[39m=\u001b[39m to_wkb(geometry\u001b[39m.\u001b[39mvalues)\n\u001b[0;32m--> 662\u001b[0m write(\n\u001b[1;32m    663\u001b[0m     path,\n\u001b[1;32m    664\u001b[0m     layer\u001b[39m=\u001b[39mlayer,\n\u001b[1;32m    665\u001b[0m     driver\u001b[39m=\u001b[39mdriver,\n\u001b[1;32m    666\u001b[0m     geometry\u001b[39m=\u001b[39mgeometry,\n\u001b[1;32m    667\u001b[0m     field_data\u001b[39m=\u001b[39mfield_data,\n\u001b[1;32m    668\u001b[0m     field_mask\u001b[39m=\u001b[39mfield_mask,\n\u001b[1;32m    669\u001b[0m     fields\u001b[39m=\u001b[39mfields,\n\u001b[1;32m    670\u001b[0m     crs\u001b[39m=\u001b[39mcrs,\n\u001b[1;32m    671\u001b[0m     geometry_type\u001b[39m=\u001b[39mgeometry_type,\n\u001b[1;32m    672\u001b[0m     encoding\u001b[39m=\u001b[39mencoding,\n\u001b[1;32m    673\u001b[0m     promote_to_multi\u001b[39m=\u001b[39mpromote_to_multi,\n\u001b[1;32m    674\u001b[0m     nan_as_null\u001b[39m=\u001b[39mnan_as_null,\n\u001b[1;32m    675\u001b[0m     append\u001b[39m=\u001b[39mappend,\n\u001b[1;32m    676\u001b[0m     dataset_metadata\u001b[39m=\u001b[39mdataset_metadata,\n\u001b[1;32m    677\u001b[0m     layer_metadata\u001b[39m=\u001b[39mlayer_metadata,\n\u001b[1;32m    678\u001b[0m     metadata\u001b[39m=\u001b[39mmetadata,\n\u001b[1;32m    679\u001b[0m     dataset_options\u001b[39m=\u001b[39mdataset_options,\n\u001b[1;32m    680\u001b[0m     layer_options\u001b[39m=\u001b[39mlayer_options,\n\u001b[1;32m    681\u001b[0m     gdal_tz_offsets\u001b[39m=\u001b[39mgdal_tz_offsets,\n\u001b[1;32m    682\u001b[0m     \u001b[39m*\u001b[39m\u001b[39m*\u001b[39mkwargs,\n\u001b[1;32m    683\u001b[0m )\n",
      "File \u001b[0;32m~/anaconda3/lib/python3.11/site-packages/pyogrio/raw.py:723\u001b[0m, in \u001b[0;36mwrite\u001b[0;34m(path, geometry, field_data, fields, field_mask, layer, driver, geometry_type, crs, encoding, promote_to_multi, nan_as_null, append, dataset_metadata, layer_metadata, metadata, dataset_options, layer_options, gdal_tz_offsets, **kwargs)\u001b[0m\n\u001b[1;32m    718\u001b[0m \u001b[39m# preprocess kwargs and split in dataset and layer creation options\u001b[39;00m\n\u001b[1;32m    719\u001b[0m dataset_kwargs, layer_kwargs \u001b[39m=\u001b[39m _preprocess_options_kwargs(\n\u001b[1;32m    720\u001b[0m     driver, dataset_options, layer_options, kwargs\n\u001b[1;32m    721\u001b[0m )\n\u001b[0;32m--> 723\u001b[0m ogr_write(\n\u001b[1;32m    724\u001b[0m     path,\n\u001b[1;32m    725\u001b[0m     layer\u001b[39m=\u001b[39mlayer,\n\u001b[1;32m    726\u001b[0m     driver\u001b[39m=\u001b[39mdriver,\n\u001b[1;32m    727\u001b[0m     geometry\u001b[39m=\u001b[39mgeometry,\n\u001b[1;32m    728\u001b[0m     geometry_type\u001b[39m=\u001b[39mgeometry_type,\n\u001b[1;32m    729\u001b[0m     field_data\u001b[39m=\u001b[39mfield_data,\n\u001b[1;32m    730\u001b[0m     field_mask\u001b[39m=\u001b[39mfield_mask,\n\u001b[1;32m    731\u001b[0m     fields\u001b[39m=\u001b[39mfields,\n\u001b[1;32m    732\u001b[0m     crs\u001b[39m=\u001b[39mcrs,\n\u001b[1;32m    733\u001b[0m     encoding\u001b[39m=\u001b[39mencoding,\n\u001b[1;32m    734\u001b[0m     promote_to_multi\u001b[39m=\u001b[39mpromote_to_multi,\n\u001b[1;32m    735\u001b[0m     nan_as_null\u001b[39m=\u001b[39mnan_as_null,\n\u001b[1;32m    736\u001b[0m     append\u001b[39m=\u001b[39mappend,\n\u001b[1;32m    737\u001b[0m     dataset_metadata\u001b[39m=\u001b[39mdataset_metadata,\n\u001b[1;32m    738\u001b[0m     layer_metadata\u001b[39m=\u001b[39mlayer_metadata,\n\u001b[1;32m    739\u001b[0m     dataset_kwargs\u001b[39m=\u001b[39mdataset_kwargs,\n\u001b[1;32m    740\u001b[0m     layer_kwargs\u001b[39m=\u001b[39mlayer_kwargs,\n\u001b[1;32m    741\u001b[0m     gdal_tz_offsets\u001b[39m=\u001b[39mgdal_tz_offsets,\n\u001b[1;32m    742\u001b[0m )\n",
      "File \u001b[0;32mpyogrio/_io.pyx:2504\u001b[0m, in \u001b[0;36mpyogrio._io.ogr_write\u001b[0;34m()\u001b[0m\n",
      "\u001b[0;31mKeyboardInterrupt\u001b[0m: "
     ]
    }
   ],
   "source": [
    "output_fp = \"../atlas/final_shps/\"\n",
    "idx = 0\n",
    "for i in range(len(disturbance_shps)):\n",
    "    join = disturbance_shps[i][1].sjoin(latest_shps[i][1], how = \"right\")\n",
    "    join = clean_shp(join, idx)\n",
    "    idx = idx + len(join.index)\n",
    "\n",
    "    join.to_file(output_fp + disturbance_shps[i][0] + \"_final.shp\")\n",
    "    print(f\"saved {disturbance_shps[i][0]}_final_shp.shp\\n\")\n",
    "\n",
    "    # delete unneeded dataframe:\n",
    "    del join"
   ]
  },
  {
   "cell_type": "markdown",
   "metadata": {},
   "source": [
    "# amend event_id's for forwind and effis"
   ]
  },
  {
   "cell_type": "code",
   "execution_count": 2,
   "metadata": {},
   "outputs": [],
   "source": [
    "df_forwind = gpd.read_file(\"../wind/forwind_clean.shp\")\n",
    "df_effis = gpd.read_file(\"../fire/effis_clean.shp\")\n",
    "df_th = gpd.read_file(\"../atlas/final_shps/th_final.shp\")"
   ]
  },
  {
   "cell_type": "code",
   "execution_count": 3,
   "metadata": {},
   "outputs": [
    {
     "data": {
      "text/html": [
       "<div>\n",
       "<style scoped>\n",
       "    .dataframe tbody tr th:only-of-type {\n",
       "        vertical-align: middle;\n",
       "    }\n",
       "\n",
       "    .dataframe tbody tr th {\n",
       "        vertical-align: top;\n",
       "    }\n",
       "\n",
       "    .dataframe thead th {\n",
       "        text-align: right;\n",
       "    }\n",
       "</style>\n",
       "<table border=\"1\" class=\"dataframe\">\n",
       "  <thead>\n",
       "    <tr style=\"text-align: right;\">\n",
       "      <th></th>\n",
       "      <th>event_id</th>\n",
       "      <th>cause</th>\n",
       "      <th>year</th>\n",
       "      <th>month</th>\n",
       "      <th>day</th>\n",
       "      <th>ref_id</th>\n",
       "      <th>geometry</th>\n",
       "    </tr>\n",
       "  </thead>\n",
       "  <tbody>\n",
       "    <tr>\n",
       "      <th>0</th>\n",
       "      <td>23010</td>\n",
       "      <td>wind/bark beetle</td>\n",
       "      <td>2007</td>\n",
       "      <td>1</td>\n",
       "      <td>7</td>\n",
       "      <td>r1</td>\n",
       "      <td>POLYGON ((328025.663 5583774.1, 328035.537 558...</td>\n",
       "    </tr>\n",
       "    <tr>\n",
       "      <th>1</th>\n",
       "      <td>23011</td>\n",
       "      <td>wind/bark beetle</td>\n",
       "      <td>2007</td>\n",
       "      <td>1</td>\n",
       "      <td>7</td>\n",
       "      <td>r1</td>\n",
       "      <td>POLYGON ((313165.015 5584316.621, 313182.886 5...</td>\n",
       "    </tr>\n",
       "    <tr>\n",
       "      <th>2</th>\n",
       "      <td>23012</td>\n",
       "      <td>wind/bark beetle</td>\n",
       "      <td>2007</td>\n",
       "      <td>1</td>\n",
       "      <td>7</td>\n",
       "      <td>r1</td>\n",
       "      <td>POLYGON ((339007.784 5583056.35, 339019.265 55...</td>\n",
       "    </tr>\n",
       "    <tr>\n",
       "      <th>3</th>\n",
       "      <td>23013</td>\n",
       "      <td>wind/bark beetle</td>\n",
       "      <td>2007</td>\n",
       "      <td>1</td>\n",
       "      <td>7</td>\n",
       "      <td>r1</td>\n",
       "      <td>POLYGON ((311824.819 5583968.284, 311832.874 5...</td>\n",
       "    </tr>\n",
       "    <tr>\n",
       "      <th>4</th>\n",
       "      <td>23014</td>\n",
       "      <td>wind/bark beetle</td>\n",
       "      <td>2007</td>\n",
       "      <td>1</td>\n",
       "      <td>7</td>\n",
       "      <td>r1</td>\n",
       "      <td>POLYGON ((326354.412 5583137.008, 326357.814 5...</td>\n",
       "    </tr>\n",
       "  </tbody>\n",
       "</table>\n",
       "</div>"
      ],
      "text/plain": [
       "   event_id             cause  year  month  day ref_id  \\\n",
       "0     23010  wind/bark beetle  2007      1    7     r1   \n",
       "1     23011  wind/bark beetle  2007      1    7     r1   \n",
       "2     23012  wind/bark beetle  2007      1    7     r1   \n",
       "3     23013  wind/bark beetle  2007      1    7     r1   \n",
       "4     23014  wind/bark beetle  2007      1    7     r1   \n",
       "\n",
       "                                            geometry  \n",
       "0  POLYGON ((328025.663 5583774.1, 328035.537 558...  \n",
       "1  POLYGON ((313165.015 5584316.621, 313182.886 5...  \n",
       "2  POLYGON ((339007.784 5583056.35, 339019.265 55...  \n",
       "3  POLYGON ((311824.819 5583968.284, 311832.874 5...  \n",
       "4  POLYGON ((326354.412 5583137.008, 326357.814 5...  "
      ]
     },
     "execution_count": 3,
     "metadata": {},
     "output_type": "execute_result"
    }
   ],
   "source": [
    "df_forwind.head()"
   ]
  },
  {
   "cell_type": "code",
   "execution_count": 4,
   "metadata": {},
   "outputs": [
    {
     "data": {
      "text/html": [
       "<div>\n",
       "<style scoped>\n",
       "    .dataframe tbody tr th:only-of-type {\n",
       "        vertical-align: middle;\n",
       "    }\n",
       "\n",
       "    .dataframe tbody tr th {\n",
       "        vertical-align: top;\n",
       "    }\n",
       "\n",
       "    .dataframe thead th {\n",
       "        text-align: right;\n",
       "    }\n",
       "</style>\n",
       "<table border=\"1\" class=\"dataframe\">\n",
       "  <thead>\n",
       "    <tr style=\"text-align: right;\">\n",
       "      <th></th>\n",
       "      <th>event_id</th>\n",
       "      <th>cause</th>\n",
       "      <th>year</th>\n",
       "      <th>month</th>\n",
       "      <th>day</th>\n",
       "      <th>ref_id</th>\n",
       "      <th>geometry</th>\n",
       "    </tr>\n",
       "  </thead>\n",
       "  <tbody>\n",
       "    <tr>\n",
       "      <th>0</th>\n",
       "      <td>176727</td>\n",
       "      <td>fire</td>\n",
       "      <td>2001</td>\n",
       "      <td>7</td>\n",
       "      <td>27</td>\n",
       "      <td>r7</td>\n",
       "      <td>POLYGON ((607515.213 5547583.801, 607505.385 5...</td>\n",
       "    </tr>\n",
       "    <tr>\n",
       "      <th>1</th>\n",
       "      <td>177477</td>\n",
       "      <td>fire</td>\n",
       "      <td>2001</td>\n",
       "      <td>8</td>\n",
       "      <td>15</td>\n",
       "      <td>r7</td>\n",
       "      <td>POLYGON ((495178.134 5800632.327, 495776.71 58...</td>\n",
       "    </tr>\n",
       "    <tr>\n",
       "      <th>2</th>\n",
       "      <td>178047</td>\n",
       "      <td>fire</td>\n",
       "      <td>2001</td>\n",
       "      <td>8</td>\n",
       "      <td>31</td>\n",
       "      <td>r7</td>\n",
       "      <td>POLYGON ((509194.928 5481528.603, 509513.214 5...</td>\n",
       "    </tr>\n",
       "    <tr>\n",
       "      <th>3</th>\n",
       "      <td>169485</td>\n",
       "      <td>fire</td>\n",
       "      <td>2003</td>\n",
       "      <td>2</td>\n",
       "      <td>19</td>\n",
       "      <td>r7</td>\n",
       "      <td>POLYGON ((552395.093 5423631.683, 552399.696 5...</td>\n",
       "    </tr>\n",
       "    <tr>\n",
       "      <th>4</th>\n",
       "      <td>169499</td>\n",
       "      <td>fire</td>\n",
       "      <td>2003</td>\n",
       "      <td>2</td>\n",
       "      <td>22</td>\n",
       "      <td>r7</td>\n",
       "      <td>POLYGON ((548209.282 5424082.36, 548852.545 54...</td>\n",
       "    </tr>\n",
       "  </tbody>\n",
       "</table>\n",
       "</div>"
      ],
      "text/plain": [
       "  event_id cause  year  month  day ref_id  \\\n",
       "0   176727  fire  2001      7   27     r7   \n",
       "1   177477  fire  2001      8   15     r7   \n",
       "2   178047  fire  2001      8   31     r7   \n",
       "3   169485  fire  2003      2   19     r7   \n",
       "4   169499  fire  2003      2   22     r7   \n",
       "\n",
       "                                            geometry  \n",
       "0  POLYGON ((607515.213 5547583.801, 607505.385 5...  \n",
       "1  POLYGON ((495178.134 5800632.327, 495776.71 58...  \n",
       "2  POLYGON ((509194.928 5481528.603, 509513.214 5...  \n",
       "3  POLYGON ((552395.093 5423631.683, 552399.696 5...  \n",
       "4  POLYGON ((548209.282 5424082.36, 548852.545 54...  "
      ]
     },
     "execution_count": 4,
     "metadata": {},
     "output_type": "execute_result"
    }
   ],
   "source": [
    "df_effis.head()"
   ]
  },
  {
   "cell_type": "code",
   "execution_count": 5,
   "metadata": {},
   "outputs": [
    {
     "data": {
      "text/html": [
       "<div>\n",
       "<style scoped>\n",
       "    .dataframe tbody tr th:only-of-type {\n",
       "        vertical-align: middle;\n",
       "    }\n",
       "\n",
       "    .dataframe tbody tr th {\n",
       "        vertical-align: top;\n",
       "    }\n",
       "\n",
       "    .dataframe thead th {\n",
       "        text-align: right;\n",
       "    }\n",
       "</style>\n",
       "<table border=\"1\" class=\"dataframe\">\n",
       "  <thead>\n",
       "    <tr style=\"text-align: right;\">\n",
       "      <th></th>\n",
       "      <th>event_id</th>\n",
       "      <th>cause</th>\n",
       "      <th>year</th>\n",
       "      <th>month</th>\n",
       "      <th>day</th>\n",
       "      <th>ref_id</th>\n",
       "      <th>geometry</th>\n",
       "    </tr>\n",
       "  </thead>\n",
       "  <tbody>\n",
       "    <tr>\n",
       "      <th>319867</th>\n",
       "      <td>e7604882</td>\n",
       "      <td>harvest</td>\n",
       "      <td>2021</td>\n",
       "      <td>NaN</td>\n",
       "      <td>NaN</td>\n",
       "      <td>r5</td>\n",
       "      <td>POLYGON ((622980 5563290, 623010 5563290, 6230...</td>\n",
       "    </tr>\n",
       "    <tr>\n",
       "      <th>319868</th>\n",
       "      <td>e7604883</td>\n",
       "      <td>wind/bark beetle</td>\n",
       "      <td>1991</td>\n",
       "      <td>NaN</td>\n",
       "      <td>NaN</td>\n",
       "      <td>r5</td>\n",
       "      <td>POLYGON ((622470 5563110, 622500 5563110, 6225...</td>\n",
       "    </tr>\n",
       "    <tr>\n",
       "      <th>319869</th>\n",
       "      <td>e7604884</td>\n",
       "      <td>wind/bark beetle</td>\n",
       "      <td>1991</td>\n",
       "      <td>NaN</td>\n",
       "      <td>NaN</td>\n",
       "      <td>r5</td>\n",
       "      <td>POLYGON ((622470 5563110, 622500 5563110, 6225...</td>\n",
       "    </tr>\n",
       "    <tr>\n",
       "      <th>319870</th>\n",
       "      <td>e7604885</td>\n",
       "      <td>wind/bark beetle</td>\n",
       "      <td>1991</td>\n",
       "      <td>NaN</td>\n",
       "      <td>NaN</td>\n",
       "      <td>r5</td>\n",
       "      <td>POLYGON ((622590 5562960, 622680 5562960, 6226...</td>\n",
       "    </tr>\n",
       "    <tr>\n",
       "      <th>319871</th>\n",
       "      <td>e7604886</td>\n",
       "      <td>wind/bark beetle</td>\n",
       "      <td>1991</td>\n",
       "      <td>NaN</td>\n",
       "      <td>NaN</td>\n",
       "      <td>r5</td>\n",
       "      <td>POLYGON ((622590 5562960, 622680 5562960, 6226...</td>\n",
       "    </tr>\n",
       "  </tbody>\n",
       "</table>\n",
       "</div>"
      ],
      "text/plain": [
       "        event_id             cause  year  month  day ref_id  \\\n",
       "319867  e7604882           harvest  2021    NaN  NaN     r5   \n",
       "319868  e7604883  wind/bark beetle  1991    NaN  NaN     r5   \n",
       "319869  e7604884  wind/bark beetle  1991    NaN  NaN     r5   \n",
       "319870  e7604885  wind/bark beetle  1991    NaN  NaN     r5   \n",
       "319871  e7604886  wind/bark beetle  1991    NaN  NaN     r5   \n",
       "\n",
       "                                                 geometry  \n",
       "319867  POLYGON ((622980 5563290, 623010 5563290, 6230...  \n",
       "319868  POLYGON ((622470 5563110, 622500 5563110, 6225...  \n",
       "319869  POLYGON ((622470 5563110, 622500 5563110, 6225...  \n",
       "319870  POLYGON ((622590 5562960, 622680 5562960, 6226...  \n",
       "319871  POLYGON ((622590 5562960, 622680 5562960, 6226...  "
      ]
     },
     "execution_count": 5,
     "metadata": {},
     "output_type": "execute_result"
    }
   ],
   "source": [
    "# the last values of the event_id \n",
    "df_th.tail()"
   ]
  },
  {
   "cell_type": "code",
   "execution_count": 8,
   "metadata": {},
   "outputs": [
    {
     "data": {
      "text/plain": [
       "7604887"
      ]
     },
     "execution_count": 8,
     "metadata": {},
     "output_type": "execute_result"
    }
   ],
   "source": [
    "# find the last event_id value and assign it to the index\n",
    "idx = df_th[\"event_id\"].iloc[len(df_th.index) - 1]\n",
    "idx = int(idx[1:])\n",
    "idx = idx + 1\n",
    "idx"
   ]
  },
  {
   "cell_type": "code",
   "execution_count": 9,
   "metadata": {},
   "outputs": [
    {
     "data": {
      "text/html": [
       "<div>\n",
       "<style scoped>\n",
       "    .dataframe tbody tr th:only-of-type {\n",
       "        vertical-align: middle;\n",
       "    }\n",
       "\n",
       "    .dataframe tbody tr th {\n",
       "        vertical-align: top;\n",
       "    }\n",
       "\n",
       "    .dataframe thead th {\n",
       "        text-align: right;\n",
       "    }\n",
       "</style>\n",
       "<table border=\"1\" class=\"dataframe\">\n",
       "  <thead>\n",
       "    <tr style=\"text-align: right;\">\n",
       "      <th></th>\n",
       "      <th>event_id</th>\n",
       "      <th>cause</th>\n",
       "      <th>year</th>\n",
       "      <th>month</th>\n",
       "      <th>day</th>\n",
       "      <th>ref_id</th>\n",
       "      <th>geometry</th>\n",
       "    </tr>\n",
       "  </thead>\n",
       "  <tbody>\n",
       "    <tr>\n",
       "      <th>0</th>\n",
       "      <td>e7604887</td>\n",
       "      <td>fire</td>\n",
       "      <td>2001</td>\n",
       "      <td>7</td>\n",
       "      <td>27</td>\n",
       "      <td>r7</td>\n",
       "      <td>POLYGON ((607515.213 5547583.801, 607505.385 5...</td>\n",
       "    </tr>\n",
       "    <tr>\n",
       "      <th>1</th>\n",
       "      <td>e7604888</td>\n",
       "      <td>fire</td>\n",
       "      <td>2001</td>\n",
       "      <td>8</td>\n",
       "      <td>15</td>\n",
       "      <td>r7</td>\n",
       "      <td>POLYGON ((495178.134 5800632.327, 495776.71 58...</td>\n",
       "    </tr>\n",
       "    <tr>\n",
       "      <th>2</th>\n",
       "      <td>e7604889</td>\n",
       "      <td>fire</td>\n",
       "      <td>2001</td>\n",
       "      <td>8</td>\n",
       "      <td>31</td>\n",
       "      <td>r7</td>\n",
       "      <td>POLYGON ((509194.928 5481528.603, 509513.214 5...</td>\n",
       "    </tr>\n",
       "    <tr>\n",
       "      <th>3</th>\n",
       "      <td>e7604890</td>\n",
       "      <td>fire</td>\n",
       "      <td>2003</td>\n",
       "      <td>2</td>\n",
       "      <td>19</td>\n",
       "      <td>r7</td>\n",
       "      <td>POLYGON ((552395.093 5423631.683, 552399.696 5...</td>\n",
       "    </tr>\n",
       "    <tr>\n",
       "      <th>4</th>\n",
       "      <td>e7604891</td>\n",
       "      <td>fire</td>\n",
       "      <td>2003</td>\n",
       "      <td>2</td>\n",
       "      <td>22</td>\n",
       "      <td>r7</td>\n",
       "      <td>POLYGON ((548209.282 5424082.36, 548852.545 54...</td>\n",
       "    </tr>\n",
       "  </tbody>\n",
       "</table>\n",
       "</div>"
      ],
      "text/plain": [
       "   event_id cause  year  month  day ref_id  \\\n",
       "0  e7604887  fire  2001      7   27     r7   \n",
       "1  e7604888  fire  2001      8   15     r7   \n",
       "2  e7604889  fire  2001      8   31     r7   \n",
       "3  e7604890  fire  2003      2   19     r7   \n",
       "4  e7604891  fire  2003      2   22     r7   \n",
       "\n",
       "                                            geometry  \n",
       "0  POLYGON ((607515.213 5547583.801, 607505.385 5...  \n",
       "1  POLYGON ((495178.134 5800632.327, 495776.71 58...  \n",
       "2  POLYGON ((509194.928 5481528.603, 509513.214 5...  \n",
       "3  POLYGON ((552395.093 5423631.683, 552399.696 5...  \n",
       "4  POLYGON ((548209.282 5424082.36, 548852.545 54...  "
      ]
     },
     "execution_count": 9,
     "metadata": {},
     "output_type": "execute_result"
    }
   ],
   "source": [
    "df_effis[\"event_id\"] = [\"e\" + str(idx + i) for i in range(0, (len(df_effis.index)))]\n",
    "df_effis.head()"
   ]
  },
  {
   "cell_type": "code",
   "execution_count": 10,
   "metadata": {},
   "outputs": [
    {
     "data": {
      "text/html": [
       "<div>\n",
       "<style scoped>\n",
       "    .dataframe tbody tr th:only-of-type {\n",
       "        vertical-align: middle;\n",
       "    }\n",
       "\n",
       "    .dataframe tbody tr th {\n",
       "        vertical-align: top;\n",
       "    }\n",
       "\n",
       "    .dataframe thead th {\n",
       "        text-align: right;\n",
       "    }\n",
       "</style>\n",
       "<table border=\"1\" class=\"dataframe\">\n",
       "  <thead>\n",
       "    <tr style=\"text-align: right;\">\n",
       "      <th></th>\n",
       "      <th>event_id</th>\n",
       "      <th>cause</th>\n",
       "      <th>year</th>\n",
       "      <th>month</th>\n",
       "      <th>day</th>\n",
       "      <th>ref_id</th>\n",
       "      <th>geometry</th>\n",
       "    </tr>\n",
       "  </thead>\n",
       "  <tbody>\n",
       "    <tr>\n",
       "      <th>110</th>\n",
       "      <td>e7604997</td>\n",
       "      <td>fire</td>\n",
       "      <td>2021</td>\n",
       "      <td>8</td>\n",
       "      <td>12</td>\n",
       "      <td>r7</td>\n",
       "      <td>POLYGON ((716176.126 5836079.348, 716069.973 5...</td>\n",
       "    </tr>\n",
       "    <tr>\n",
       "      <th>111</th>\n",
       "      <td>e7604998</td>\n",
       "      <td>fire</td>\n",
       "      <td>2021</td>\n",
       "      <td>9</td>\n",
       "      <td>2</td>\n",
       "      <td>r7</td>\n",
       "      <td>POLYGON ((676845.056 5821772.325, 676807.203 5...</td>\n",
       "    </tr>\n",
       "    <tr>\n",
       "      <th>112</th>\n",
       "      <td>e7604999</td>\n",
       "      <td>fire</td>\n",
       "      <td>2021</td>\n",
       "      <td>8</td>\n",
       "      <td>12</td>\n",
       "      <td>r7</td>\n",
       "      <td>POLYGON ((716966.736 5836136.156, 716942.217 5...</td>\n",
       "    </tr>\n",
       "    <tr>\n",
       "      <th>113</th>\n",
       "      <td>e7605000</td>\n",
       "      <td>fire</td>\n",
       "      <td>2021</td>\n",
       "      <td>8</td>\n",
       "      <td>12</td>\n",
       "      <td>r7</td>\n",
       "      <td>POLYGON ((716428.071 5835984.387, 716362.507 5...</td>\n",
       "    </tr>\n",
       "    <tr>\n",
       "      <th>114</th>\n",
       "      <td>e7605001</td>\n",
       "      <td>fire</td>\n",
       "      <td>2021</td>\n",
       "      <td>9</td>\n",
       "      <td>2</td>\n",
       "      <td>r7</td>\n",
       "      <td>POLYGON ((675123.617 5817338.017, 675154.519 5...</td>\n",
       "    </tr>\n",
       "  </tbody>\n",
       "</table>\n",
       "</div>"
      ],
      "text/plain": [
       "     event_id cause  year  month  day ref_id  \\\n",
       "110  e7604997  fire  2021      8   12     r7   \n",
       "111  e7604998  fire  2021      9    2     r7   \n",
       "112  e7604999  fire  2021      8   12     r7   \n",
       "113  e7605000  fire  2021      8   12     r7   \n",
       "114  e7605001  fire  2021      9    2     r7   \n",
       "\n",
       "                                              geometry  \n",
       "110  POLYGON ((716176.126 5836079.348, 716069.973 5...  \n",
       "111  POLYGON ((676845.056 5821772.325, 676807.203 5...  \n",
       "112  POLYGON ((716966.736 5836136.156, 716942.217 5...  \n",
       "113  POLYGON ((716428.071 5835984.387, 716362.507 5...  \n",
       "114  POLYGON ((675123.617 5817338.017, 675154.519 5...  "
      ]
     },
     "execution_count": 10,
     "metadata": {},
     "output_type": "execute_result"
    }
   ],
   "source": [
    "df_effis.tail()"
   ]
  },
  {
   "cell_type": "code",
   "execution_count": 11,
   "metadata": {},
   "outputs": [
    {
     "data": {
      "text/html": [
       "<div>\n",
       "<style scoped>\n",
       "    .dataframe tbody tr th:only-of-type {\n",
       "        vertical-align: middle;\n",
       "    }\n",
       "\n",
       "    .dataframe tbody tr th {\n",
       "        vertical-align: top;\n",
       "    }\n",
       "\n",
       "    .dataframe thead th {\n",
       "        text-align: right;\n",
       "    }\n",
       "</style>\n",
       "<table border=\"1\" class=\"dataframe\">\n",
       "  <thead>\n",
       "    <tr style=\"text-align: right;\">\n",
       "      <th></th>\n",
       "      <th>event_id</th>\n",
       "      <th>cause</th>\n",
       "      <th>year</th>\n",
       "      <th>month</th>\n",
       "      <th>day</th>\n",
       "      <th>ref_id</th>\n",
       "      <th>geometry</th>\n",
       "    </tr>\n",
       "  </thead>\n",
       "  <tbody>\n",
       "    <tr>\n",
       "      <th>0</th>\n",
       "      <td>e7605002</td>\n",
       "      <td>wind/bark beetle</td>\n",
       "      <td>2007</td>\n",
       "      <td>1</td>\n",
       "      <td>7</td>\n",
       "      <td>r1</td>\n",
       "      <td>POLYGON ((328025.663 5583774.1, 328035.537 558...</td>\n",
       "    </tr>\n",
       "    <tr>\n",
       "      <th>1</th>\n",
       "      <td>e7605003</td>\n",
       "      <td>wind/bark beetle</td>\n",
       "      <td>2007</td>\n",
       "      <td>1</td>\n",
       "      <td>7</td>\n",
       "      <td>r1</td>\n",
       "      <td>POLYGON ((313165.015 5584316.621, 313182.886 5...</td>\n",
       "    </tr>\n",
       "    <tr>\n",
       "      <th>2</th>\n",
       "      <td>e7605004</td>\n",
       "      <td>wind/bark beetle</td>\n",
       "      <td>2007</td>\n",
       "      <td>1</td>\n",
       "      <td>7</td>\n",
       "      <td>r1</td>\n",
       "      <td>POLYGON ((339007.784 5583056.35, 339019.265 55...</td>\n",
       "    </tr>\n",
       "    <tr>\n",
       "      <th>3</th>\n",
       "      <td>e7605005</td>\n",
       "      <td>wind/bark beetle</td>\n",
       "      <td>2007</td>\n",
       "      <td>1</td>\n",
       "      <td>7</td>\n",
       "      <td>r1</td>\n",
       "      <td>POLYGON ((311824.819 5583968.284, 311832.874 5...</td>\n",
       "    </tr>\n",
       "    <tr>\n",
       "      <th>4</th>\n",
       "      <td>e7605006</td>\n",
       "      <td>wind/bark beetle</td>\n",
       "      <td>2007</td>\n",
       "      <td>1</td>\n",
       "      <td>7</td>\n",
       "      <td>r1</td>\n",
       "      <td>POLYGON ((326354.412 5583137.008, 326357.814 5...</td>\n",
       "    </tr>\n",
       "  </tbody>\n",
       "</table>\n",
       "</div>"
      ],
      "text/plain": [
       "   event_id             cause  year  month  day ref_id  \\\n",
       "0  e7605002  wind/bark beetle  2007      1    7     r1   \n",
       "1  e7605003  wind/bark beetle  2007      1    7     r1   \n",
       "2  e7605004  wind/bark beetle  2007      1    7     r1   \n",
       "3  e7605005  wind/bark beetle  2007      1    7     r1   \n",
       "4  e7605006  wind/bark beetle  2007      1    7     r1   \n",
       "\n",
       "                                            geometry  \n",
       "0  POLYGON ((328025.663 5583774.1, 328035.537 558...  \n",
       "1  POLYGON ((313165.015 5584316.621, 313182.886 5...  \n",
       "2  POLYGON ((339007.784 5583056.35, 339019.265 55...  \n",
       "3  POLYGON ((311824.819 5583968.284, 311832.874 5...  \n",
       "4  POLYGON ((326354.412 5583137.008, 326357.814 5...  "
      ]
     },
     "execution_count": 11,
     "metadata": {},
     "output_type": "execute_result"
    }
   ],
   "source": [
    "idx = idx + len(df_effis.index)\n",
    "df_forwind[\"event_id\"] = [\"e\" + str(idx + i) for i in range(0, (len(df_forwind.index)))]\n",
    "df_forwind.head()"
   ]
  },
  {
   "cell_type": "code",
   "execution_count": 12,
   "metadata": {},
   "outputs": [],
   "source": [
    "# save amended shapefiles:\n",
    "df_effis.to_file(\"../fire/effis_clean.shp\")\n",
    "df_forwind.to_file(\"../wind/forwind_clean.shp\")\n",
    "\n",
    "# delete dataframes to save on ram\n",
    "del df_effis\n",
    "del df_forwind"
   ]
  },
  {
   "cell_type": "markdown",
   "metadata": {},
   "source": [
    "# Take all events shapefiles and combine into one big shapefile"
   ]
  },
  {
   "cell_type": "code",
   "execution_count": 14,
   "metadata": {},
   "outputs": [],
   "source": [
    "first_shp = gpd.read_file(\"../atlas/final_shps/bb_final.shp\")\n",
    "event_shp = first_shp"
   ]
  },
  {
   "cell_type": "code",
   "execution_count": 15,
   "metadata": {},
   "outputs": [
    {
     "data": {
      "text/html": [
       "<div>\n",
       "<style scoped>\n",
       "    .dataframe tbody tr th:only-of-type {\n",
       "        vertical-align: middle;\n",
       "    }\n",
       "\n",
       "    .dataframe tbody tr th {\n",
       "        vertical-align: top;\n",
       "    }\n",
       "\n",
       "    .dataframe thead th {\n",
       "        text-align: right;\n",
       "    }\n",
       "</style>\n",
       "<table border=\"1\" class=\"dataframe\">\n",
       "  <thead>\n",
       "    <tr style=\"text-align: right;\">\n",
       "      <th></th>\n",
       "      <th>event_id</th>\n",
       "      <th>cause</th>\n",
       "      <th>year</th>\n",
       "      <th>month</th>\n",
       "      <th>day</th>\n",
       "      <th>ref_id</th>\n",
       "      <th>geometry</th>\n",
       "    </tr>\n",
       "  </thead>\n",
       "  <tbody>\n",
       "    <tr>\n",
       "      <th>0</th>\n",
       "      <td>e0</td>\n",
       "      <td>harvest</td>\n",
       "      <td>1987</td>\n",
       "      <td>NaN</td>\n",
       "      <td>NaN</td>\n",
       "      <td>r5</td>\n",
       "      <td>POLYGON ((821160 5940420, 821190 5940420, 8211...</td>\n",
       "    </tr>\n",
       "    <tr>\n",
       "      <th>1</th>\n",
       "      <td>e1</td>\n",
       "      <td>harvest</td>\n",
       "      <td>1987</td>\n",
       "      <td>NaN</td>\n",
       "      <td>NaN</td>\n",
       "      <td>r5</td>\n",
       "      <td>POLYGON ((821220 5940390, 821280 5940390, 8212...</td>\n",
       "    </tr>\n",
       "    <tr>\n",
       "      <th>2</th>\n",
       "      <td>e2</td>\n",
       "      <td>harvest</td>\n",
       "      <td>1987</td>\n",
       "      <td>NaN</td>\n",
       "      <td>NaN</td>\n",
       "      <td>r5</td>\n",
       "      <td>POLYGON ((821310 5940330, 821370 5940330, 8213...</td>\n",
       "    </tr>\n",
       "    <tr>\n",
       "      <th>3</th>\n",
       "      <td>e3</td>\n",
       "      <td>harvest</td>\n",
       "      <td>2015</td>\n",
       "      <td>NaN</td>\n",
       "      <td>NaN</td>\n",
       "      <td>r5</td>\n",
       "      <td>POLYGON ((821850 5940150, 821880 5940150, 8218...</td>\n",
       "    </tr>\n",
       "    <tr>\n",
       "      <th>4</th>\n",
       "      <td>e4</td>\n",
       "      <td>harvest</td>\n",
       "      <td>1993</td>\n",
       "      <td>NaN</td>\n",
       "      <td>NaN</td>\n",
       "      <td>r5</td>\n",
       "      <td>POLYGON ((822060 5939940, 822120 5939940, 8221...</td>\n",
       "    </tr>\n",
       "  </tbody>\n",
       "</table>\n",
       "</div>"
      ],
      "text/plain": [
       "  event_id    cause  year  month  day ref_id  \\\n",
       "0       e0  harvest  1987    NaN  NaN     r5   \n",
       "1       e1  harvest  1987    NaN  NaN     r5   \n",
       "2       e2  harvest  1987    NaN  NaN     r5   \n",
       "3       e3  harvest  2015    NaN  NaN     r5   \n",
       "4       e4  harvest  1993    NaN  NaN     r5   \n",
       "\n",
       "                                            geometry  \n",
       "0  POLYGON ((821160 5940420, 821190 5940420, 8211...  \n",
       "1  POLYGON ((821220 5940390, 821280 5940390, 8212...  \n",
       "2  POLYGON ((821310 5940330, 821370 5940330, 8213...  \n",
       "3  POLYGON ((821850 5940150, 821880 5940150, 8218...  \n",
       "4  POLYGON ((822060 5939940, 822120 5939940, 8221...  "
      ]
     },
     "execution_count": 15,
     "metadata": {},
     "output_type": "execute_result"
    }
   ],
   "source": [
    "event_shp.head()"
   ]
  },
  {
   "cell_type": "markdown",
   "metadata": {},
   "source": [
    "##  Read the shapefiles"
   ]
  },
  {
   "cell_type": "code",
   "execution_count": 18,
   "metadata": {},
   "outputs": [
    {
     "name": "stdout",
     "output_type": "stream",
     "text": [
      "Loaded: bb_final.shp\n",
      "Loaded: be_final.shp\n",
      "Loaded: bw_final.shp\n",
      "Loaded: by_final.shp\n",
      "Loaded: hb_final.shp\n",
      "Loaded: he_final.shp\n",
      "Loaded: hh_final.shp\n",
      "Loaded: mv_final.shp\n",
      "Loaded: ni_final.shp\n",
      "Loaded: nw_final.shp\n",
      "Loaded: rp_final.shp\n",
      "Loaded: sh_final.shp\n",
      "Loaded: sl_final.shp\n",
      "Loaded: sn_final.shp\n",
      "Loaded: st_final.shp\n",
      "Loaded: th_final.shp\n"
     ]
    },
    {
     "data": {
      "text/plain": [
       "'bb'"
      ]
     },
     "execution_count": 18,
     "metadata": {},
     "output_type": "execute_result"
    }
   ],
   "source": [
    "# save all shapefiles from the disturbance atlas\n",
    "final_shps = read_shps(\"../atlas/final_shps/\")\n",
    "final_shps[0][0]"
   ]
  },
  {
   "cell_type": "code",
   "execution_count": 19,
   "metadata": {},
   "outputs": [
    {
     "data": {
      "text/plain": [
       "'be'"
      ]
     },
     "execution_count": 19,
     "metadata": {},
     "output_type": "execute_result"
    }
   ],
   "source": [
    "# remove the brandenburg shapefile from the list as it is the basis of the final events.shp file\n",
    "del final_shps[0]\n",
    "final_shps[0][0] # should be \"be\" as it is the second file in the original list"
   ]
  },
  {
   "cell_type": "code",
   "execution_count": 20,
   "metadata": {},
   "outputs": [],
   "source": [
    "df_effis = gpd.read_file(\"../fire/effis_clean.shp\")\n",
    "df_forwind = gpd.read_file(\"../wind/forwind_clean.shp\")"
   ]
  },
  {
   "cell_type": "code",
   "execution_count": 21,
   "metadata": {},
   "outputs": [
    {
     "data": {
      "text/html": [
       "<div>\n",
       "<style scoped>\n",
       "    .dataframe tbody tr th:only-of-type {\n",
       "        vertical-align: middle;\n",
       "    }\n",
       "\n",
       "    .dataframe tbody tr th {\n",
       "        vertical-align: top;\n",
       "    }\n",
       "\n",
       "    .dataframe thead th {\n",
       "        text-align: right;\n",
       "    }\n",
       "</style>\n",
       "<table border=\"1\" class=\"dataframe\">\n",
       "  <thead>\n",
       "    <tr style=\"text-align: right;\">\n",
       "      <th></th>\n",
       "      <th>event_id</th>\n",
       "      <th>cause</th>\n",
       "      <th>year</th>\n",
       "      <th>month</th>\n",
       "      <th>day</th>\n",
       "      <th>ref_id</th>\n",
       "      <th>geometry</th>\n",
       "    </tr>\n",
       "  </thead>\n",
       "  <tbody>\n",
       "    <tr>\n",
       "      <th>0</th>\n",
       "      <td>e7604887</td>\n",
       "      <td>fire</td>\n",
       "      <td>2001</td>\n",
       "      <td>7</td>\n",
       "      <td>27</td>\n",
       "      <td>r7</td>\n",
       "      <td>POLYGON ((607515.213 5547583.801, 607505.385 5...</td>\n",
       "    </tr>\n",
       "    <tr>\n",
       "      <th>1</th>\n",
       "      <td>e7604888</td>\n",
       "      <td>fire</td>\n",
       "      <td>2001</td>\n",
       "      <td>8</td>\n",
       "      <td>15</td>\n",
       "      <td>r7</td>\n",
       "      <td>POLYGON ((495178.134 5800632.327, 495776.71 58...</td>\n",
       "    </tr>\n",
       "    <tr>\n",
       "      <th>2</th>\n",
       "      <td>e7604889</td>\n",
       "      <td>fire</td>\n",
       "      <td>2001</td>\n",
       "      <td>8</td>\n",
       "      <td>31</td>\n",
       "      <td>r7</td>\n",
       "      <td>POLYGON ((509194.928 5481528.603, 509513.214 5...</td>\n",
       "    </tr>\n",
       "    <tr>\n",
       "      <th>3</th>\n",
       "      <td>e7604890</td>\n",
       "      <td>fire</td>\n",
       "      <td>2003</td>\n",
       "      <td>2</td>\n",
       "      <td>19</td>\n",
       "      <td>r7</td>\n",
       "      <td>POLYGON ((552395.093 5423631.683, 552399.696 5...</td>\n",
       "    </tr>\n",
       "    <tr>\n",
       "      <th>4</th>\n",
       "      <td>e7604891</td>\n",
       "      <td>fire</td>\n",
       "      <td>2003</td>\n",
       "      <td>2</td>\n",
       "      <td>22</td>\n",
       "      <td>r7</td>\n",
       "      <td>POLYGON ((548209.282 5424082.36, 548852.545 54...</td>\n",
       "    </tr>\n",
       "  </tbody>\n",
       "</table>\n",
       "</div>"
      ],
      "text/plain": [
       "   event_id cause  year  month  day ref_id  \\\n",
       "0  e7604887  fire  2001      7   27     r7   \n",
       "1  e7604888  fire  2001      8   15     r7   \n",
       "2  e7604889  fire  2001      8   31     r7   \n",
       "3  e7604890  fire  2003      2   19     r7   \n",
       "4  e7604891  fire  2003      2   22     r7   \n",
       "\n",
       "                                            geometry  \n",
       "0  POLYGON ((607515.213 5547583.801, 607505.385 5...  \n",
       "1  POLYGON ((495178.134 5800632.327, 495776.71 58...  \n",
       "2  POLYGON ((509194.928 5481528.603, 509513.214 5...  \n",
       "3  POLYGON ((552395.093 5423631.683, 552399.696 5...  \n",
       "4  POLYGON ((548209.282 5424082.36, 548852.545 54...  "
      ]
     },
     "execution_count": 21,
     "metadata": {},
     "output_type": "execute_result"
    }
   ],
   "source": [
    "df_effis.head()"
   ]
  },
  {
   "cell_type": "code",
   "execution_count": 22,
   "metadata": {},
   "outputs": [
    {
     "data": {
      "text/html": [
       "<div>\n",
       "<style scoped>\n",
       "    .dataframe tbody tr th:only-of-type {\n",
       "        vertical-align: middle;\n",
       "    }\n",
       "\n",
       "    .dataframe tbody tr th {\n",
       "        vertical-align: top;\n",
       "    }\n",
       "\n",
       "    .dataframe thead th {\n",
       "        text-align: right;\n",
       "    }\n",
       "</style>\n",
       "<table border=\"1\" class=\"dataframe\">\n",
       "  <thead>\n",
       "    <tr style=\"text-align: right;\">\n",
       "      <th></th>\n",
       "      <th>event_id</th>\n",
       "      <th>cause</th>\n",
       "      <th>year</th>\n",
       "      <th>month</th>\n",
       "      <th>day</th>\n",
       "      <th>ref_id</th>\n",
       "      <th>geometry</th>\n",
       "    </tr>\n",
       "  </thead>\n",
       "  <tbody>\n",
       "    <tr>\n",
       "      <th>0</th>\n",
       "      <td>e7605002</td>\n",
       "      <td>wind/bark beetle</td>\n",
       "      <td>2007</td>\n",
       "      <td>1</td>\n",
       "      <td>7</td>\n",
       "      <td>r1</td>\n",
       "      <td>POLYGON ((328025.663 5583774.1, 328035.537 558...</td>\n",
       "    </tr>\n",
       "    <tr>\n",
       "      <th>1</th>\n",
       "      <td>e7605003</td>\n",
       "      <td>wind/bark beetle</td>\n",
       "      <td>2007</td>\n",
       "      <td>1</td>\n",
       "      <td>7</td>\n",
       "      <td>r1</td>\n",
       "      <td>POLYGON ((313165.015 5584316.621, 313182.886 5...</td>\n",
       "    </tr>\n",
       "    <tr>\n",
       "      <th>2</th>\n",
       "      <td>e7605004</td>\n",
       "      <td>wind/bark beetle</td>\n",
       "      <td>2007</td>\n",
       "      <td>1</td>\n",
       "      <td>7</td>\n",
       "      <td>r1</td>\n",
       "      <td>POLYGON ((339007.784 5583056.35, 339019.265 55...</td>\n",
       "    </tr>\n",
       "    <tr>\n",
       "      <th>3</th>\n",
       "      <td>e7605005</td>\n",
       "      <td>wind/bark beetle</td>\n",
       "      <td>2007</td>\n",
       "      <td>1</td>\n",
       "      <td>7</td>\n",
       "      <td>r1</td>\n",
       "      <td>POLYGON ((311824.819 5583968.284, 311832.874 5...</td>\n",
       "    </tr>\n",
       "    <tr>\n",
       "      <th>4</th>\n",
       "      <td>e7605006</td>\n",
       "      <td>wind/bark beetle</td>\n",
       "      <td>2007</td>\n",
       "      <td>1</td>\n",
       "      <td>7</td>\n",
       "      <td>r1</td>\n",
       "      <td>POLYGON ((326354.412 5583137.008, 326357.814 5...</td>\n",
       "    </tr>\n",
       "  </tbody>\n",
       "</table>\n",
       "</div>"
      ],
      "text/plain": [
       "   event_id             cause  year  month  day ref_id  \\\n",
       "0  e7605002  wind/bark beetle  2007      1    7     r1   \n",
       "1  e7605003  wind/bark beetle  2007      1    7     r1   \n",
       "2  e7605004  wind/bark beetle  2007      1    7     r1   \n",
       "3  e7605005  wind/bark beetle  2007      1    7     r1   \n",
       "4  e7605006  wind/bark beetle  2007      1    7     r1   \n",
       "\n",
       "                                            geometry  \n",
       "0  POLYGON ((328025.663 5583774.1, 328035.537 558...  \n",
       "1  POLYGON ((313165.015 5584316.621, 313182.886 5...  \n",
       "2  POLYGON ((339007.784 5583056.35, 339019.265 55...  \n",
       "3  POLYGON ((311824.819 5583968.284, 311832.874 5...  \n",
       "4  POLYGON ((326354.412 5583137.008, 326357.814 5...  "
      ]
     },
     "execution_count": 22,
     "metadata": {},
     "output_type": "execute_result"
    }
   ],
   "source": [
    "df_forwind.head()"
   ]
  },
  {
   "cell_type": "code",
   "execution_count": 23,
   "metadata": {},
   "outputs": [
    {
     "data": {
      "text/plain": [
       "17"
      ]
     },
     "execution_count": 23,
     "metadata": {},
     "output_type": "execute_result"
    }
   ],
   "source": [
    "# should now contain all data for the events.shp file\n",
    "final_shps.append([\"effis\", df_effis])\n",
    "final_shps.append([\"forwind\", df_forwind])\n",
    "len(final_shps)"
   ]
  },
  {
   "cell_type": "code",
   "execution_count": 24,
   "metadata": {},
   "outputs": [
    {
     "data": {
      "text/plain": [
       "('effis', 'forwind')"
      ]
     },
     "execution_count": 24,
     "metadata": {},
     "output_type": "execute_result"
    }
   ],
   "source": [
    "final_shps[15][0], final_shps[16][0]"
   ]
  },
  {
   "cell_type": "markdown",
   "metadata": {},
   "source": [
    "## Concatonate to the final shapefile\n",
    "\n",
    "take all disturbance event data and save it in one final shapefile"
   ]
  },
  {
   "cell_type": "code",
   "execution_count": 25,
   "metadata": {},
   "outputs": [],
   "source": [
    "i = 0\n",
    "for shp in final_shps: # take a shapefile from the list \n",
    "    event_shp = pd.concat([event_shp, shp[1]]) # concatonate said shapefile to the final events.shp file\n",
    "    del shp # garbage collection - free up memory??"
   ]
  },
  {
   "cell_type": "code",
   "execution_count": 26,
   "metadata": {},
   "outputs": [],
   "source": [
    "# lets test to see if it worked\n",
    "be = final_shps[0][1]"
   ]
  },
  {
   "cell_type": "code",
   "execution_count": 27,
   "metadata": {},
   "outputs": [
    {
     "data": {
      "text/plain": [
       "'e568952'"
      ]
     },
     "execution_count": 27,
     "metadata": {},
     "output_type": "execute_result"
    }
   ],
   "source": [
    "# get the id of the first row in the first shapefile \n",
    "first_row = be[\"event_id\"].iloc[0]\n",
    "first_row"
   ]
  },
  {
   "cell_type": "code",
   "execution_count": 28,
   "metadata": {},
   "outputs": [
    {
     "data": {
      "text/plain": [
       "True"
      ]
     },
     "execution_count": 28,
     "metadata": {},
     "output_type": "execute_result"
    }
   ],
   "source": [
    "# test to see if that first id is the only one in the shapefile\n",
    "first_row in event_shp[\"event_id\"].unique()"
   ]
  },
  {
   "cell_type": "code",
   "execution_count": 30,
   "metadata": {},
   "outputs": [
    {
     "data": {
      "text/plain": [
       "'e7623910'"
      ]
     },
     "execution_count": 30,
     "metadata": {},
     "output_type": "execute_result"
    }
   ],
   "source": [
    "# is the first row of the last shpefile in the event_shp?\n",
    "last_row = df_forwind[\"event_id\"].iloc[len(df_forwind.index) - 1]\n",
    "last_row"
   ]
  },
  {
   "cell_type": "code",
   "execution_count": 31,
   "metadata": {},
   "outputs": [
    {
     "data": {
      "text/plain": [
       "True"
      ]
     },
     "execution_count": 31,
     "metadata": {},
     "output_type": "execute_result"
    }
   ],
   "source": [
    "last_row in event_shp[\"event_id\"].unique()"
   ]
  },
  {
   "cell_type": "code",
   "execution_count": 32,
   "metadata": {},
   "outputs": [
    {
     "data": {
      "text/plain": [
       "array(['r5', 'r7', 'r1'], dtype=object)"
      ]
     },
     "execution_count": 32,
     "metadata": {},
     "output_type": "execute_result"
    }
   ],
   "source": [
    "# are all ref ids there?\n",
    "event_shp[\"ref_id\"].unique()"
   ]
  },
  {
   "cell_type": "markdown",
   "metadata": {},
   "source": [
    "Thus if the last row in the last shapefile in the list is in the event_shp then I must conclue that every shapefile is indeed included"
   ]
  },
  {
   "cell_type": "markdown",
   "metadata": {},
   "source": [
    "### Change all nan values to 0 and then type cast\n",
    "\n",
    "the nans were causing an issue when importing the data into postgresql"
   ]
  },
  {
   "cell_type": "code",
   "execution_count": 39,
   "metadata": {},
   "outputs": [],
   "source": [
    "# change all eligble nans into zeros\n",
    "event_shp = event_shp.fillna(0)"
   ]
  },
  {
   "cell_type": "code",
   "execution_count": 40,
   "metadata": {},
   "outputs": [
    {
     "data": {
      "text/plain": [
       "0    0\n",
       "1    0\n",
       "2    0\n",
       "3    0\n",
       "4    0\n",
       "Name: month, dtype: int32"
      ]
     },
     "execution_count": 40,
     "metadata": {},
     "output_type": "execute_result"
    }
   ],
   "source": [
    "# month needs extra worl - change to int\n",
    "event_shp['month'] = event_shp['month'].astype(\"int32\")\n",
    "event_shp[\"month\"].head()"
   ]
  },
  {
   "cell_type": "code",
   "execution_count": 41,
   "metadata": {},
   "outputs": [
    {
     "data": {
      "text/plain": [
       "0    0\n",
       "1    0\n",
       "2    0\n",
       "3    0\n",
       "4    0\n",
       "Name: day, dtype: int32"
      ]
     },
     "execution_count": 41,
     "metadata": {},
     "output_type": "execute_result"
    }
   ],
   "source": [
    "event_shp[\"day\"] = event_shp[\"day\"].astype(\"int32\")\n",
    "event_shp[\"day\"].head()"
   ]
  },
  {
   "cell_type": "code",
   "execution_count": 42,
   "metadata": {},
   "outputs": [
    {
     "data": {
      "text/plain": [
       "0    1987\n",
       "1    1987\n",
       "2    1987\n",
       "3    2015\n",
       "4    1993\n",
       "Name: year, dtype: int32"
      ]
     },
     "execution_count": 42,
     "metadata": {},
     "output_type": "execute_result"
    }
   ],
   "source": [
    "event_shp[\"year\"] = event_shp[\"year\"].astype(\"int32\")\n",
    "event_shp[\"year\"].head()"
   ]
  },
  {
   "cell_type": "code",
   "execution_count": 43,
   "metadata": {},
   "outputs": [
    {
     "data": {
      "text/plain": [
       "event_id      object\n",
       "cause         object\n",
       "year           int32\n",
       "month          int32\n",
       "day            int32\n",
       "ref_id        object\n",
       "geometry    geometry\n",
       "dtype: object"
      ]
     },
     "execution_count": 43,
     "metadata": {},
     "output_type": "execute_result"
    }
   ],
   "source": [
    "event_shp.dtypes"
   ]
  },
  {
   "cell_type": "markdown",
   "metadata": {},
   "source": [
    "### save the shapefile and pray"
   ]
  },
  {
   "cell_type": "code",
   "execution_count": 44,
   "metadata": {},
   "outputs": [
    {
     "name": "stderr",
     "output_type": "stream",
     "text": [
      "/home/teemo/anaconda3/lib/python3.11/site-packages/pyogrio/raw.py:723: RuntimeWarning: 2GB file size limit reached for ../events/events.shp. Going on, but might cause compatibility issues with third party software\n",
      "  ogr_write(\n"
     ]
    }
   ],
   "source": [
    "# the final shapefile destined for the database had been completed - time to save\n",
    "event_shp_fp = \"../events/\"\n",
    "event_shp.to_file(event_shp_fp + \"events.shp\")"
   ]
  },
  {
   "cell_type": "code",
   "execution_count": null,
   "metadata": {},
   "outputs": [],
   "source": [
    "event_shp = gpd.read_file(\"../events_shp/events_shp.shp\")"
   ]
  },
  {
   "cell_type": "markdown",
   "metadata": {},
   "source": [
    "# Touching up the references and species codes tables"
   ]
  },
  {
   "cell_type": "code",
   "execution_count": null,
   "metadata": {},
   "outputs": [],
   "source": [
    "#ref = pd.read_csv(\"../csv_data/references.csv\")\n",
    "codes = pd.read_csv(\"../csv_data/tree_species_code.csv\", sep= \";\")"
   ]
  },
  {
   "cell_type": "code",
   "execution_count": null,
   "metadata": {},
   "outputs": [],
   "source": [
    "ref.dtypes"
   ]
  },
  {
   "cell_type": "code",
   "execution_count": null,
   "metadata": {},
   "outputs": [],
   "source": [
    "ref.tail()"
   ]
  },
  {
   "cell_type": "code",
   "execution_count": null,
   "metadata": {},
   "outputs": [],
   "source": [
    "#ref = ref.drop(columns= [\"Unnamed: 0\"])\n",
    "ref.head()"
   ]
  },
  {
   "cell_type": "code",
   "execution_count": null,
   "metadata": {},
   "outputs": [],
   "source": [
    "ref.iloc[len(ref.index) -1]"
   ]
  },
  {
   "cell_type": "code",
   "execution_count": null,
   "metadata": {},
   "outputs": [],
   "source": [
    "# pd.to_numeric(s, downcast='signed')\n",
    "ref[\"publish_date\"] = pd.to_numeric(ref[\"publish_date\"], downcast='signed')"
   ]
  },
  {
   "cell_type": "code",
   "execution_count": null,
   "metadata": {},
   "outputs": [],
   "source": [
    "ref.dtypes"
   ]
  },
  {
   "cell_type": "code",
   "execution_count": null,
   "metadata": {},
   "outputs": [],
   "source": [
    "codes.dtypes"
   ]
  },
  {
   "cell_type": "code",
   "execution_count": null,
   "metadata": {},
   "outputs": [],
   "source": [
    "codes.tail()"
   ]
  },
  {
   "cell_type": "code",
   "execution_count": null,
   "metadata": {},
   "outputs": [],
   "source": [
    "# df_effis[\"event_id\"] = [\"e\" + str(idx + i) for i in range(0, (len(df_effis.index)))]\n",
    "# codes[\"species_code\"] = [\"s\" + str(i + 1) for i in range(0, (len(codes.index)))]"
   ]
  },
  {
   "cell_type": "code",
   "execution_count": null,
   "metadata": {},
   "outputs": [],
   "source": [
    "codes.head()"
   ]
  },
  {
   "cell_type": "code",
   "execution_count": null,
   "metadata": {},
   "outputs": [],
   "source": [
    "codes.dtypes"
   ]
  },
  {
   "cell_type": "code",
   "execution_count": null,
   "metadata": {},
   "outputs": [],
   "source": [
    "ref.to_csv(\"../csv_data/references.csv\", index= False, sep= \";\")"
   ]
  },
  {
   "cell_type": "code",
   "execution_count": null,
   "metadata": {},
   "outputs": [],
   "source": [
    "codes = codes.drop(columns= [\"Unnamed: 0\"])\n",
    "codes.head()"
   ]
  },
  {
   "cell_type": "code",
   "execution_count": null,
   "metadata": {},
   "outputs": [],
   "source": [
    "#df['range'] = df['range'].str.replace(',','-')\n",
    "codes[\"scientific_name\"] = codes[\"scientific_name\"].str.replace(\";\", \",\")\n",
    "codes[\"german_name\"] = codes[\"scientific_name\"].str.replace(\";\", \",\")\n",
    "codes.head()"
   ]
  },
  {
   "cell_type": "code",
   "execution_count": null,
   "metadata": {},
   "outputs": [],
   "source": [
    "codes[\"ref_id\"] = \"r6\"\n",
    "codes.head()"
   ]
  },
  {
   "cell_type": "code",
   "execution_count": null,
   "metadata": {},
   "outputs": [],
   "source": [
    "codes.to_csv(\"../csv_data/tree_species_code.csv\", index= False, sep= \";\")"
   ]
  },
  {
   "cell_type": "markdown",
   "metadata": {},
   "source": [
    "# Making some graphs"
   ]
  },
  {
   "cell_type": "code",
   "execution_count": 45,
   "metadata": {},
   "outputs": [],
   "source": [
    "import matplotlib.pyplot as plt"
   ]
  },
  {
   "cell_type": "markdown",
   "metadata": {},
   "source": [
    "## Read in the data"
   ]
  },
  {
   "cell_type": "code",
   "execution_count": 46,
   "metadata": {},
   "outputs": [
    {
     "data": {
      "text/html": [
       "<div>\n",
       "<style scoped>\n",
       "    .dataframe tbody tr th:only-of-type {\n",
       "        vertical-align: middle;\n",
       "    }\n",
       "\n",
       "    .dataframe tbody tr th {\n",
       "        vertical-align: top;\n",
       "    }\n",
       "\n",
       "    .dataframe thead th {\n",
       "        text-align: right;\n",
       "    }\n",
       "</style>\n",
       "<table border=\"1\" class=\"dataframe\">\n",
       "  <thead>\n",
       "    <tr style=\"text-align: right;\">\n",
       "      <th></th>\n",
       "      <th>event_id</th>\n",
       "      <th>cause</th>\n",
       "      <th>year</th>\n",
       "      <th>month</th>\n",
       "      <th>day</th>\n",
       "      <th>ref_id</th>\n",
       "      <th>geometry</th>\n",
       "    </tr>\n",
       "  </thead>\n",
       "  <tbody>\n",
       "    <tr>\n",
       "      <th>0</th>\n",
       "      <td>e0</td>\n",
       "      <td>harvest</td>\n",
       "      <td>1987</td>\n",
       "      <td>0</td>\n",
       "      <td>0</td>\n",
       "      <td>r5</td>\n",
       "      <td>POLYGON ((821160 5940420, 821190 5940420, 8211...</td>\n",
       "    </tr>\n",
       "    <tr>\n",
       "      <th>1</th>\n",
       "      <td>e1</td>\n",
       "      <td>harvest</td>\n",
       "      <td>1987</td>\n",
       "      <td>0</td>\n",
       "      <td>0</td>\n",
       "      <td>r5</td>\n",
       "      <td>POLYGON ((821220 5940390, 821280 5940390, 8212...</td>\n",
       "    </tr>\n",
       "    <tr>\n",
       "      <th>2</th>\n",
       "      <td>e2</td>\n",
       "      <td>harvest</td>\n",
       "      <td>1987</td>\n",
       "      <td>0</td>\n",
       "      <td>0</td>\n",
       "      <td>r5</td>\n",
       "      <td>POLYGON ((821310 5940330, 821370 5940330, 8213...</td>\n",
       "    </tr>\n",
       "    <tr>\n",
       "      <th>3</th>\n",
       "      <td>e3</td>\n",
       "      <td>harvest</td>\n",
       "      <td>2015</td>\n",
       "      <td>0</td>\n",
       "      <td>0</td>\n",
       "      <td>r5</td>\n",
       "      <td>POLYGON ((821850 5940150, 821880 5940150, 8218...</td>\n",
       "    </tr>\n",
       "    <tr>\n",
       "      <th>4</th>\n",
       "      <td>e4</td>\n",
       "      <td>harvest</td>\n",
       "      <td>1993</td>\n",
       "      <td>0</td>\n",
       "      <td>0</td>\n",
       "      <td>r5</td>\n",
       "      <td>POLYGON ((822060 5939940, 822120 5939940, 8221...</td>\n",
       "    </tr>\n",
       "  </tbody>\n",
       "</table>\n",
       "</div>"
      ],
      "text/plain": [
       "  event_id    cause  year  month  day ref_id  \\\n",
       "0       e0  harvest  1987      0    0     r5   \n",
       "1       e1  harvest  1987      0    0     r5   \n",
       "2       e2  harvest  1987      0    0     r5   \n",
       "3       e3  harvest  2015      0    0     r5   \n",
       "4       e4  harvest  1993      0    0     r5   \n",
       "\n",
       "                                            geometry  \n",
       "0  POLYGON ((821160 5940420, 821190 5940420, 8211...  \n",
       "1  POLYGON ((821220 5940390, 821280 5940390, 8212...  \n",
       "2  POLYGON ((821310 5940330, 821370 5940330, 8213...  \n",
       "3  POLYGON ((821850 5940150, 821880 5940150, 8218...  \n",
       "4  POLYGON ((822060 5939940, 822120 5939940, 8221...  "
      ]
     },
     "execution_count": 46,
     "metadata": {},
     "output_type": "execute_result"
    }
   ],
   "source": [
    "shp_fp = \"../events/events.shp\" # \"../events/events.shp\"\n",
    "shp = gpd.read_file(shp_fp)\n",
    "shp.head()"
   ]
  },
  {
   "cell_type": "code",
   "execution_count": 51,
   "metadata": {},
   "outputs": [],
   "source": [
    "# keep original data safe\n",
    "df = shp.copy(deep= True)"
   ]
  },
  {
   "cell_type": "code",
   "execution_count": 48,
   "metadata": {},
   "outputs": [
    {
     "data": {
      "text/plain": [
       "array([1987, 2015, 1993, 2011, 2014, 2009, 2007, 2016, 2021, 1989, 1992,\n",
       "       1990, 1997, 2019, 1994, 1998, 1996, 2018, 1995, 1986, 1985, 2005,\n",
       "       2006, 2004, 1999, 2020, 2008, 1988, 2012, 2002, 1991, 2001, 2010,\n",
       "       2017, 2003, 2013, 2000], dtype=int32)"
      ]
     },
     "execution_count": 48,
     "metadata": {},
     "output_type": "execute_result"
    }
   ],
   "source": [
    "df[\"year\"].unique()"
   ]
  },
  {
   "cell_type": "code",
   "execution_count": 54,
   "metadata": {},
   "outputs": [],
   "source": [
    "# gdf['area_ha'] = gdf.geometry.area / 10000\n",
    "df[\"area\"] = df.geometry.area / 10000"
   ]
  },
  {
   "cell_type": "code",
   "execution_count": 55,
   "metadata": {},
   "outputs": [
    {
     "data": {
      "text/html": [
       "<div>\n",
       "<style scoped>\n",
       "    .dataframe tbody tr th:only-of-type {\n",
       "        vertical-align: middle;\n",
       "    }\n",
       "\n",
       "    .dataframe tbody tr th {\n",
       "        vertical-align: top;\n",
       "    }\n",
       "\n",
       "    .dataframe thead th {\n",
       "        text-align: right;\n",
       "    }\n",
       "</style>\n",
       "<table border=\"1\" class=\"dataframe\">\n",
       "  <thead>\n",
       "    <tr style=\"text-align: right;\">\n",
       "      <th></th>\n",
       "      <th>event_id</th>\n",
       "      <th>cause</th>\n",
       "      <th>year</th>\n",
       "      <th>month</th>\n",
       "      <th>day</th>\n",
       "      <th>ref_id</th>\n",
       "      <th>geometry</th>\n",
       "      <th>area</th>\n",
       "    </tr>\n",
       "  </thead>\n",
       "  <tbody>\n",
       "    <tr>\n",
       "      <th>0</th>\n",
       "      <td>e0</td>\n",
       "      <td>harvest</td>\n",
       "      <td>1987</td>\n",
       "      <td>0</td>\n",
       "      <td>0</td>\n",
       "      <td>r5</td>\n",
       "      <td>POLYGON ((821160 5940420, 821190 5940420, 8211...</td>\n",
       "      <td>0.09</td>\n",
       "    </tr>\n",
       "    <tr>\n",
       "      <th>1</th>\n",
       "      <td>e1</td>\n",
       "      <td>harvest</td>\n",
       "      <td>1987</td>\n",
       "      <td>0</td>\n",
       "      <td>0</td>\n",
       "      <td>r5</td>\n",
       "      <td>POLYGON ((821220 5940390, 821280 5940390, 8212...</td>\n",
       "      <td>0.18</td>\n",
       "    </tr>\n",
       "    <tr>\n",
       "      <th>2</th>\n",
       "      <td>e2</td>\n",
       "      <td>harvest</td>\n",
       "      <td>1987</td>\n",
       "      <td>0</td>\n",
       "      <td>0</td>\n",
       "      <td>r5</td>\n",
       "      <td>POLYGON ((821310 5940330, 821370 5940330, 8213...</td>\n",
       "      <td>0.54</td>\n",
       "    </tr>\n",
       "    <tr>\n",
       "      <th>3</th>\n",
       "      <td>e3</td>\n",
       "      <td>harvest</td>\n",
       "      <td>2015</td>\n",
       "      <td>0</td>\n",
       "      <td>0</td>\n",
       "      <td>r5</td>\n",
       "      <td>POLYGON ((821850 5940150, 821880 5940150, 8218...</td>\n",
       "      <td>0.36</td>\n",
       "    </tr>\n",
       "    <tr>\n",
       "      <th>4</th>\n",
       "      <td>e4</td>\n",
       "      <td>harvest</td>\n",
       "      <td>1993</td>\n",
       "      <td>0</td>\n",
       "      <td>0</td>\n",
       "      <td>r5</td>\n",
       "      <td>POLYGON ((822060 5939940, 822120 5939940, 8221...</td>\n",
       "      <td>0.18</td>\n",
       "    </tr>\n",
       "  </tbody>\n",
       "</table>\n",
       "</div>"
      ],
      "text/plain": [
       "  event_id    cause  year  month  day ref_id  \\\n",
       "0       e0  harvest  1987      0    0     r5   \n",
       "1       e1  harvest  1987      0    0     r5   \n",
       "2       e2  harvest  1987      0    0     r5   \n",
       "3       e3  harvest  2015      0    0     r5   \n",
       "4       e4  harvest  1993      0    0     r5   \n",
       "\n",
       "                                            geometry  area  \n",
       "0  POLYGON ((821160 5940420, 821190 5940420, 8211...  0.09  \n",
       "1  POLYGON ((821220 5940390, 821280 5940390, 8212...  0.18  \n",
       "2  POLYGON ((821310 5940330, 821370 5940330, 8213...  0.54  \n",
       "3  POLYGON ((821850 5940150, 821880 5940150, 8218...  0.36  \n",
       "4  POLYGON ((822060 5939940, 822120 5939940, 8221...  0.18  "
      ]
     },
     "execution_count": 55,
     "metadata": {},
     "output_type": "execute_result"
    }
   ],
   "source": [
    "df.head()"
   ]
  },
  {
   "cell_type": "markdown",
   "metadata": {},
   "source": [
    "## group year and cause together to calculate the sum of area of each disturbance type for each year"
   ]
  },
  {
   "cell_type": "code",
   "execution_count": 57,
   "metadata": {},
   "outputs": [
    {
     "data": {
      "text/html": [
       "<div>\n",
       "<style scoped>\n",
       "    .dataframe tbody tr th:only-of-type {\n",
       "        vertical-align: middle;\n",
       "    }\n",
       "\n",
       "    .dataframe tbody tr th {\n",
       "        vertical-align: top;\n",
       "    }\n",
       "\n",
       "    .dataframe thead th {\n",
       "        text-align: right;\n",
       "    }\n",
       "</style>\n",
       "<table border=\"1\" class=\"dataframe\">\n",
       "  <thead>\n",
       "    <tr style=\"text-align: right;\">\n",
       "      <th></th>\n",
       "      <th>year</th>\n",
       "      <th>cause</th>\n",
       "      <th>area</th>\n",
       "    </tr>\n",
       "  </thead>\n",
       "  <tbody>\n",
       "    <tr>\n",
       "      <th>143</th>\n",
       "      <td>2020</td>\n",
       "      <td>wind/bark beetle</td>\n",
       "      <td>207560.520000</td>\n",
       "    </tr>\n",
       "    <tr>\n",
       "      <th>144</th>\n",
       "      <td>2021</td>\n",
       "      <td>aggregation</td>\n",
       "      <td>559707.120000</td>\n",
       "    </tr>\n",
       "    <tr>\n",
       "      <th>145</th>\n",
       "      <td>2021</td>\n",
       "      <td>fire</td>\n",
       "      <td>8194.686598</td>\n",
       "    </tr>\n",
       "    <tr>\n",
       "      <th>146</th>\n",
       "      <td>2021</td>\n",
       "      <td>harvest</td>\n",
       "      <td>570539.700000</td>\n",
       "    </tr>\n",
       "    <tr>\n",
       "      <th>147</th>\n",
       "      <td>2021</td>\n",
       "      <td>wind/bark beetle</td>\n",
       "      <td>325234.350000</td>\n",
       "    </tr>\n",
       "  </tbody>\n",
       "</table>\n",
       "</div>"
      ],
      "text/plain": [
       "     year             cause           area\n",
       "143  2020  wind/bark beetle  207560.520000\n",
       "144  2021       aggregation  559707.120000\n",
       "145  2021              fire    8194.686598\n",
       "146  2021           harvest  570539.700000\n",
       "147  2021  wind/bark beetle  325234.350000"
      ]
     },
     "execution_count": 57,
     "metadata": {},
     "output_type": "execute_result"
    }
   ],
   "source": [
    "# Step 2: Group by 'year' and 'cause' and sum the areas\n",
    "# grouped = gdf.groupby(['year', 'cause'])['area_ha'].sum().reset_index()\n",
    "grouped = df.groupby([\"year\", \"cause\"])[\"area\"].sum().reset_index()\n",
    "grouped.tail()"
   ]
  },
  {
   "cell_type": "markdown",
   "metadata": {},
   "source": [
    "## reshape the dataframe for graphing\n",
    "\n",
    "the index is the year\n",
    "- a column for each disturbance type is given\n",
    "- the values of each column are filled by the summed area from previously"
   ]
  },
  {
   "cell_type": "code",
   "execution_count": 58,
   "metadata": {},
   "outputs": [],
   "source": [
    "pivot_df = grouped.pivot(index='year', columns='cause', values='area')"
   ]
  },
  {
   "cell_type": "code",
   "execution_count": 59,
   "metadata": {},
   "outputs": [
    {
     "data": {
      "text/html": [
       "<div>\n",
       "<style scoped>\n",
       "    .dataframe tbody tr th:only-of-type {\n",
       "        vertical-align: middle;\n",
       "    }\n",
       "\n",
       "    .dataframe tbody tr th {\n",
       "        vertical-align: top;\n",
       "    }\n",
       "\n",
       "    .dataframe thead th {\n",
       "        text-align: right;\n",
       "    }\n",
       "</style>\n",
       "<table border=\"1\" class=\"dataframe\">\n",
       "  <thead>\n",
       "    <tr style=\"text-align: right;\">\n",
       "      <th>cause</th>\n",
       "      <th>aggregation</th>\n",
       "      <th>fire</th>\n",
       "      <th>harvest</th>\n",
       "      <th>wind/bark beetle</th>\n",
       "    </tr>\n",
       "    <tr>\n",
       "      <th>year</th>\n",
       "      <th></th>\n",
       "      <th></th>\n",
       "      <th></th>\n",
       "      <th></th>\n",
       "    </tr>\n",
       "  </thead>\n",
       "  <tbody>\n",
       "    <tr>\n",
       "      <th>1985</th>\n",
       "      <td>38739.60</td>\n",
       "      <td>223.20</td>\n",
       "      <td>52506.72</td>\n",
       "      <td>45318.96</td>\n",
       "    </tr>\n",
       "    <tr>\n",
       "      <th>1986</th>\n",
       "      <td>392066.10</td>\n",
       "      <td>73328.58</td>\n",
       "      <td>361436.94</td>\n",
       "      <td>345522.51</td>\n",
       "    </tr>\n",
       "    <tr>\n",
       "      <th>1987</th>\n",
       "      <td>32399.73</td>\n",
       "      <td>1530.45</td>\n",
       "      <td>51447.51</td>\n",
       "      <td>34434.27</td>\n",
       "    </tr>\n",
       "    <tr>\n",
       "      <th>1988</th>\n",
       "      <td>339766.20</td>\n",
       "      <td>7247.25</td>\n",
       "      <td>302996.61</td>\n",
       "      <td>355847.85</td>\n",
       "    </tr>\n",
       "    <tr>\n",
       "      <th>1989</th>\n",
       "      <td>36797.58</td>\n",
       "      <td>967.50</td>\n",
       "      <td>57351.78</td>\n",
       "      <td>40485.69</td>\n",
       "    </tr>\n",
       "  </tbody>\n",
       "</table>\n",
       "</div>"
      ],
      "text/plain": [
       "cause  aggregation      fire    harvest  wind/bark beetle\n",
       "year                                                     \n",
       "1985      38739.60    223.20   52506.72          45318.96\n",
       "1986     392066.10  73328.58  361436.94         345522.51\n",
       "1987      32399.73   1530.45   51447.51          34434.27\n",
       "1988     339766.20   7247.25  302996.61         355847.85\n",
       "1989      36797.58    967.50   57351.78          40485.69"
      ]
     },
     "execution_count": 59,
     "metadata": {},
     "output_type": "execute_result"
    }
   ],
   "source": [
    "pivot_df.head()"
   ]
  },
  {
   "cell_type": "markdown",
   "metadata": {},
   "source": [
    "## plot graphs:"
   ]
  },
  {
   "cell_type": "code",
   "execution_count": null,
   "metadata": {},
   "outputs": [
    {
     "data": {
      "image/png": "[encoded data removed]",
      "text/plain": [
       "<Figure size 1000x600 with 1 Axes>"
      ]
     },
     "metadata": {},
     "output_type": "display_data"
    }
   ],
   "source": [
    "# line graph\n",
    "pivot_df.plot(kind='line', marker='o', figsize=(10, 6))\n",
    "plt.xlabel('Year')\n",
    "plt.ylabel('Total Area (ha)')\n",
    "plt.title('Change in area by disturbance over time in Germany')\n",
    "plt.legend(title='Disturbance type')\n",
    "plt.grid(True)\n",
    "plt.savefig(\"../events/events_over_time\", format=\"pdf\", bbox_inches=\"tight\")\n",
    "plt.show()"
   ]
  },
  {
   "cell_type": "code",
   "execution_count": 69,
   "metadata": {},
   "outputs": [
    {
     "data": {
      "image/png": "[encoded data removed]",
      "text/plain": [
       "<Figure size 1000x600 with 1 Axes>"
      ]
     },
     "metadata": {},
     "output_type": "display_data"
    }
   ],
   "source": [
    "# stacked bar graph\n",
    "pivot_df.plot(kind='bar', stacked=True, figsize=(10, 6))\n",
    "\n",
    "plt.xlabel('Year')\n",
    "plt.ylabel('Total Area (ha in millions)') \n",
    "plt.title('Total disturbed area by disturbance type and year')\n",
    "plt.legend(title='Disturbance type')\n",
    "plt.grid(True)\n",
    "plt.tight_layout()\n",
    "plt.savefig(\"../events/stacked_bar\", format=\"png\", bbox_inches=\"tight\")\n",
    "plt.show()"
   ]
  }
 ],
 "metadata": {
  "kernelspec": {
   "display_name": "base",
   "language": "python",
   "name": "python3"
  },
  "language_info": {
   "codemirror_mode": {
    "name": "ipython",
    "version": 3
   },
   "file_extension": ".py",
   "mimetype": "text/x-python",
   "name": "python",
   "nbconvert_exporter": "python",
   "pygments_lexer": "ipython3",
   "version": "3.11.5"
  }
 },
 "nbformat": 4,
 "nbformat_minor": 2
}
